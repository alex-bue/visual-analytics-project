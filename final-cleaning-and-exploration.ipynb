{
 "cells": [
  {
   "cell_type": "code",
   "execution_count": 29,
   "metadata": {},
   "outputs": [],
   "source": [
    "# Imports\n",
    "import pandas as pd\n",
    "import numpy as np\n",
    "import matplotlib.pyplot as plt\n",
    "import seaborn as sns\n",
    "import datetime as dt"
   ]
  },
  {
   "attachments": {},
   "cell_type": "markdown",
   "metadata": {},
   "source": [
    "### Data Exploration (Germany)"
   ]
  },
  {
   "cell_type": "code",
   "execution_count": null,
   "metadata": {},
   "outputs": [
    {
     "data": {
      "text/plain": "   Unnamed: 0  avg_lat_ms  tests  devices     quarter category      long  \\\n0           0          43      4        2  2019-01-01    fixed  8.415527   \n1           1          34      1        1  2019-01-01    fixed  8.421021   \n2           2          29      1        1  2019-01-01    fixed  8.426514   \n3           3          40      2        1  2019-01-01    fixed  8.432007   \n4           4          33      4        3  2019-01-01    fixed  8.421021   \n\n         lat  country  avg_d_mbps  avg_u_mbps  \n0  55.024873  Germany           8           1  \n1  55.024873  Germany          33           9  \n2  55.024873  Germany          24          11  \n3  55.024873  Germany          35           7  \n4  55.021725  Germany           7           2  ",
      "text/html": "<div>\n<style scoped>\n    .dataframe tbody tr th:only-of-type {\n        vertical-align: middle;\n    }\n\n    .dataframe tbody tr th {\n        vertical-align: top;\n    }\n\n    .dataframe thead th {\n        text-align: right;\n    }\n</style>\n<table border=\"1\" class=\"dataframe\">\n  <thead>\n    <tr style=\"text-align: right;\">\n      <th></th>\n      <th>Unnamed: 0</th>\n      <th>avg_lat_ms</th>\n      <th>tests</th>\n      <th>devices</th>\n      <th>quarter</th>\n      <th>category</th>\n      <th>long</th>\n      <th>lat</th>\n      <th>country</th>\n      <th>avg_d_mbps</th>\n      <th>avg_u_mbps</th>\n    </tr>\n  </thead>\n  <tbody>\n    <tr>\n      <th>0</th>\n      <td>0</td>\n      <td>43</td>\n      <td>4</td>\n      <td>2</td>\n      <td>2019-01-01</td>\n      <td>fixed</td>\n      <td>8.415527</td>\n      <td>55.024873</td>\n      <td>Germany</td>\n      <td>8</td>\n      <td>1</td>\n    </tr>\n    <tr>\n      <th>1</th>\n      <td>1</td>\n      <td>34</td>\n      <td>1</td>\n      <td>1</td>\n      <td>2019-01-01</td>\n      <td>fixed</td>\n      <td>8.421021</td>\n      <td>55.024873</td>\n      <td>Germany</td>\n      <td>33</td>\n      <td>9</td>\n    </tr>\n    <tr>\n      <th>2</th>\n      <td>2</td>\n      <td>29</td>\n      <td>1</td>\n      <td>1</td>\n      <td>2019-01-01</td>\n      <td>fixed</td>\n      <td>8.426514</td>\n      <td>55.024873</td>\n      <td>Germany</td>\n      <td>24</td>\n      <td>11</td>\n    </tr>\n    <tr>\n      <th>3</th>\n      <td>3</td>\n      <td>40</td>\n      <td>2</td>\n      <td>1</td>\n      <td>2019-01-01</td>\n      <td>fixed</td>\n      <td>8.432007</td>\n      <td>55.024873</td>\n      <td>Germany</td>\n      <td>35</td>\n      <td>7</td>\n    </tr>\n    <tr>\n      <th>4</th>\n      <td>4</td>\n      <td>33</td>\n      <td>4</td>\n      <td>3</td>\n      <td>2019-01-01</td>\n      <td>fixed</td>\n      <td>8.421021</td>\n      <td>55.021725</td>\n      <td>Germany</td>\n      <td>7</td>\n      <td>2</td>\n    </tr>\n  </tbody>\n</table>\n</div>"
     },
     "execution_count": 32,
     "metadata": {},
     "output_type": "execute_result"
    },
    {
     "ename": "KeyboardInterrupt",
     "evalue": "",
     "output_type": "error",
     "traceback": [
      "\u001B[1;31m---------------------------------------------------------------------------\u001B[0m",
      "\u001B[1;31mKeyboardInterrupt\u001B[0m                         Traceback (most recent call last)",
      "Cell \u001B[1;32mIn[33], line 3\u001B[0m\n\u001B[0;32m      1\u001B[0m \u001B[38;5;66;03m# Germany\u001B[39;00m\n\u001B[0;32m      2\u001B[0m \u001B[38;5;66;03m# df_germany = pd.read_csv('./data/final_data/germany_final.csv', sep=';')\u001B[39;00m\n\u001B[1;32m----> 3\u001B[0m df_germany \u001B[38;5;241m=\u001B[39m \u001B[43mpd\u001B[49m\u001B[38;5;241;43m.\u001B[39;49m\u001B[43mread_csv\u001B[49m\u001B[43m(\u001B[49m\u001B[38;5;124;43m'\u001B[39;49m\u001B[38;5;124;43m../../Documents/Master/Semester1/Visual_Analytics/Data_Input_final/germany_final_2.csv\u001B[39;49m\u001B[38;5;124;43m'\u001B[39;49m\u001B[43m,\u001B[49m\u001B[43m \u001B[49m\u001B[43msep\u001B[49m\u001B[38;5;241;43m=\u001B[39;49m\u001B[38;5;124;43m'\u001B[39;49m\u001B[38;5;124;43m,\u001B[39;49m\u001B[38;5;124;43m'\u001B[39;49m\u001B[43m)\u001B[49m\n\u001B[0;32m      4\u001B[0m df_germany\u001B[38;5;241m.\u001B[39mhead()\n",
      "File \u001B[1;32m~\\anaconda3\\envs\\Test2\\lib\\site-packages\\pandas\\util\\_decorators.py:211\u001B[0m, in \u001B[0;36mdeprecate_kwarg.<locals>._deprecate_kwarg.<locals>.wrapper\u001B[1;34m(*args, **kwargs)\u001B[0m\n\u001B[0;32m    209\u001B[0m     \u001B[38;5;28;01melse\u001B[39;00m:\n\u001B[0;32m    210\u001B[0m         kwargs[new_arg_name] \u001B[38;5;241m=\u001B[39m new_arg_value\n\u001B[1;32m--> 211\u001B[0m \u001B[38;5;28;01mreturn\u001B[39;00m \u001B[43mfunc\u001B[49m\u001B[43m(\u001B[49m\u001B[38;5;241;43m*\u001B[39;49m\u001B[43margs\u001B[49m\u001B[43m,\u001B[49m\u001B[43m \u001B[49m\u001B[38;5;241;43m*\u001B[39;49m\u001B[38;5;241;43m*\u001B[39;49m\u001B[43mkwargs\u001B[49m\u001B[43m)\u001B[49m\n",
      "File \u001B[1;32m~\\anaconda3\\envs\\Test2\\lib\\site-packages\\pandas\\util\\_decorators.py:331\u001B[0m, in \u001B[0;36mdeprecate_nonkeyword_arguments.<locals>.decorate.<locals>.wrapper\u001B[1;34m(*args, **kwargs)\u001B[0m\n\u001B[0;32m    325\u001B[0m \u001B[38;5;28;01mif\u001B[39;00m \u001B[38;5;28mlen\u001B[39m(args) \u001B[38;5;241m>\u001B[39m num_allow_args:\n\u001B[0;32m    326\u001B[0m     warnings\u001B[38;5;241m.\u001B[39mwarn(\n\u001B[0;32m    327\u001B[0m         msg\u001B[38;5;241m.\u001B[39mformat(arguments\u001B[38;5;241m=\u001B[39m_format_argument_list(allow_args)),\n\u001B[0;32m    328\u001B[0m         \u001B[38;5;167;01mFutureWarning\u001B[39;00m,\n\u001B[0;32m    329\u001B[0m         stacklevel\u001B[38;5;241m=\u001B[39mfind_stack_level(),\n\u001B[0;32m    330\u001B[0m     )\n\u001B[1;32m--> 331\u001B[0m \u001B[38;5;28;01mreturn\u001B[39;00m \u001B[43mfunc\u001B[49m\u001B[43m(\u001B[49m\u001B[38;5;241;43m*\u001B[39;49m\u001B[43margs\u001B[49m\u001B[43m,\u001B[49m\u001B[43m \u001B[49m\u001B[38;5;241;43m*\u001B[39;49m\u001B[38;5;241;43m*\u001B[39;49m\u001B[43mkwargs\u001B[49m\u001B[43m)\u001B[49m\n",
      "File \u001B[1;32m~\\anaconda3\\envs\\Test2\\lib\\site-packages\\pandas\\io\\parsers\\readers.py:950\u001B[0m, in \u001B[0;36mread_csv\u001B[1;34m(filepath_or_buffer, sep, delimiter, header, names, index_col, usecols, squeeze, prefix, mangle_dupe_cols, dtype, engine, converters, true_values, false_values, skipinitialspace, skiprows, skipfooter, nrows, na_values, keep_default_na, na_filter, verbose, skip_blank_lines, parse_dates, infer_datetime_format, keep_date_col, date_parser, dayfirst, cache_dates, iterator, chunksize, compression, thousands, decimal, lineterminator, quotechar, quoting, doublequote, escapechar, comment, encoding, encoding_errors, dialect, error_bad_lines, warn_bad_lines, on_bad_lines, delim_whitespace, low_memory, memory_map, float_precision, storage_options)\u001B[0m\n\u001B[0;32m    935\u001B[0m kwds_defaults \u001B[38;5;241m=\u001B[39m _refine_defaults_read(\n\u001B[0;32m    936\u001B[0m     dialect,\n\u001B[0;32m    937\u001B[0m     delimiter,\n\u001B[1;32m   (...)\u001B[0m\n\u001B[0;32m    946\u001B[0m     defaults\u001B[38;5;241m=\u001B[39m{\u001B[38;5;124m\"\u001B[39m\u001B[38;5;124mdelimiter\u001B[39m\u001B[38;5;124m\"\u001B[39m: \u001B[38;5;124m\"\u001B[39m\u001B[38;5;124m,\u001B[39m\u001B[38;5;124m\"\u001B[39m},\n\u001B[0;32m    947\u001B[0m )\n\u001B[0;32m    948\u001B[0m kwds\u001B[38;5;241m.\u001B[39mupdate(kwds_defaults)\n\u001B[1;32m--> 950\u001B[0m \u001B[38;5;28;01mreturn\u001B[39;00m \u001B[43m_read\u001B[49m\u001B[43m(\u001B[49m\u001B[43mfilepath_or_buffer\u001B[49m\u001B[43m,\u001B[49m\u001B[43m \u001B[49m\u001B[43mkwds\u001B[49m\u001B[43m)\u001B[49m\n",
      "File \u001B[1;32m~\\anaconda3\\envs\\Test2\\lib\\site-packages\\pandas\\io\\parsers\\readers.py:611\u001B[0m, in \u001B[0;36m_read\u001B[1;34m(filepath_or_buffer, kwds)\u001B[0m\n\u001B[0;32m    608\u001B[0m     \u001B[38;5;28;01mreturn\u001B[39;00m parser\n\u001B[0;32m    610\u001B[0m \u001B[38;5;28;01mwith\u001B[39;00m parser:\n\u001B[1;32m--> 611\u001B[0m     \u001B[38;5;28;01mreturn\u001B[39;00m \u001B[43mparser\u001B[49m\u001B[38;5;241;43m.\u001B[39;49m\u001B[43mread\u001B[49m\u001B[43m(\u001B[49m\u001B[43mnrows\u001B[49m\u001B[43m)\u001B[49m\n",
      "File \u001B[1;32m~\\anaconda3\\envs\\Test2\\lib\\site-packages\\pandas\\io\\parsers\\readers.py:1778\u001B[0m, in \u001B[0;36mTextFileReader.read\u001B[1;34m(self, nrows)\u001B[0m\n\u001B[0;32m   1771\u001B[0m nrows \u001B[38;5;241m=\u001B[39m validate_integer(\u001B[38;5;124m\"\u001B[39m\u001B[38;5;124mnrows\u001B[39m\u001B[38;5;124m\"\u001B[39m, nrows)\n\u001B[0;32m   1772\u001B[0m \u001B[38;5;28;01mtry\u001B[39;00m:\n\u001B[0;32m   1773\u001B[0m     \u001B[38;5;66;03m# error: \"ParserBase\" has no attribute \"read\"\u001B[39;00m\n\u001B[0;32m   1774\u001B[0m     (\n\u001B[0;32m   1775\u001B[0m         index,\n\u001B[0;32m   1776\u001B[0m         columns,\n\u001B[0;32m   1777\u001B[0m         col_dict,\n\u001B[1;32m-> 1778\u001B[0m     ) \u001B[38;5;241m=\u001B[39m \u001B[38;5;28;43mself\u001B[39;49m\u001B[38;5;241;43m.\u001B[39;49m\u001B[43m_engine\u001B[49m\u001B[38;5;241;43m.\u001B[39;49m\u001B[43mread\u001B[49m\u001B[43m(\u001B[49m\u001B[43m  \u001B[49m\u001B[38;5;66;43;03m# type: ignore[attr-defined]\u001B[39;49;00m\n\u001B[0;32m   1779\u001B[0m \u001B[43m        \u001B[49m\u001B[43mnrows\u001B[49m\n\u001B[0;32m   1780\u001B[0m \u001B[43m    \u001B[49m\u001B[43m)\u001B[49m\n\u001B[0;32m   1781\u001B[0m \u001B[38;5;28;01mexcept\u001B[39;00m \u001B[38;5;167;01mException\u001B[39;00m:\n\u001B[0;32m   1782\u001B[0m     \u001B[38;5;28mself\u001B[39m\u001B[38;5;241m.\u001B[39mclose()\n",
      "File \u001B[1;32m~\\anaconda3\\envs\\Test2\\lib\\site-packages\\pandas\\io\\parsers\\c_parser_wrapper.py:230\u001B[0m, in \u001B[0;36mCParserWrapper.read\u001B[1;34m(self, nrows)\u001B[0m\n\u001B[0;32m    228\u001B[0m \u001B[38;5;28;01mtry\u001B[39;00m:\n\u001B[0;32m    229\u001B[0m     \u001B[38;5;28;01mif\u001B[39;00m \u001B[38;5;28mself\u001B[39m\u001B[38;5;241m.\u001B[39mlow_memory:\n\u001B[1;32m--> 230\u001B[0m         chunks \u001B[38;5;241m=\u001B[39m \u001B[38;5;28;43mself\u001B[39;49m\u001B[38;5;241;43m.\u001B[39;49m\u001B[43m_reader\u001B[49m\u001B[38;5;241;43m.\u001B[39;49m\u001B[43mread_low_memory\u001B[49m\u001B[43m(\u001B[49m\u001B[43mnrows\u001B[49m\u001B[43m)\u001B[49m\n\u001B[0;32m    231\u001B[0m         \u001B[38;5;66;03m# destructive to chunks\u001B[39;00m\n\u001B[0;32m    232\u001B[0m         data \u001B[38;5;241m=\u001B[39m _concatenate_chunks(chunks)\n",
      "File \u001B[1;32m~\\anaconda3\\envs\\Test2\\lib\\site-packages\\pandas\\_libs\\parsers.pyx:808\u001B[0m, in \u001B[0;36mpandas._libs.parsers.TextReader.read_low_memory\u001B[1;34m()\u001B[0m\n",
      "File \u001B[1;32m~\\anaconda3\\envs\\Test2\\lib\\site-packages\\pandas\\_libs\\parsers.pyx:890\u001B[0m, in \u001B[0;36mpandas._libs.parsers.TextReader._read_rows\u001B[1;34m()\u001B[0m\n",
      "File \u001B[1;32m~\\anaconda3\\envs\\Test2\\lib\\site-packages\\pandas\\_libs\\parsers.pyx:1037\u001B[0m, in \u001B[0;36mpandas._libs.parsers.TextReader._convert_column_data\u001B[1;34m()\u001B[0m\n",
      "File \u001B[1;32m~\\anaconda3\\envs\\Test2\\lib\\site-packages\\pandas\\_libs\\parsers.pyx:1083\u001B[0m, in \u001B[0;36mpandas._libs.parsers.TextReader._convert_tokens\u001B[1;34m()\u001B[0m\n",
      "File \u001B[1;32m~\\anaconda3\\envs\\Test2\\lib\\site-packages\\pandas\\_libs\\parsers.pyx:1158\u001B[0m, in \u001B[0;36mpandas._libs.parsers.TextReader._convert_with_dtype\u001B[1;34m()\u001B[0m\n",
      "File \u001B[1;32m~\\anaconda3\\envs\\Test2\\lib\\site-packages\\pandas\\core\\dtypes\\common.py:1433\u001B[0m, in \u001B[0;36mis_extension_array_dtype\u001B[1;34m(arr_or_dtype)\u001B[0m\n\u001B[0;32m   1424\u001B[0m     \u001B[38;5;66;03m# Note: if other EA dtypes are ever held in HybridBlock, exclude those\u001B[39;00m\n\u001B[0;32m   1425\u001B[0m     \u001B[38;5;66;03m#  here too.\u001B[39;00m\n\u001B[0;32m   1426\u001B[0m     \u001B[38;5;66;03m# NB: need to check DatetimeTZDtype and not is_datetime64tz_dtype\u001B[39;00m\n\u001B[0;32m   1427\u001B[0m     \u001B[38;5;66;03m#  to exclude ArrowTimestampUSDtype\u001B[39;00m\n\u001B[0;32m   1428\u001B[0m     \u001B[38;5;28;01mreturn\u001B[39;00m \u001B[38;5;28misinstance\u001B[39m(dtype, ExtensionDtype) \u001B[38;5;129;01mand\u001B[39;00m \u001B[38;5;129;01mnot\u001B[39;00m \u001B[38;5;28misinstance\u001B[39m(\n\u001B[0;32m   1429\u001B[0m         dtype, (DatetimeTZDtype, PeriodDtype)\n\u001B[0;32m   1430\u001B[0m     )\n\u001B[1;32m-> 1433\u001B[0m \u001B[38;5;28;01mdef\u001B[39;00m \u001B[38;5;21mis_extension_array_dtype\u001B[39m(arr_or_dtype) \u001B[38;5;241m-\u001B[39m\u001B[38;5;241m>\u001B[39m \u001B[38;5;28mbool\u001B[39m:\n\u001B[0;32m   1434\u001B[0m     \u001B[38;5;124;03m\"\"\"\u001B[39;00m\n\u001B[0;32m   1435\u001B[0m \u001B[38;5;124;03m    Check if an object is a pandas extension array type.\u001B[39;00m\n\u001B[0;32m   1436\u001B[0m \n\u001B[1;32m   (...)\u001B[0m\n\u001B[0;32m   1476\u001B[0m \u001B[38;5;124;03m    False\u001B[39;00m\n\u001B[0;32m   1477\u001B[0m \u001B[38;5;124;03m    \"\"\"\u001B[39;00m\n\u001B[0;32m   1478\u001B[0m     dtype \u001B[38;5;241m=\u001B[39m \u001B[38;5;28mgetattr\u001B[39m(arr_or_dtype, \u001B[38;5;124m\"\u001B[39m\u001B[38;5;124mdtype\u001B[39m\u001B[38;5;124m\"\u001B[39m, arr_or_dtype)\n",
      "\u001B[1;31mKeyboardInterrupt\u001B[0m: "
     ]
    }
   ],
   "source": [
    "# Germany\n",
    "df_germany = pd.read_csv('./data/final_data/germany_final.csv', sep=';')\n"
   ]
  },
  {
   "cell_type": "code",
   "execution_count": 30,
   "metadata": {},
   "outputs": [
    {
     "ename": "KeyError",
     "evalue": "\"[',', 'geometry', 'iso3', 'continent', 'region', 'iso_3166_1_'] not found in axis\"",
     "output_type": "error",
     "traceback": [
      "\u001B[1;31m---------------------------------------------------------------------------\u001B[0m",
      "\u001B[1;31mKeyError\u001B[0m                                  Traceback (most recent call last)",
      "Cell \u001B[1;32mIn[30], line 2\u001B[0m\n\u001B[0;32m      1\u001B[0m \u001B[38;5;66;03m# Cleaning and adjustments\u001B[39;00m\n\u001B[1;32m----> 2\u001B[0m \u001B[43mdf_germany\u001B[49m\u001B[38;5;241;43m.\u001B[39;49m\u001B[43mdrop\u001B[49m\u001B[43m(\u001B[49m\u001B[43mcolumns\u001B[49m\u001B[38;5;241;43m=\u001B[39;49m\u001B[43m[\u001B[49m\u001B[38;5;124;43m'\u001B[39;49m\u001B[38;5;124;43m,\u001B[39;49m\u001B[38;5;124;43m'\u001B[39;49m\u001B[43m,\u001B[49m\u001B[43m \u001B[49m\u001B[38;5;124;43m'\u001B[39;49m\u001B[38;5;124;43mgeometry\u001B[39;49m\u001B[38;5;124;43m'\u001B[39;49m\u001B[43m,\u001B[49m\u001B[43m \u001B[49m\u001B[38;5;124;43m'\u001B[39;49m\u001B[38;5;124;43miso3\u001B[39;49m\u001B[38;5;124;43m'\u001B[39;49m\u001B[43m,\u001B[49m\u001B[43m \u001B[49m\u001B[38;5;124;43m'\u001B[39;49m\u001B[38;5;124;43mcontinent\u001B[39;49m\u001B[38;5;124;43m'\u001B[39;49m\u001B[43m,\u001B[49m\u001B[43m \u001B[49m\u001B[38;5;124;43m'\u001B[39;49m\u001B[38;5;124;43mregion\u001B[39;49m\u001B[38;5;124;43m'\u001B[39;49m\u001B[43m,\u001B[49m\u001B[43m \u001B[49m\u001B[38;5;124;43m'\u001B[39;49m\u001B[38;5;124;43miso_3166_1_\u001B[39;49m\u001B[38;5;124;43m'\u001B[39;49m\u001B[43m]\u001B[49m\u001B[43m,\u001B[49m\u001B[43m \u001B[49m\u001B[43minplace\u001B[49m\u001B[38;5;241;43m=\u001B[39;49m\u001B[38;5;28;43;01mTrue\u001B[39;49;00m\u001B[43m)\u001B[49m\n",
      "File \u001B[1;32m~\\anaconda3\\envs\\Test2\\lib\\site-packages\\pandas\\util\\_decorators.py:331\u001B[0m, in \u001B[0;36mdeprecate_nonkeyword_arguments.<locals>.decorate.<locals>.wrapper\u001B[1;34m(*args, **kwargs)\u001B[0m\n\u001B[0;32m    325\u001B[0m \u001B[38;5;28;01mif\u001B[39;00m \u001B[38;5;28mlen\u001B[39m(args) \u001B[38;5;241m>\u001B[39m num_allow_args:\n\u001B[0;32m    326\u001B[0m     warnings\u001B[38;5;241m.\u001B[39mwarn(\n\u001B[0;32m    327\u001B[0m         msg\u001B[38;5;241m.\u001B[39mformat(arguments\u001B[38;5;241m=\u001B[39m_format_argument_list(allow_args)),\n\u001B[0;32m    328\u001B[0m         \u001B[38;5;167;01mFutureWarning\u001B[39;00m,\n\u001B[0;32m    329\u001B[0m         stacklevel\u001B[38;5;241m=\u001B[39mfind_stack_level(),\n\u001B[0;32m    330\u001B[0m     )\n\u001B[1;32m--> 331\u001B[0m \u001B[38;5;28;01mreturn\u001B[39;00m \u001B[43mfunc\u001B[49m\u001B[43m(\u001B[49m\u001B[38;5;241;43m*\u001B[39;49m\u001B[43margs\u001B[49m\u001B[43m,\u001B[49m\u001B[43m \u001B[49m\u001B[38;5;241;43m*\u001B[39;49m\u001B[38;5;241;43m*\u001B[39;49m\u001B[43mkwargs\u001B[49m\u001B[43m)\u001B[49m\n",
      "File \u001B[1;32m~\\anaconda3\\envs\\Test2\\lib\\site-packages\\pandas\\core\\frame.py:5396\u001B[0m, in \u001B[0;36mDataFrame.drop\u001B[1;34m(self, labels, axis, index, columns, level, inplace, errors)\u001B[0m\n\u001B[0;32m   5248\u001B[0m \u001B[38;5;129m@deprecate_nonkeyword_arguments\u001B[39m(version\u001B[38;5;241m=\u001B[39m\u001B[38;5;28;01mNone\u001B[39;00m, allowed_args\u001B[38;5;241m=\u001B[39m[\u001B[38;5;124m\"\u001B[39m\u001B[38;5;124mself\u001B[39m\u001B[38;5;124m\"\u001B[39m, \u001B[38;5;124m\"\u001B[39m\u001B[38;5;124mlabels\u001B[39m\u001B[38;5;124m\"\u001B[39m])\n\u001B[0;32m   5249\u001B[0m \u001B[38;5;28;01mdef\u001B[39;00m \u001B[38;5;21mdrop\u001B[39m(  \u001B[38;5;66;03m# type: ignore[override]\u001B[39;00m\n\u001B[0;32m   5250\u001B[0m     \u001B[38;5;28mself\u001B[39m,\n\u001B[1;32m   (...)\u001B[0m\n\u001B[0;32m   5257\u001B[0m     errors: IgnoreRaise \u001B[38;5;241m=\u001B[39m \u001B[38;5;124m\"\u001B[39m\u001B[38;5;124mraise\u001B[39m\u001B[38;5;124m\"\u001B[39m,\n\u001B[0;32m   5258\u001B[0m ) \u001B[38;5;241m-\u001B[39m\u001B[38;5;241m>\u001B[39m DataFrame \u001B[38;5;241m|\u001B[39m \u001B[38;5;28;01mNone\u001B[39;00m:\n\u001B[0;32m   5259\u001B[0m     \u001B[38;5;124;03m\"\"\"\u001B[39;00m\n\u001B[0;32m   5260\u001B[0m \u001B[38;5;124;03m    Drop specified labels from rows or columns.\u001B[39;00m\n\u001B[0;32m   5261\u001B[0m \n\u001B[1;32m   (...)\u001B[0m\n\u001B[0;32m   5394\u001B[0m \u001B[38;5;124;03m            weight  1.0     0.8\u001B[39;00m\n\u001B[0;32m   5395\u001B[0m \u001B[38;5;124;03m    \"\"\"\u001B[39;00m\n\u001B[1;32m-> 5396\u001B[0m     \u001B[38;5;28;01mreturn\u001B[39;00m \u001B[38;5;28;43msuper\u001B[39;49m\u001B[43m(\u001B[49m\u001B[43m)\u001B[49m\u001B[38;5;241;43m.\u001B[39;49m\u001B[43mdrop\u001B[49m\u001B[43m(\u001B[49m\n\u001B[0;32m   5397\u001B[0m \u001B[43m        \u001B[49m\u001B[43mlabels\u001B[49m\u001B[38;5;241;43m=\u001B[39;49m\u001B[43mlabels\u001B[49m\u001B[43m,\u001B[49m\n\u001B[0;32m   5398\u001B[0m \u001B[43m        \u001B[49m\u001B[43maxis\u001B[49m\u001B[38;5;241;43m=\u001B[39;49m\u001B[43maxis\u001B[49m\u001B[43m,\u001B[49m\n\u001B[0;32m   5399\u001B[0m \u001B[43m        \u001B[49m\u001B[43mindex\u001B[49m\u001B[38;5;241;43m=\u001B[39;49m\u001B[43mindex\u001B[49m\u001B[43m,\u001B[49m\n\u001B[0;32m   5400\u001B[0m \u001B[43m        \u001B[49m\u001B[43mcolumns\u001B[49m\u001B[38;5;241;43m=\u001B[39;49m\u001B[43mcolumns\u001B[49m\u001B[43m,\u001B[49m\n\u001B[0;32m   5401\u001B[0m \u001B[43m        \u001B[49m\u001B[43mlevel\u001B[49m\u001B[38;5;241;43m=\u001B[39;49m\u001B[43mlevel\u001B[49m\u001B[43m,\u001B[49m\n\u001B[0;32m   5402\u001B[0m \u001B[43m        \u001B[49m\u001B[43minplace\u001B[49m\u001B[38;5;241;43m=\u001B[39;49m\u001B[43minplace\u001B[49m\u001B[43m,\u001B[49m\n\u001B[0;32m   5403\u001B[0m \u001B[43m        \u001B[49m\u001B[43merrors\u001B[49m\u001B[38;5;241;43m=\u001B[39;49m\u001B[43merrors\u001B[49m\u001B[43m,\u001B[49m\n\u001B[0;32m   5404\u001B[0m \u001B[43m    \u001B[49m\u001B[43m)\u001B[49m\n",
      "File \u001B[1;32m~\\anaconda3\\envs\\Test2\\lib\\site-packages\\pandas\\util\\_decorators.py:331\u001B[0m, in \u001B[0;36mdeprecate_nonkeyword_arguments.<locals>.decorate.<locals>.wrapper\u001B[1;34m(*args, **kwargs)\u001B[0m\n\u001B[0;32m    325\u001B[0m \u001B[38;5;28;01mif\u001B[39;00m \u001B[38;5;28mlen\u001B[39m(args) \u001B[38;5;241m>\u001B[39m num_allow_args:\n\u001B[0;32m    326\u001B[0m     warnings\u001B[38;5;241m.\u001B[39mwarn(\n\u001B[0;32m    327\u001B[0m         msg\u001B[38;5;241m.\u001B[39mformat(arguments\u001B[38;5;241m=\u001B[39m_format_argument_list(allow_args)),\n\u001B[0;32m    328\u001B[0m         \u001B[38;5;167;01mFutureWarning\u001B[39;00m,\n\u001B[0;32m    329\u001B[0m         stacklevel\u001B[38;5;241m=\u001B[39mfind_stack_level(),\n\u001B[0;32m    330\u001B[0m     )\n\u001B[1;32m--> 331\u001B[0m \u001B[38;5;28;01mreturn\u001B[39;00m \u001B[43mfunc\u001B[49m\u001B[43m(\u001B[49m\u001B[38;5;241;43m*\u001B[39;49m\u001B[43margs\u001B[49m\u001B[43m,\u001B[49m\u001B[43m \u001B[49m\u001B[38;5;241;43m*\u001B[39;49m\u001B[38;5;241;43m*\u001B[39;49m\u001B[43mkwargs\u001B[49m\u001B[43m)\u001B[49m\n",
      "File \u001B[1;32m~\\anaconda3\\envs\\Test2\\lib\\site-packages\\pandas\\core\\generic.py:4505\u001B[0m, in \u001B[0;36mNDFrame.drop\u001B[1;34m(self, labels, axis, index, columns, level, inplace, errors)\u001B[0m\n\u001B[0;32m   4503\u001B[0m \u001B[38;5;28;01mfor\u001B[39;00m axis, labels \u001B[38;5;129;01min\u001B[39;00m axes\u001B[38;5;241m.\u001B[39mitems():\n\u001B[0;32m   4504\u001B[0m     \u001B[38;5;28;01mif\u001B[39;00m labels \u001B[38;5;129;01mis\u001B[39;00m \u001B[38;5;129;01mnot\u001B[39;00m \u001B[38;5;28;01mNone\u001B[39;00m:\n\u001B[1;32m-> 4505\u001B[0m         obj \u001B[38;5;241m=\u001B[39m \u001B[43mobj\u001B[49m\u001B[38;5;241;43m.\u001B[39;49m\u001B[43m_drop_axis\u001B[49m\u001B[43m(\u001B[49m\u001B[43mlabels\u001B[49m\u001B[43m,\u001B[49m\u001B[43m \u001B[49m\u001B[43maxis\u001B[49m\u001B[43m,\u001B[49m\u001B[43m \u001B[49m\u001B[43mlevel\u001B[49m\u001B[38;5;241;43m=\u001B[39;49m\u001B[43mlevel\u001B[49m\u001B[43m,\u001B[49m\u001B[43m \u001B[49m\u001B[43merrors\u001B[49m\u001B[38;5;241;43m=\u001B[39;49m\u001B[43merrors\u001B[49m\u001B[43m)\u001B[49m\n\u001B[0;32m   4507\u001B[0m \u001B[38;5;28;01mif\u001B[39;00m inplace:\n\u001B[0;32m   4508\u001B[0m     \u001B[38;5;28mself\u001B[39m\u001B[38;5;241m.\u001B[39m_update_inplace(obj)\n",
      "File \u001B[1;32m~\\anaconda3\\envs\\Test2\\lib\\site-packages\\pandas\\core\\generic.py:4546\u001B[0m, in \u001B[0;36mNDFrame._drop_axis\u001B[1;34m(self, labels, axis, level, errors, only_slice)\u001B[0m\n\u001B[0;32m   4544\u001B[0m         new_axis \u001B[38;5;241m=\u001B[39m axis\u001B[38;5;241m.\u001B[39mdrop(labels, level\u001B[38;5;241m=\u001B[39mlevel, errors\u001B[38;5;241m=\u001B[39merrors)\n\u001B[0;32m   4545\u001B[0m     \u001B[38;5;28;01melse\u001B[39;00m:\n\u001B[1;32m-> 4546\u001B[0m         new_axis \u001B[38;5;241m=\u001B[39m \u001B[43maxis\u001B[49m\u001B[38;5;241;43m.\u001B[39;49m\u001B[43mdrop\u001B[49m\u001B[43m(\u001B[49m\u001B[43mlabels\u001B[49m\u001B[43m,\u001B[49m\u001B[43m \u001B[49m\u001B[43merrors\u001B[49m\u001B[38;5;241;43m=\u001B[39;49m\u001B[43merrors\u001B[49m\u001B[43m)\u001B[49m\n\u001B[0;32m   4547\u001B[0m     indexer \u001B[38;5;241m=\u001B[39m axis\u001B[38;5;241m.\u001B[39mget_indexer(new_axis)\n\u001B[0;32m   4549\u001B[0m \u001B[38;5;66;03m# Case for non-unique axis\u001B[39;00m\n\u001B[0;32m   4550\u001B[0m \u001B[38;5;28;01melse\u001B[39;00m:\n",
      "File \u001B[1;32m~\\anaconda3\\envs\\Test2\\lib\\site-packages\\pandas\\core\\indexes\\base.py:6977\u001B[0m, in \u001B[0;36mIndex.drop\u001B[1;34m(self, labels, errors)\u001B[0m\n\u001B[0;32m   6975\u001B[0m \u001B[38;5;28;01mif\u001B[39;00m mask\u001B[38;5;241m.\u001B[39many():\n\u001B[0;32m   6976\u001B[0m     \u001B[38;5;28;01mif\u001B[39;00m errors \u001B[38;5;241m!=\u001B[39m \u001B[38;5;124m\"\u001B[39m\u001B[38;5;124mignore\u001B[39m\u001B[38;5;124m\"\u001B[39m:\n\u001B[1;32m-> 6977\u001B[0m         \u001B[38;5;28;01mraise\u001B[39;00m \u001B[38;5;167;01mKeyError\u001B[39;00m(\u001B[38;5;124mf\u001B[39m\u001B[38;5;124m\"\u001B[39m\u001B[38;5;132;01m{\u001B[39;00m\u001B[38;5;28mlist\u001B[39m(labels[mask])\u001B[38;5;132;01m}\u001B[39;00m\u001B[38;5;124m not found in axis\u001B[39m\u001B[38;5;124m\"\u001B[39m)\n\u001B[0;32m   6978\u001B[0m     indexer \u001B[38;5;241m=\u001B[39m indexer[\u001B[38;5;241m~\u001B[39mmask]\n\u001B[0;32m   6979\u001B[0m \u001B[38;5;28;01mreturn\u001B[39;00m \u001B[38;5;28mself\u001B[39m\u001B[38;5;241m.\u001B[39mdelete(indexer)\n",
      "\u001B[1;31mKeyError\u001B[0m: \"[',', 'geometry', 'iso3', 'continent', 'region', 'iso_3166_1_'] not found in axis\""
     ]
    }
   ],
   "source": [
    "# Cleaning and adjustments\n",
    "df_germany.drop(columns=[',', 'geometry', 'iso3', 'continent', 'region', 'iso_3166_1_'], inplace=True)"
   ]
  },
  {
   "cell_type": "code",
   "execution_count": 34,
   "metadata": {},
   "outputs": [],
   "source": [
    "# rename country column\n",
    "df_germany.rename(columns={'name':'country'}, inplace=True)"
   ]
  },
  {
   "cell_type": "code",
   "execution_count": 35,
   "metadata": {},
   "outputs": [
    {
     "ename": "KeyError",
     "evalue": "'avg_d_kbps'",
     "output_type": "error",
     "traceback": [
      "\u001B[1;31m---------------------------------------------------------------------------\u001B[0m",
      "\u001B[1;31mKeyError\u001B[0m                                  Traceback (most recent call last)",
      "File \u001B[1;32m~\\anaconda3\\envs\\Test2\\lib\\site-packages\\pandas\\core\\indexes\\base.py:3803\u001B[0m, in \u001B[0;36mIndex.get_loc\u001B[1;34m(self, key, method, tolerance)\u001B[0m\n\u001B[0;32m   3802\u001B[0m \u001B[38;5;28;01mtry\u001B[39;00m:\n\u001B[1;32m-> 3803\u001B[0m     \u001B[38;5;28;01mreturn\u001B[39;00m \u001B[38;5;28;43mself\u001B[39;49m\u001B[38;5;241;43m.\u001B[39;49m\u001B[43m_engine\u001B[49m\u001B[38;5;241;43m.\u001B[39;49m\u001B[43mget_loc\u001B[49m\u001B[43m(\u001B[49m\u001B[43mcasted_key\u001B[49m\u001B[43m)\u001B[49m\n\u001B[0;32m   3804\u001B[0m \u001B[38;5;28;01mexcept\u001B[39;00m \u001B[38;5;167;01mKeyError\u001B[39;00m \u001B[38;5;28;01mas\u001B[39;00m err:\n",
      "File \u001B[1;32m~\\anaconda3\\envs\\Test2\\lib\\site-packages\\pandas\\_libs\\index.pyx:138\u001B[0m, in \u001B[0;36mpandas._libs.index.IndexEngine.get_loc\u001B[1;34m()\u001B[0m\n",
      "File \u001B[1;32m~\\anaconda3\\envs\\Test2\\lib\\site-packages\\pandas\\_libs\\index.pyx:165\u001B[0m, in \u001B[0;36mpandas._libs.index.IndexEngine.get_loc\u001B[1;34m()\u001B[0m\n",
      "File \u001B[1;32mpandas\\_libs\\hashtable_class_helper.pxi:5745\u001B[0m, in \u001B[0;36mpandas._libs.hashtable.PyObjectHashTable.get_item\u001B[1;34m()\u001B[0m\n",
      "File \u001B[1;32mpandas\\_libs\\hashtable_class_helper.pxi:5753\u001B[0m, in \u001B[0;36mpandas._libs.hashtable.PyObjectHashTable.get_item\u001B[1;34m()\u001B[0m\n",
      "\u001B[1;31mKeyError\u001B[0m: 'avg_d_kbps'",
      "\nThe above exception was the direct cause of the following exception:\n",
      "\u001B[1;31mKeyError\u001B[0m                                  Traceback (most recent call last)",
      "Cell \u001B[1;32mIn[35], line 2\u001B[0m\n\u001B[0;32m      1\u001B[0m \u001B[38;5;66;03m# Convert to mpbs\u001B[39;00m\n\u001B[1;32m----> 2\u001B[0m df_germany[\u001B[38;5;124m'\u001B[39m\u001B[38;5;124mavg_d_mbps\u001B[39m\u001B[38;5;124m'\u001B[39m] \u001B[38;5;241m=\u001B[39m \u001B[43mdf_germany\u001B[49m\u001B[43m[\u001B[49m\u001B[38;5;124;43m'\u001B[39;49m\u001B[38;5;124;43mavg_d_kbps\u001B[39;49m\u001B[38;5;124;43m'\u001B[39;49m\u001B[43m]\u001B[49m \u001B[38;5;241m/\u001B[39m \u001B[38;5;241m1000\u001B[39m\n\u001B[0;32m      3\u001B[0m df_germany[\u001B[38;5;124m'\u001B[39m\u001B[38;5;124mavg_u_mbps\u001B[39m\u001B[38;5;124m'\u001B[39m] \u001B[38;5;241m=\u001B[39m df_germany[\u001B[38;5;124m'\u001B[39m\u001B[38;5;124mavg_u_kbps\u001B[39m\u001B[38;5;124m'\u001B[39m] \u001B[38;5;241m/\u001B[39m \u001B[38;5;241m1000\u001B[39m\n\u001B[0;32m      5\u001B[0m \u001B[38;5;66;03m# Round mbps and convert to int\u001B[39;00m\n",
      "File \u001B[1;32m~\\anaconda3\\envs\\Test2\\lib\\site-packages\\pandas\\core\\frame.py:3805\u001B[0m, in \u001B[0;36mDataFrame.__getitem__\u001B[1;34m(self, key)\u001B[0m\n\u001B[0;32m   3803\u001B[0m \u001B[38;5;28;01mif\u001B[39;00m \u001B[38;5;28mself\u001B[39m\u001B[38;5;241m.\u001B[39mcolumns\u001B[38;5;241m.\u001B[39mnlevels \u001B[38;5;241m>\u001B[39m \u001B[38;5;241m1\u001B[39m:\n\u001B[0;32m   3804\u001B[0m     \u001B[38;5;28;01mreturn\u001B[39;00m \u001B[38;5;28mself\u001B[39m\u001B[38;5;241m.\u001B[39m_getitem_multilevel(key)\n\u001B[1;32m-> 3805\u001B[0m indexer \u001B[38;5;241m=\u001B[39m \u001B[38;5;28;43mself\u001B[39;49m\u001B[38;5;241;43m.\u001B[39;49m\u001B[43mcolumns\u001B[49m\u001B[38;5;241;43m.\u001B[39;49m\u001B[43mget_loc\u001B[49m\u001B[43m(\u001B[49m\u001B[43mkey\u001B[49m\u001B[43m)\u001B[49m\n\u001B[0;32m   3806\u001B[0m \u001B[38;5;28;01mif\u001B[39;00m is_integer(indexer):\n\u001B[0;32m   3807\u001B[0m     indexer \u001B[38;5;241m=\u001B[39m [indexer]\n",
      "File \u001B[1;32m~\\anaconda3\\envs\\Test2\\lib\\site-packages\\pandas\\core\\indexes\\base.py:3805\u001B[0m, in \u001B[0;36mIndex.get_loc\u001B[1;34m(self, key, method, tolerance)\u001B[0m\n\u001B[0;32m   3803\u001B[0m     \u001B[38;5;28;01mreturn\u001B[39;00m \u001B[38;5;28mself\u001B[39m\u001B[38;5;241m.\u001B[39m_engine\u001B[38;5;241m.\u001B[39mget_loc(casted_key)\n\u001B[0;32m   3804\u001B[0m \u001B[38;5;28;01mexcept\u001B[39;00m \u001B[38;5;167;01mKeyError\u001B[39;00m \u001B[38;5;28;01mas\u001B[39;00m err:\n\u001B[1;32m-> 3805\u001B[0m     \u001B[38;5;28;01mraise\u001B[39;00m \u001B[38;5;167;01mKeyError\u001B[39;00m(key) \u001B[38;5;28;01mfrom\u001B[39;00m \u001B[38;5;21;01merr\u001B[39;00m\n\u001B[0;32m   3806\u001B[0m \u001B[38;5;28;01mexcept\u001B[39;00m \u001B[38;5;167;01mTypeError\u001B[39;00m:\n\u001B[0;32m   3807\u001B[0m     \u001B[38;5;66;03m# If we have a listlike key, _check_indexing_error will raise\u001B[39;00m\n\u001B[0;32m   3808\u001B[0m     \u001B[38;5;66;03m#  InvalidIndexError. Otherwise we fall through and re-raise\u001B[39;00m\n\u001B[0;32m   3809\u001B[0m     \u001B[38;5;66;03m#  the TypeError.\u001B[39;00m\n\u001B[0;32m   3810\u001B[0m     \u001B[38;5;28mself\u001B[39m\u001B[38;5;241m.\u001B[39m_check_indexing_error(key)\n",
      "\u001B[1;31mKeyError\u001B[0m: 'avg_d_kbps'"
     ]
    }
   ],
   "source": [
    "# Convert to mpbs\n",
    "df_germany['avg_d_mbps'] = df_germany['avg_d_kbps'] / 1000\n",
    "df_germany['avg_u_mbps'] = df_germany['avg_u_kbps'] / 1000\n",
    "\n",
    "# Round mbps and convert to int\n",
    "df_germany['avg_d_mbps'] = df_germany['avg_d_mbps'].round(0).astype(int)\n",
    "df_germany['avg_u_mbps'] = df_germany['avg_u_mbps'].round(0).astype(int)\n",
    "\n",
    "# Drop kbps columns\n",
    "df_germany.drop(columns=['avg_d_kbps', 'avg_u_kbps'], inplace=True)\n"
   ]
  },
  {
   "cell_type": "code",
   "execution_count": 95,
   "metadata": {},
   "outputs": [],
   "source": [
    "# Convert columns to int16 to save space\n",
    "df_germany['avg_d_mbps'] = df_germany['avg_d_mbps'].astype('int16')\n",
    "df_germany['avg_u_mbps'] = df_germany['avg_u_mbps'].astype('int16')\n",
    "df_germany['avg_lat_ms'] = df_germany['avg_lat_ms'].astype('int16')\n",
    "df_germany['tests'] = df_germany['tests'].astype('int16')\n",
    "df_germany['devices'] = df_germany['devices'].astype('int16')\n",
    "df_germany['country'] = df_germany['country'].astype('string')\n",
    "df_germany['category'] = df_germany['category'].astype('category')"
   ]
  },
  {
   "cell_type": "code",
   "execution_count": 96,
   "metadata": {},
   "outputs": [
    {
     "name": "stdout",
     "output_type": "stream",
     "text": [
      "<class 'pandas.core.frame.DataFrame'>\n",
      "RangeIndex: 5347564 entries, 0 to 5347563\n",
      "Data columns (total 10 columns):\n",
      " #   Column      Dtype   \n",
      "---  ------      -----   \n",
      " 0   avg_lat_ms  int16   \n",
      " 1   tests       int16   \n",
      " 2   devices     int16   \n",
      " 3   quarter     object  \n",
      " 4   category    category\n",
      " 5   long        float64 \n",
      " 6   lat         float64 \n",
      " 7   country     string  \n",
      " 8   avg_d_mbps  int16   \n",
      " 9   avg_u_mbps  int16   \n",
      "dtypes: category(1), float64(2), int16(5), object(1), string(1)\n",
      "memory usage: 219.3+ MB\n"
     ]
    }
   ],
   "source": [
    "df_germany.info()"
   ]
  },
  {
   "cell_type": "code",
   "execution_count": 97,
   "metadata": {},
   "outputs": [],
   "source": [
    "# save as comma separated csv\n",
    "df_germany.to_csv('./data/final_data/germany_final.csv', sep=',')"
   ]
  },
  {
   "attachments": {},
   "cell_type": "markdown",
   "metadata": {},
   "source": [
    "#### Numerical Exploration"
   ]
  },
  {
   "cell_type": "code",
   "execution_count": 43,
   "metadata": {},
   "outputs": [
    {
     "data": {
      "text/plain": "(5347564, 11)"
     },
     "execution_count": 43,
     "metadata": {},
     "output_type": "execute_result"
    }
   ],
   "source": [
    "df_germany = pd.read_csv('../../Documents/Master/Semester1/Visual_Analytics/Data_Input_final/germany_final_2.csv', sep=',')\n",
    "df_germany.shape"
   ]
  },
  {
   "cell_type": "code",
   "execution_count": 38,
   "metadata": {},
   "outputs": [
    {
     "data": {
      "text/plain": "   Unnamed: 0  avg_lat_ms  tests  devices     quarter category      long  \\\n0           0          43      4        2  2019-01-01    fixed  8.415527   \n1           1          34      1        1  2019-01-01    fixed  8.421021   \n2           2          29      1        1  2019-01-01    fixed  8.426514   \n3           3          40      2        1  2019-01-01    fixed  8.432007   \n4           4          33      4        3  2019-01-01    fixed  8.421021   \n\n         lat  country  avg_d_mbps  avg_u_mbps  \n0  55.024873  Germany           8           1  \n1  55.024873  Germany          33           9  \n2  55.024873  Germany          24          11  \n3  55.024873  Germany          35           7  \n4  55.021725  Germany           7           2  ",
      "text/html": "<div>\n<style scoped>\n    .dataframe tbody tr th:only-of-type {\n        vertical-align: middle;\n    }\n\n    .dataframe tbody tr th {\n        vertical-align: top;\n    }\n\n    .dataframe thead th {\n        text-align: right;\n    }\n</style>\n<table border=\"1\" class=\"dataframe\">\n  <thead>\n    <tr style=\"text-align: right;\">\n      <th></th>\n      <th>Unnamed: 0</th>\n      <th>avg_lat_ms</th>\n      <th>tests</th>\n      <th>devices</th>\n      <th>quarter</th>\n      <th>category</th>\n      <th>long</th>\n      <th>lat</th>\n      <th>country</th>\n      <th>avg_d_mbps</th>\n      <th>avg_u_mbps</th>\n    </tr>\n  </thead>\n  <tbody>\n    <tr>\n      <th>0</th>\n      <td>0</td>\n      <td>43</td>\n      <td>4</td>\n      <td>2</td>\n      <td>2019-01-01</td>\n      <td>fixed</td>\n      <td>8.415527</td>\n      <td>55.024873</td>\n      <td>Germany</td>\n      <td>8</td>\n      <td>1</td>\n    </tr>\n    <tr>\n      <th>1</th>\n      <td>1</td>\n      <td>34</td>\n      <td>1</td>\n      <td>1</td>\n      <td>2019-01-01</td>\n      <td>fixed</td>\n      <td>8.421021</td>\n      <td>55.024873</td>\n      <td>Germany</td>\n      <td>33</td>\n      <td>9</td>\n    </tr>\n    <tr>\n      <th>2</th>\n      <td>2</td>\n      <td>29</td>\n      <td>1</td>\n      <td>1</td>\n      <td>2019-01-01</td>\n      <td>fixed</td>\n      <td>8.426514</td>\n      <td>55.024873</td>\n      <td>Germany</td>\n      <td>24</td>\n      <td>11</td>\n    </tr>\n    <tr>\n      <th>3</th>\n      <td>3</td>\n      <td>40</td>\n      <td>2</td>\n      <td>1</td>\n      <td>2019-01-01</td>\n      <td>fixed</td>\n      <td>8.432007</td>\n      <td>55.024873</td>\n      <td>Germany</td>\n      <td>35</td>\n      <td>7</td>\n    </tr>\n    <tr>\n      <th>4</th>\n      <td>4</td>\n      <td>33</td>\n      <td>4</td>\n      <td>3</td>\n      <td>2019-01-01</td>\n      <td>fixed</td>\n      <td>8.421021</td>\n      <td>55.021725</td>\n      <td>Germany</td>\n      <td>7</td>\n      <td>2</td>\n    </tr>\n  </tbody>\n</table>\n</div>"
     },
     "execution_count": 38,
     "metadata": {},
     "output_type": "execute_result"
    }
   ],
   "source": [
    "df_germany.head()"
   ]
  },
  {
   "cell_type": "code",
   "execution_count": 11,
   "metadata": {},
   "outputs": [
    {
     "data": {
      "text/html": [
       "<div>\n",
       "<style scoped>\n",
       "    .dataframe tbody tr th:only-of-type {\n",
       "        vertical-align: middle;\n",
       "    }\n",
       "\n",
       "    .dataframe tbody tr th {\n",
       "        vertical-align: top;\n",
       "    }\n",
       "\n",
       "    .dataframe thead th {\n",
       "        text-align: right;\n",
       "    }\n",
       "</style>\n",
       "<table border=\"1\" class=\"dataframe\">\n",
       "  <thead>\n",
       "    <tr style=\"text-align: right;\">\n",
       "      <th></th>\n",
       "      <th>avg_d_kbps</th>\n",
       "      <th>avg_u_kbps</th>\n",
       "      <th>avg_lat_ms</th>\n",
       "      <th>tests</th>\n",
       "      <th>devices</th>\n",
       "      <th>quarter</th>\n",
       "      <th>category</th>\n",
       "      <th>long</th>\n",
       "      <th>lat</th>\n",
       "      <th>geometry</th>\n",
       "      <th>iso3</th>\n",
       "      <th>name</th>\n",
       "      <th>continent</th>\n",
       "      <th>region</th>\n",
       "      <th>iso_3166_1_</th>\n",
       "      <th>avg_d_mbps</th>\n",
       "      <th>avg_u_mbps</th>\n",
       "    </tr>\n",
       "  </thead>\n",
       "  <tbody>\n",
       "    <tr>\n",
       "      <th>5347559</th>\n",
       "      <td>121918</td>\n",
       "      <td>23166</td>\n",
       "      <td>36</td>\n",
       "      <td>2</td>\n",
       "      <td>2</td>\n",
       "      <td>2022-07-01</td>\n",
       "      <td>mobile</td>\n",
       "      <td>13.057251</td>\n",
       "      <td>47.632082</td>\n",
       "      <td>POINT (13.0572509765625 47.6320819402633)</td>\n",
       "      <td>DEU</td>\n",
       "      <td>Germany</td>\n",
       "      <td>Europe</td>\n",
       "      <td>Western Europe</td>\n",
       "      <td>DE</td>\n",
       "      <td>121.918</td>\n",
       "      <td>23.166</td>\n",
       "    </tr>\n",
       "    <tr>\n",
       "      <th>5347560</th>\n",
       "      <td>47607</td>\n",
       "      <td>3937</td>\n",
       "      <td>26</td>\n",
       "      <td>1</td>\n",
       "      <td>1</td>\n",
       "      <td>2022-07-01</td>\n",
       "      <td>mobile</td>\n",
       "      <td>13.062744</td>\n",
       "      <td>47.632082</td>\n",
       "      <td>POINT (13.062744140625 47.6320819402633)</td>\n",
       "      <td>DEU</td>\n",
       "      <td>Germany</td>\n",
       "      <td>Europe</td>\n",
       "      <td>Western Europe</td>\n",
       "      <td>DE</td>\n",
       "      <td>47.607</td>\n",
       "      <td>3.937</td>\n",
       "    </tr>\n",
       "    <tr>\n",
       "      <th>5347561</th>\n",
       "      <td>74673</td>\n",
       "      <td>8763</td>\n",
       "      <td>50</td>\n",
       "      <td>1</td>\n",
       "      <td>1</td>\n",
       "      <td>2022-07-01</td>\n",
       "      <td>mobile</td>\n",
       "      <td>13.090210</td>\n",
       "      <td>47.628380</td>\n",
       "      <td>POINT (13.0902099609375 47.6283800274471)</td>\n",
       "      <td>DEU</td>\n",
       "      <td>Germany</td>\n",
       "      <td>Europe</td>\n",
       "      <td>Western Europe</td>\n",
       "      <td>DE</td>\n",
       "      <td>74.673</td>\n",
       "      <td>8.763</td>\n",
       "    </tr>\n",
       "    <tr>\n",
       "      <th>5347562</th>\n",
       "      <td>339</td>\n",
       "      <td>44</td>\n",
       "      <td>113</td>\n",
       "      <td>1</td>\n",
       "      <td>1</td>\n",
       "      <td>2022-07-01</td>\n",
       "      <td>mobile</td>\n",
       "      <td>13.018799</td>\n",
       "      <td>47.602459</td>\n",
       "      <td>POINT (13.018798828125 47.6024592954631)</td>\n",
       "      <td>DEU</td>\n",
       "      <td>Germany</td>\n",
       "      <td>Europe</td>\n",
       "      <td>Western Europe</td>\n",
       "      <td>DE</td>\n",
       "      <td>0.339</td>\n",
       "      <td>0.044</td>\n",
       "    </tr>\n",
       "    <tr>\n",
       "      <th>5347563</th>\n",
       "      <td>20851</td>\n",
       "      <td>1318</td>\n",
       "      <td>62</td>\n",
       "      <td>1</td>\n",
       "      <td>1</td>\n",
       "      <td>2022-07-01</td>\n",
       "      <td>mobile</td>\n",
       "      <td>13.013306</td>\n",
       "      <td>47.598755</td>\n",
       "      <td>POINT (13.0133056640625 47.598755284818)</td>\n",
       "      <td>DEU</td>\n",
       "      <td>Germany</td>\n",
       "      <td>Europe</td>\n",
       "      <td>Western Europe</td>\n",
       "      <td>DE</td>\n",
       "      <td>20.851</td>\n",
       "      <td>1.318</td>\n",
       "    </tr>\n",
       "  </tbody>\n",
       "</table>\n",
       "</div>"
      ],
      "text/plain": [
       "         avg_d_kbps  avg_u_kbps  avg_lat_ms  tests  devices     quarter  \\\n",
       "5347559      121918       23166          36      2        2  2022-07-01   \n",
       "5347560       47607        3937          26      1        1  2022-07-01   \n",
       "5347561       74673        8763          50      1        1  2022-07-01   \n",
       "5347562         339          44         113      1        1  2022-07-01   \n",
       "5347563       20851        1318          62      1        1  2022-07-01   \n",
       "\n",
       "        category       long        lat  \\\n",
       "5347559   mobile  13.057251  47.632082   \n",
       "5347560   mobile  13.062744  47.632082   \n",
       "5347561   mobile  13.090210  47.628380   \n",
       "5347562   mobile  13.018799  47.602459   \n",
       "5347563   mobile  13.013306  47.598755   \n",
       "\n",
       "                                          geometry iso3     name continent  \\\n",
       "5347559  POINT (13.0572509765625 47.6320819402633)  DEU  Germany    Europe   \n",
       "5347560   POINT (13.062744140625 47.6320819402633)  DEU  Germany    Europe   \n",
       "5347561  POINT (13.0902099609375 47.6283800274471)  DEU  Germany    Europe   \n",
       "5347562   POINT (13.018798828125 47.6024592954631)  DEU  Germany    Europe   \n",
       "5347563   POINT (13.0133056640625 47.598755284818)  DEU  Germany    Europe   \n",
       "\n",
       "                 region iso_3166_1_  avg_d_mbps  avg_u_mbps  \n",
       "5347559  Western Europe          DE     121.918      23.166  \n",
       "5347560  Western Europe          DE      47.607       3.937  \n",
       "5347561  Western Europe          DE      74.673       8.763  \n",
       "5347562  Western Europe          DE       0.339       0.044  \n",
       "5347563  Western Europe          DE      20.851       1.318  "
      ]
     },
     "execution_count": 11,
     "metadata": {},
     "output_type": "execute_result"
    }
   ],
   "source": [
    "df_germany.tail()"
   ]
  },
  {
   "cell_type": "code",
   "execution_count": 6,
   "metadata": {},
   "outputs": [
    {
     "name": "stdout",
     "output_type": "stream",
     "text": [
      "<class 'pandas.core.frame.DataFrame'>\n",
      "RangeIndex: 5347564 entries, 0 to 5347563\n",
      "Data columns (total 17 columns):\n",
      " #   Column       Dtype  \n",
      "---  ------       -----  \n",
      " 0   avg_d_kbps   int64  \n",
      " 1   avg_u_kbps   int64  \n",
      " 2   avg_lat_ms   int64  \n",
      " 3   tests        int64  \n",
      " 4   devices      int64  \n",
      " 5   quarter      object \n",
      " 6   category     object \n",
      " 7   long         float64\n",
      " 8   lat          float64\n",
      " 9   geometry     object \n",
      " 10  iso3         object \n",
      " 11  name         object \n",
      " 12  continent    object \n",
      " 13  region       object \n",
      " 14  iso_3166_1_  object \n",
      " 15  avg_d_mbps   float64\n",
      " 16  avg_u_mbps   float64\n",
      "dtypes: float64(4), int64(5), object(8)\n",
      "memory usage: 693.6+ MB\n"
     ]
    }
   ],
   "source": [
    "df_germany.info()"
   ]
  },
  {
   "cell_type": "code",
   "execution_count": 36,
   "metadata": {},
   "outputs": [
    {
     "data": {
      "text/plain": "         Unnamed: 0    avg_lat_ms         tests       devices          long  \\\ncount  5.347564e+06  5.347564e+06  5.347564e+06  5.347564e+06  5.347564e+06   \nmean   2.673782e+06  2.614932e+01  9.455708e+00  2.921295e+00  9.693960e+00   \nstd    1.543709e+06  4.398488e+01  2.178635e+01  4.111197e+00  2.105081e+00   \nmin    0.000000e+00  0.000000e+00  1.000000e+00  1.000000e+00  5.866699e+00   \n25%    1.336891e+06  1.400000e+01  1.000000e+00  1.000000e+00  8.003540e+00   \n50%    2.673782e+06  2.100000e+01  3.000000e+00  2.000000e+00  9.420776e+00   \n75%    4.010672e+06  3.000000e+01  9.000000e+00  3.000000e+00  1.129395e+01   \nmax    5.347563e+06  3.187100e+04  3.987000e+03  5.170000e+02  1.502930e+01   \n\n                lat    avg_d_mbps    avg_u_mbps  \ncount  5.347564e+06  5.347564e+06  5.347564e+06  \nmean   5.091353e+01  6.339939e+01  1.869401e+01  \nstd    1.753226e+00  6.810599e+01  2.373100e+01  \nmin    4.729041e+01  0.000000e+00  0.000000e+00  \n25%    4.946098e+01  2.000000e+01  6.000000e+00  \n50%    5.103794e+01  4.400000e+01  1.200000e+01  \n75%    5.224126e+01  8.300000e+01  2.400000e+01  \nmax    5.505006e+01  1.616000e+03  9.120000e+02  ",
      "text/html": "<div>\n<style scoped>\n    .dataframe tbody tr th:only-of-type {\n        vertical-align: middle;\n    }\n\n    .dataframe tbody tr th {\n        vertical-align: top;\n    }\n\n    .dataframe thead th {\n        text-align: right;\n    }\n</style>\n<table border=\"1\" class=\"dataframe\">\n  <thead>\n    <tr style=\"text-align: right;\">\n      <th></th>\n      <th>Unnamed: 0</th>\n      <th>avg_lat_ms</th>\n      <th>tests</th>\n      <th>devices</th>\n      <th>long</th>\n      <th>lat</th>\n      <th>avg_d_mbps</th>\n      <th>avg_u_mbps</th>\n    </tr>\n  </thead>\n  <tbody>\n    <tr>\n      <th>count</th>\n      <td>5.347564e+06</td>\n      <td>5.347564e+06</td>\n      <td>5.347564e+06</td>\n      <td>5.347564e+06</td>\n      <td>5.347564e+06</td>\n      <td>5.347564e+06</td>\n      <td>5.347564e+06</td>\n      <td>5.347564e+06</td>\n    </tr>\n    <tr>\n      <th>mean</th>\n      <td>2.673782e+06</td>\n      <td>2.614932e+01</td>\n      <td>9.455708e+00</td>\n      <td>2.921295e+00</td>\n      <td>9.693960e+00</td>\n      <td>5.091353e+01</td>\n      <td>6.339939e+01</td>\n      <td>1.869401e+01</td>\n    </tr>\n    <tr>\n      <th>std</th>\n      <td>1.543709e+06</td>\n      <td>4.398488e+01</td>\n      <td>2.178635e+01</td>\n      <td>4.111197e+00</td>\n      <td>2.105081e+00</td>\n      <td>1.753226e+00</td>\n      <td>6.810599e+01</td>\n      <td>2.373100e+01</td>\n    </tr>\n    <tr>\n      <th>min</th>\n      <td>0.000000e+00</td>\n      <td>0.000000e+00</td>\n      <td>1.000000e+00</td>\n      <td>1.000000e+00</td>\n      <td>5.866699e+00</td>\n      <td>4.729041e+01</td>\n      <td>0.000000e+00</td>\n      <td>0.000000e+00</td>\n    </tr>\n    <tr>\n      <th>25%</th>\n      <td>1.336891e+06</td>\n      <td>1.400000e+01</td>\n      <td>1.000000e+00</td>\n      <td>1.000000e+00</td>\n      <td>8.003540e+00</td>\n      <td>4.946098e+01</td>\n      <td>2.000000e+01</td>\n      <td>6.000000e+00</td>\n    </tr>\n    <tr>\n      <th>50%</th>\n      <td>2.673782e+06</td>\n      <td>2.100000e+01</td>\n      <td>3.000000e+00</td>\n      <td>2.000000e+00</td>\n      <td>9.420776e+00</td>\n      <td>5.103794e+01</td>\n      <td>4.400000e+01</td>\n      <td>1.200000e+01</td>\n    </tr>\n    <tr>\n      <th>75%</th>\n      <td>4.010672e+06</td>\n      <td>3.000000e+01</td>\n      <td>9.000000e+00</td>\n      <td>3.000000e+00</td>\n      <td>1.129395e+01</td>\n      <td>5.224126e+01</td>\n      <td>8.300000e+01</td>\n      <td>2.400000e+01</td>\n    </tr>\n    <tr>\n      <th>max</th>\n      <td>5.347563e+06</td>\n      <td>3.187100e+04</td>\n      <td>3.987000e+03</td>\n      <td>5.170000e+02</td>\n      <td>1.502930e+01</td>\n      <td>5.505006e+01</td>\n      <td>1.616000e+03</td>\n      <td>9.120000e+02</td>\n    </tr>\n  </tbody>\n</table>\n</div>"
     },
     "execution_count": 36,
     "metadata": {},
     "output_type": "execute_result"
    }
   ],
   "source": [
    "df_germany.describe()"
   ]
  },
  {
   "attachments": {},
   "cell_type": "markdown",
   "metadata": {},
   "source": [
    "#### Visual Exploration"
   ]
  },
  {
   "cell_type": "code",
   "execution_count": 39,
   "metadata": {},
   "outputs": [
    {
     "data": {
      "text/plain": "<seaborn.axisgrid.FacetGrid at 0x28296de6d90>"
     },
     "execution_count": 39,
     "metadata": {},
     "output_type": "execute_result"
    },
    {
     "data": {
      "text/plain": "<Figure size 500x500 with 1 Axes>",
      "image/png": "[encoded data removed]"
     },
     "metadata": {},
     "output_type": "display_data"
    }
   ],
   "source": [
    "# Plot count broadband types fixed and mobile\n",
    "plt = sns.catplot(data=df_germany,\n",
    "\t\t\tx=\"category\",\n",
    "\t\t\tkind=\"count\"\n",
    "\t\t    )\n",
    "\n",
    "plt"
   ]
  },
  {
   "cell_type": "code",
   "execution_count": 46,
   "metadata": {},
   "outputs": [
    {
     "ename": "AttributeError",
     "evalue": "'FacetGrid' object has no attribute 'show'",
     "output_type": "error",
     "traceback": [
      "\u001B[0;31m---------------------------------------------------------------------------\u001B[0m",
      "\u001B[0;31mAttributeError\u001B[0m                            Traceback (most recent call last)",
      "Cell \u001B[0;32mIn[46], line 7\u001B[0m\n\u001B[1;32m      1\u001B[0m \u001B[39m# Boxplots\u001B[39;00m\n\u001B[1;32m      2\u001B[0m sns\u001B[39m.\u001B[39mcatplot(data\u001B[39m=\u001B[39mdf_germany,\n\u001B[1;32m      3\u001B[0m             x\u001B[39m=\u001B[39m\u001B[39m\"\u001B[39m\u001B[39mavg_d_mbps\u001B[39m\u001B[39m\"\u001B[39m, y\u001B[39m=\u001B[39m\u001B[39m\"\u001B[39m\u001B[39mcategory\u001B[39m\u001B[39m\"\u001B[39m,\n\u001B[1;32m      4\u001B[0m             kind\u001B[39m=\u001B[39m\u001B[39m\"\u001B[39m\u001B[39mbox\u001B[39m\u001B[39m\"\u001B[39m\n\u001B[1;32m      5\u001B[0m             )\n\u001B[0;32m----> 7\u001B[0m plt\u001B[39m.\u001B[39;49mshow()\n",
      "\u001B[0;31mAttributeError\u001B[0m: 'FacetGrid' object has no attribute 'show'"
     ]
    },
    {
     "data": {
      "image/png": "[encoded data removed]",
      "text/plain": [
       "<Figure size 500x500 with 1 Axes>"
      ]
     },
     "metadata": {},
     "output_type": "display_data"
    }
   ],
   "source": [
    "# Boxplots\n",
    "sns.catplot(data=df_germany,\n",
    "            x=\"avg_d_mbps\", y=\"category\",\n",
    "            kind=\"box\"\n",
    "            )\n",
    "\n",
    "plt.show()"
   ]
  },
  {
   "attachments": {},
   "cell_type": "markdown",
   "metadata": {},
   "source": [
    "### Data Exploration (Whole World)"
   ]
  },
  {
   "cell_type": "code",
   "execution_count": 59,
   "metadata": {},
   "outputs": [],
   "source": [
    "# df_world = pd.read_csv('./data/final_data/world_aggregated_final.csv', sep=';')\n",
    "df_world = pd.read_csv('../../Documents/Master/Semester1/Visual_Analytics/Data_Input_final/world_aggregated_final.csv', sep=';')"
   ]
  },
  {
   "attachments": {},
   "cell_type": "markdown",
   "metadata": {},
   "source": [
    "#### Numerical"
   ]
  },
  {
   "cell_type": "code",
   "execution_count": 60,
   "metadata": {},
   "outputs": [
    {
     "data": {
      "text/plain": "             country     quarter category  devices   tests  row_count  \\\n0        Afghanistan  2019-01-01    fixed     2884   13839        819   \n1            Albania  2019-01-01    fixed    23259   73138       6259   \n2            Algeria  2019-01-01    fixed     9787   42838       4774   \n3     American Samoa  2019-01-01    fixed      161     618         72   \n4            Andorra  2019-01-01    fixed     2132    4574        235   \n5             Angola  2019-01-01    fixed     2447    8300        658   \n6           Anguilla  2019-01-01    fixed      552    1847        148   \n7  Antigua & Barbuda  2019-01-01    fixed     1557    5761        353   \n8          Argentina  2019-01-01    fixed   106387  337385      25896   \n9            Armenia  2019-01-01    fixed    21983   70255       4026   \n\n   avg_lat_ms  avg_d_mbps  avg_u_mbps  \n0          79           5           5  \n1          27          15           7  \n2          80           4           2  \n3         120          16           6  \n4          12          67          62  \n5          37          11           4  \n6          41          17           7  \n7          64          11           5  \n8          33          26           5  \n9          14          21          18  ",
      "text/html": "<div>\n<style scoped>\n    .dataframe tbody tr th:only-of-type {\n        vertical-align: middle;\n    }\n\n    .dataframe tbody tr th {\n        vertical-align: top;\n    }\n\n    .dataframe thead th {\n        text-align: right;\n    }\n</style>\n<table border=\"1\" class=\"dataframe\">\n  <thead>\n    <tr style=\"text-align: right;\">\n      <th></th>\n      <th>country</th>\n      <th>quarter</th>\n      <th>category</th>\n      <th>devices</th>\n      <th>tests</th>\n      <th>row_count</th>\n      <th>avg_lat_ms</th>\n      <th>avg_d_mbps</th>\n      <th>avg_u_mbps</th>\n    </tr>\n  </thead>\n  <tbody>\n    <tr>\n      <th>0</th>\n      <td>Afghanistan</td>\n      <td>2019-01-01</td>\n      <td>fixed</td>\n      <td>2884</td>\n      <td>13839</td>\n      <td>819</td>\n      <td>79</td>\n      <td>5</td>\n      <td>5</td>\n    </tr>\n    <tr>\n      <th>1</th>\n      <td>Albania</td>\n      <td>2019-01-01</td>\n      <td>fixed</td>\n      <td>23259</td>\n      <td>73138</td>\n      <td>6259</td>\n      <td>27</td>\n      <td>15</td>\n      <td>7</td>\n    </tr>\n    <tr>\n      <th>2</th>\n      <td>Algeria</td>\n      <td>2019-01-01</td>\n      <td>fixed</td>\n      <td>9787</td>\n      <td>42838</td>\n      <td>4774</td>\n      <td>80</td>\n      <td>4</td>\n      <td>2</td>\n    </tr>\n    <tr>\n      <th>3</th>\n      <td>American Samoa</td>\n      <td>2019-01-01</td>\n      <td>fixed</td>\n      <td>161</td>\n      <td>618</td>\n      <td>72</td>\n      <td>120</td>\n      <td>16</td>\n      <td>6</td>\n    </tr>\n    <tr>\n      <th>4</th>\n      <td>Andorra</td>\n      <td>2019-01-01</td>\n      <td>fixed</td>\n      <td>2132</td>\n      <td>4574</td>\n      <td>235</td>\n      <td>12</td>\n      <td>67</td>\n      <td>62</td>\n    </tr>\n    <tr>\n      <th>5</th>\n      <td>Angola</td>\n      <td>2019-01-01</td>\n      <td>fixed</td>\n      <td>2447</td>\n      <td>8300</td>\n      <td>658</td>\n      <td>37</td>\n      <td>11</td>\n      <td>4</td>\n    </tr>\n    <tr>\n      <th>6</th>\n      <td>Anguilla</td>\n      <td>2019-01-01</td>\n      <td>fixed</td>\n      <td>552</td>\n      <td>1847</td>\n      <td>148</td>\n      <td>41</td>\n      <td>17</td>\n      <td>7</td>\n    </tr>\n    <tr>\n      <th>7</th>\n      <td>Antigua &amp; Barbuda</td>\n      <td>2019-01-01</td>\n      <td>fixed</td>\n      <td>1557</td>\n      <td>5761</td>\n      <td>353</td>\n      <td>64</td>\n      <td>11</td>\n      <td>5</td>\n    </tr>\n    <tr>\n      <th>8</th>\n      <td>Argentina</td>\n      <td>2019-01-01</td>\n      <td>fixed</td>\n      <td>106387</td>\n      <td>337385</td>\n      <td>25896</td>\n      <td>33</td>\n      <td>26</td>\n      <td>5</td>\n    </tr>\n    <tr>\n      <th>9</th>\n      <td>Armenia</td>\n      <td>2019-01-01</td>\n      <td>fixed</td>\n      <td>21983</td>\n      <td>70255</td>\n      <td>4026</td>\n      <td>14</td>\n      <td>21</td>\n      <td>18</td>\n    </tr>\n  </tbody>\n</table>\n</div>"
     },
     "execution_count": 60,
     "metadata": {},
     "output_type": "execute_result"
    }
   ],
   "source": [
    "df_world.head(10)"
   ]
  },
  {
   "cell_type": "code",
   "execution_count": 61,
   "metadata": {},
   "outputs": [
    {
     "data": {
      "text/plain": "(6995, 9)"
     },
     "execution_count": 61,
     "metadata": {},
     "output_type": "execute_result"
    }
   ],
   "source": [
    "df_world.shape"
   ]
  },
  {
   "cell_type": "code",
   "execution_count": 44,
   "metadata": {},
   "outputs": [
    {
     "name": "stdout",
     "output_type": "stream",
     "text": [
      "<class 'pandas.core.frame.DataFrame'>\n",
      "RangeIndex: 6995 entries, 0 to 6994\n",
      "Data columns (total 8 columns):\n",
      " #   Column      Non-Null Count  Dtype \n",
      "---  ------      --------------  ----- \n",
      " 0   country     6995 non-null   object\n",
      " 1   quarter     6995 non-null   object\n",
      " 2   category    6995 non-null   object\n",
      " 3   devices     6995 non-null   int64 \n",
      " 4   tests       6995 non-null   int64 \n",
      " 5   avg_lat_ms  6995 non-null   int64 \n",
      " 6   avg_d_mbps  6995 non-null   int64 \n",
      " 7   avg_u_mbps  6995 non-null   int64 \n",
      "dtypes: int64(5), object(3)\n",
      "memory usage: 437.3+ KB\n"
     ]
    }
   ],
   "source": [
    "df_world.info()"
   ]
  },
  {
   "cell_type": "code",
   "execution_count": 46,
   "metadata": {},
   "outputs": [
    {
     "data": {
      "text/plain": "            devices         tests     row_count   avg_lat_ms   avg_d_mbps  \\\ncount  6.995000e+03  6.995000e+03  6.995000e+03  6995.000000  6995.000000   \nmean   1.031419e+05  3.448508e+05  2.168110e+04    57.154682    42.117941   \nstd    4.124471e+05  1.495993e+06  9.145172e+04   105.572755    41.304213   \nmin    1.000000e+00  1.000000e+00  1.000000e+00     3.000000     0.000000   \n25%    3.685000e+02  9.295000e+02  1.590000e+02    21.000000    15.000000   \n50%    3.480000e+03  9.831000e+03  1.025000e+03    31.000000    28.000000   \n75%    4.426600e+04  1.092515e+05  1.035050e+04    48.000000    53.000000   \nmax    7.892389e+06  3.220960e+07  1.706847e+06  1896.000000   376.000000   \n\n        avg_u_mbps  \ncount  6995.000000  \nmean     19.850751  \nstd      25.979079  \nmin       0.000000  \n25%       8.000000  \n50%      12.000000  \n75%      19.000000  \nmax     211.000000  ",
      "text/html": "<div>\n<style scoped>\n    .dataframe tbody tr th:only-of-type {\n        vertical-align: middle;\n    }\n\n    .dataframe tbody tr th {\n        vertical-align: top;\n    }\n\n    .dataframe thead th {\n        text-align: right;\n    }\n</style>\n<table border=\"1\" class=\"dataframe\">\n  <thead>\n    <tr style=\"text-align: right;\">\n      <th></th>\n      <th>devices</th>\n      <th>tests</th>\n      <th>row_count</th>\n      <th>avg_lat_ms</th>\n      <th>avg_d_mbps</th>\n      <th>avg_u_mbps</th>\n    </tr>\n  </thead>\n  <tbody>\n    <tr>\n      <th>count</th>\n      <td>6.995000e+03</td>\n      <td>6.995000e+03</td>\n      <td>6.995000e+03</td>\n      <td>6995.000000</td>\n      <td>6995.000000</td>\n      <td>6995.000000</td>\n    </tr>\n    <tr>\n      <th>mean</th>\n      <td>1.031419e+05</td>\n      <td>3.448508e+05</td>\n      <td>2.168110e+04</td>\n      <td>57.154682</td>\n      <td>42.117941</td>\n      <td>19.850751</td>\n    </tr>\n    <tr>\n      <th>std</th>\n      <td>4.124471e+05</td>\n      <td>1.495993e+06</td>\n      <td>9.145172e+04</td>\n      <td>105.572755</td>\n      <td>41.304213</td>\n      <td>25.979079</td>\n    </tr>\n    <tr>\n      <th>min</th>\n      <td>1.000000e+00</td>\n      <td>1.000000e+00</td>\n      <td>1.000000e+00</td>\n      <td>3.000000</td>\n      <td>0.000000</td>\n      <td>0.000000</td>\n    </tr>\n    <tr>\n      <th>25%</th>\n      <td>3.685000e+02</td>\n      <td>9.295000e+02</td>\n      <td>1.590000e+02</td>\n      <td>21.000000</td>\n      <td>15.000000</td>\n      <td>8.000000</td>\n    </tr>\n    <tr>\n      <th>50%</th>\n      <td>3.480000e+03</td>\n      <td>9.831000e+03</td>\n      <td>1.025000e+03</td>\n      <td>31.000000</td>\n      <td>28.000000</td>\n      <td>12.000000</td>\n    </tr>\n    <tr>\n      <th>75%</th>\n      <td>4.426600e+04</td>\n      <td>1.092515e+05</td>\n      <td>1.035050e+04</td>\n      <td>48.000000</td>\n      <td>53.000000</td>\n      <td>19.000000</td>\n    </tr>\n    <tr>\n      <th>max</th>\n      <td>7.892389e+06</td>\n      <td>3.220960e+07</td>\n      <td>1.706847e+06</td>\n      <td>1896.000000</td>\n      <td>376.000000</td>\n      <td>211.000000</td>\n    </tr>\n  </tbody>\n</table>\n</div>"
     },
     "execution_count": 46,
     "metadata": {},
     "output_type": "execute_result"
    }
   ],
   "source": [
    "df_world.describe()"
   ]
  },
  {
   "attachments": {},
   "cell_type": "markdown",
   "metadata": {},
   "source": [
    "#### Visual"
   ]
  },
  {
   "cell_type": "code",
   "execution_count": 62,
   "metadata": {},
   "outputs": [
    {
     "data": {
      "text/plain": "<seaborn.axisgrid.FacetGrid at 0x24ec56b1fd0>"
     },
     "execution_count": 62,
     "metadata": {},
     "output_type": "execute_result"
    },
    {
     "data": {
      "text/plain": "<Figure size 500x500 with 1 Axes>",
      "image/png": "[encoded data removed]"
     },
     "metadata": {},
     "output_type": "display_data"
    }
   ],
   "source": [
    "# Plot count tests per country\n",
    "plt = sns.catplot(data=df_world,\n",
    "\t\t\tx=\"category\",\n",
    "\t\t\tkind=\"count\"\n",
    "\t\t    )\n",
    "\n",
    "plt"
   ]
  },
  {
   "cell_type": "code",
   "execution_count": 48,
   "metadata": {},
   "outputs": [
    {
     "name": "stderr",
     "output_type": "stream",
     "text": [
      "C:\\Users\\julia\\AppData\\Local\\Temp\\ipykernel_20536\\1431113144.py:2: UserWarning: Boolean Series key will be reindexed to match DataFrame index.\n",
      "  df_top_10_d = df_world.sort_values(by=['avg_d_mbps'], ascending=False)[(df_world['quarter'] == '2022-07-01') & (df_world['tests'] > 10000)].iloc[:10]\n"
     ]
    }
   ],
   "source": [
    "# countries with highest avg download speeds in some quarter\n",
    "df_top_10_d = df_world.sort_values(by=['avg_d_mbps'], ascending=False)[(df_world['quarter'] == '2022-07-01') & (df_world['tests'] > 10000)].iloc[:10]"
   ]
  },
  {
   "cell_type": "code",
   "execution_count": 49,
   "metadata": {},
   "outputs": [
    {
     "data": {
      "text/plain": "                       country     quarter category  devices     tests  \\\n6934         Republic of Korea  2022-07-01   mobile    17258     34154   \n3362                     Chile  2022-07-01    fixed   249469    775648   \n3512                 Singapore  2022-07-01    fixed    83530    321013   \n3417                 Hong Kong  2022-07-01    fixed   102499    404698   \n3363                     China  2022-07-01    fixed  1356979   4921189   \n6981      United Arab Emirates  2022-07-01   mobile    18244     49308   \n3530                  Thailand  2022-07-01    fixed   676030   2164643   \n3546  United States of America  2022-07-01    fixed  5818788  19823785   \n6791                  Bulgaria  2022-07-01   mobile    37855     66492   \n6776                   Bahrain  2022-07-01   mobile     9992     17820   \n\n      row_count  avg_lat_ms  avg_d_mbps  avg_u_mbps  \n6934       9840          34         259          28  \n3362      22052          11         255         184  \n3512        982           5         244         211  \n3417       1324           6         240         196  \n3363     461226          14         234          55  \n6981       5307          35         226          29  \n3530     117756           7         215         179  \n3546    1601486          22         214          69  \n6791      11008          30         211          26  \n6776        831          20         204          25  ",
      "text/html": "<div>\n<style scoped>\n    .dataframe tbody tr th:only-of-type {\n        vertical-align: middle;\n    }\n\n    .dataframe tbody tr th {\n        vertical-align: top;\n    }\n\n    .dataframe thead th {\n        text-align: right;\n    }\n</style>\n<table border=\"1\" class=\"dataframe\">\n  <thead>\n    <tr style=\"text-align: right;\">\n      <th></th>\n      <th>country</th>\n      <th>quarter</th>\n      <th>category</th>\n      <th>devices</th>\n      <th>tests</th>\n      <th>row_count</th>\n      <th>avg_lat_ms</th>\n      <th>avg_d_mbps</th>\n      <th>avg_u_mbps</th>\n    </tr>\n  </thead>\n  <tbody>\n    <tr>\n      <th>6934</th>\n      <td>Republic of Korea</td>\n      <td>2022-07-01</td>\n      <td>mobile</td>\n      <td>17258</td>\n      <td>34154</td>\n      <td>9840</td>\n      <td>34</td>\n      <td>259</td>\n      <td>28</td>\n    </tr>\n    <tr>\n      <th>3362</th>\n      <td>Chile</td>\n      <td>2022-07-01</td>\n      <td>fixed</td>\n      <td>249469</td>\n      <td>775648</td>\n      <td>22052</td>\n      <td>11</td>\n      <td>255</td>\n      <td>184</td>\n    </tr>\n    <tr>\n      <th>3512</th>\n      <td>Singapore</td>\n      <td>2022-07-01</td>\n      <td>fixed</td>\n      <td>83530</td>\n      <td>321013</td>\n      <td>982</td>\n      <td>5</td>\n      <td>244</td>\n      <td>211</td>\n    </tr>\n    <tr>\n      <th>3417</th>\n      <td>Hong Kong</td>\n      <td>2022-07-01</td>\n      <td>fixed</td>\n      <td>102499</td>\n      <td>404698</td>\n      <td>1324</td>\n      <td>6</td>\n      <td>240</td>\n      <td>196</td>\n    </tr>\n    <tr>\n      <th>3363</th>\n      <td>China</td>\n      <td>2022-07-01</td>\n      <td>fixed</td>\n      <td>1356979</td>\n      <td>4921189</td>\n      <td>461226</td>\n      <td>14</td>\n      <td>234</td>\n      <td>55</td>\n    </tr>\n    <tr>\n      <th>6981</th>\n      <td>United Arab Emirates</td>\n      <td>2022-07-01</td>\n      <td>mobile</td>\n      <td>18244</td>\n      <td>49308</td>\n      <td>5307</td>\n      <td>35</td>\n      <td>226</td>\n      <td>29</td>\n    </tr>\n    <tr>\n      <th>3530</th>\n      <td>Thailand</td>\n      <td>2022-07-01</td>\n      <td>fixed</td>\n      <td>676030</td>\n      <td>2164643</td>\n      <td>117756</td>\n      <td>7</td>\n      <td>215</td>\n      <td>179</td>\n    </tr>\n    <tr>\n      <th>3546</th>\n      <td>United States of America</td>\n      <td>2022-07-01</td>\n      <td>fixed</td>\n      <td>5818788</td>\n      <td>19823785</td>\n      <td>1601486</td>\n      <td>22</td>\n      <td>214</td>\n      <td>69</td>\n    </tr>\n    <tr>\n      <th>6791</th>\n      <td>Bulgaria</td>\n      <td>2022-07-01</td>\n      <td>mobile</td>\n      <td>37855</td>\n      <td>66492</td>\n      <td>11008</td>\n      <td>30</td>\n      <td>211</td>\n      <td>26</td>\n    </tr>\n    <tr>\n      <th>6776</th>\n      <td>Bahrain</td>\n      <td>2022-07-01</td>\n      <td>mobile</td>\n      <td>9992</td>\n      <td>17820</td>\n      <td>831</td>\n      <td>20</td>\n      <td>204</td>\n      <td>25</td>\n    </tr>\n  </tbody>\n</table>\n</div>"
     },
     "execution_count": 49,
     "metadata": {},
     "output_type": "execute_result"
    }
   ],
   "source": [
    "df_top_10_d"
   ]
  },
  {
   "cell_type": "code",
   "execution_count": 63,
   "outputs": [],
   "source": [
    "# aggregate the df_world once more (weighted average on number of rows)\n",
    "# reasons: 1) check which countries to remove (see below)\n",
    "#          2) later, we will this compare weighted average calculation to simple mean\n",
    "#          3) based on our analysis in 2), we will come to the conclusion that this fully aggregated version of the dataset has to be the one we load into PowerBI\n",
    "\n",
    "# this logic uses the same workaround for the weighted average as in combined_preprocessed_files\n",
    "def weighted_average_calculation(df_world):\n",
    "\tdf_world['product1'] = df_world['avg_d_mbps'] * df_world['row_count']\n",
    "\tdf_world['product2'] = df_world['avg_u_mbps'] * df_world['row_count']\n",
    "\tdf_world['product3'] = df_world['avg_lat_ms'] * df_world['row_count']\n",
    "\n",
    "\tdf_world_agg = df_world.groupby('country', as_index=False).agg({'product1': sum,\n",
    "\t\t\t\t\t\t\t\t\t\t\t\t\t\t\t\t\t'product2': sum,\n",
    "\t\t\t\t\t\t\t\t\t\t\t\t\t\t\t\t\t'product3': sum,\n",
    "\t\t\t\t\t\t\t\t\t\t\t\t\t\t\t\t\t'row_count': sum,\n",
    "\t\t\t\t\t\t\t\t\t\t\t\t\t\t\t\t\t'devices': sum,\n",
    "\t\t\t\t\t\t\t\t\t\t\t\t\t\t\t\t\t'tests': sum})\n",
    "\n",
    "\tdf_world_agg['avg_d_mbps'] = df_world_agg['product1'] / df_world_agg['row_count']\n",
    "\tdf_world_agg['avg_u_mbps'] = df_world_agg['product2'] / df_world_agg['row_count']\n",
    "\tdf_world_agg['avg_lat_ms'] = df_world_agg['product3'] / df_world_agg['row_count']\n",
    "\n",
    "\tdf_world_agg = df_world_agg.drop(columns=['product1', 'product2', 'product3'])\n",
    "\n",
    "\tdf_world_agg = df_world_agg.sort_values('avg_d_mbps')\n",
    "\treturn df_world_agg"
   ],
   "metadata": {
    "collapsed": false
   }
  },
  {
   "cell_type": "code",
   "execution_count": 64,
   "outputs": [],
   "source": [
    "df_world_agg = weighted_average_calculation(df_world)"
   ],
   "metadata": {
    "collapsed": false
   }
  },
  {
   "cell_type": "code",
   "execution_count": 65,
   "outputs": [],
   "source": [
    "# there are small territories (which are not even countries) that falsify the result. They should not be in the country ranking and most of them even have so little amount of tests that we can consider them insignificant. Thus, we drop them from both dataframes.\n",
    "territory_drop_list = ['South Georgia & the South Sandwich Islands',\n",
    "\t\t\t\t\t   'Reunion',\n",
    "\t\t\t\t\t   'Jersey',\n",
    "\t\t\t\t\t   'Macao',\n",
    "\t\t\t\t\t   'Azores Islands',\n",
    "\t\t\t\t\t   'Kuril Islands',\n",
    "\t\t\t\t\t   'Madeira Islands',\n",
    "\t\t\t\t\t   'Gibraltar',\n",
    "\t\t\t\t\t   'Bermuda',\n",
    "\t\t\t\t\t   'Holy See',\n",
    "\t\t\t\t\t   'French Guiana',\n",
    "\t\t\t\t\t   'Aruba',\n",
    "\t\t\t\t\t   'Puerto Rico',\n",
    "\t\t\t\t\t   'Guadeloupe',\n",
    "\t\t\t\t\t   'Svalbard and Jan Mayen Islands',\n",
    "\t\t\t\t\t   'Martinique',\n",
    "\t\t\t\t\t   'Aksai Chin',\n",
    "\t\t\t\t\t   'West Bank',\n",
    "\t\t\t\t\t   'Faroe Islands',\n",
    "\t\t\t\t\t   'Isle of Man',\n",
    "\t\t\t\t\t   'Cayman Islands',\n",
    "\t\t\t\t\t   'British Virgin Islands',\n",
    "\t\t\t\t\t   'Netherlands Artilles',\n",
    "\t\t\t\t\t   'New Caledonia',\n",
    "\t\t\t\t\t   'Guam',\n",
    "\t\t\t\t\t   'Northern Mariana Islands',\n",
    "\t\t\t\t\t   'Jammu-Kashmir',\n",
    "\t\t\t\t\t   'Montserrat',\n",
    "\t\t\t\t\t   'Guernsey',\n",
    "\t\t\t\t\t   'United States Virgin Islands',\n",
    "\t\t\t\t\t   'Midway Is.',\n",
    "\t\t\t\t\t   'Heard Island and McDonald Islands',\n",
    "\t\t\t\t\t   'Greenland',\n",
    "\t\t\t\t\t   'American Samoa',\n",
    "\t\t\t\t\t   'Arunachal Pradesh',\n",
    "\t\t\t\t\t   'Anguilla',\n",
    "\t\t\t\t\t   'Guantanamo',\n",
    "\t\t\t\t\t   'Norfolk Island',\n",
    "\t\t\t\t\t   'French Polynesia',\n",
    "\t\t\t\t\t   'Turks and Caicos Islands',\n",
    "\t\t\t\t\t   'Gaza Strip',\n",
    "\t\t\t\t\t   'Mayotte',\n",
    "\t\t\t\t\t   'French Southern and Antarctic Territories',\n",
    "\t\t\t\t\t   'Cocos (Keeling) Islands',\n",
    "\t\t\t\t\t   'Christmas Island',\n",
    "\t\t\t\t\t   'Niue',\n",
    "\t\t\t\t\t   \"Hala'ib Triangle\",\n",
    "\t\t\t\t\t   'British Indian Ocean Territory',\n",
    "\t\t\t\t\t   'Falkland Islands (Malvinas)',\n",
    "\t\t\t\t\t   'Abyei']\n",
    "df_world_agg = df_world_agg[df_world_agg['country'].isin(territory_drop_list) == False]"
   ],
   "metadata": {
    "collapsed": false
   }
  },
  {
   "cell_type": "code",
   "execution_count": 66,
   "outputs": [
    {
     "name": "stdout",
     "output_type": "stream",
     "text": [
      "\n"
     ]
    }
   ],
   "source": [
    "# comparison of weighted average with standard mean:\n",
    "\n",
    "# As a reminder: weighted average is computationally correct, the mean would be easy to implement in PowerBI\n",
    "# Purpose of this comparison is to find out how far they are apart, to check if it makes sense to implement the mean as a proxy for the weighted average\n",
    "\n",
    "# 1) calculate aggregation with mean\n",
    "world_grouped = df_world.groupby('country',\n",
    "\t\t\t\t\t\t\t\t as_index=False).agg({'avg_d_mbps': np.average,\n",
    "\t\t\t\t\t\t\t\t\t\t\t\t \t  'avg_u_mbps': np.average,\n",
    "\t\t\t\t\t\t\t\t\t\t\t\t\t  'avg_lat_ms': np.average,\n",
    "\t\t\t\t\t\t\t\t\t\t\t\t\t  'devices': sum,\n",
    "\t\t\t\t\t\t\t\t\t\t\t\t\t  'tests': sum})\n",
    "\n",
    "# 2) merge mean results with weighted average results\n",
    "merged = df_world_agg.merge(world_grouped, on='country', how='left')\n",
    "\n",
    "# 3) create comparison columns\n",
    "merged['diff_download'] = abs((merged['avg_d_mbps_x'] - merged['avg_d_mbps_y']) / merged['avg_d_mbps_x'])\n",
    "merged['diff_upload'] = abs((merged['avg_u_mbps_x'] - merged['avg_u_mbps_y']) / merged['avg_u_mbps_x'])\n",
    "merged['diff_latency'] = abs((merged['avg_lat_ms_x'] - merged['avg_lat_ms_y']) / merged['avg_lat_ms_x'])\n",
    "print()\n",
    "# when you look at the difference measures for the most important countries (the ones at the beginning of the list, you can see that the differences are very high\n",
    "# thus, mean is no good proxy for weighted average\n",
    "# we tried to implement the weighted average as aggregation measure in PowerBI, but did not manage to do so (we are not sure if it is even possible). Thus, we decided to load the fully aggregated version of the world dataset into PowerBI (which was already correctly aggregated in Python). This means that unfortunately, no filtering of the \"International Comparison\" table and the \"Germany World Rank\" are possible. However, our approach ensures that the presented figures are correct. Moreover, if you wanted to, you can load in different data from Python to analyze the world ranking for a specific category or time period."
   ],
   "metadata": {
    "collapsed": false
   }
  },
  {
   "cell_type": "code",
   "execution_count": 70,
   "outputs": [
    {
     "name": "stderr",
     "output_type": "stream",
     "text": [
      "C:\\Program Files\\JetBrains\\PyCharm 2022.3\\plugins\\python\\helpers\\pydev\\_pydevd_bundle\\pydevd_utils.py:608: FutureWarning: The behavior of `series[i:j]` with an integer-dtype index is deprecated. In a future version, this will be treated as *label-based* indexing, consistent with e.g. `series[i]` lookups. To retain the old behavior, use `series.iloc[i:j]`. To get the future behavior, use `series.loc[i:j]`.\n",
      "  s = s[:max_items]\n",
      "C:\\Program Files\\JetBrains\\PyCharm 2022.3\\plugins\\python\\helpers\\pydev\\_pydevd_bundle\\pydevd_utils.py:609: FutureWarning: iteritems is deprecated and will be removed in a future version. Use .items instead.\n",
      "  for item in s.iteritems():\n",
      "C:\\Program Files\\JetBrains\\PyCharm 2022.3\\plugins\\python\\helpers\\pydev\\_pydevd_bundle\\pydevd_utils.py:608: FutureWarning: The behavior of `series[i:j]` with an integer-dtype index is deprecated. In a future version, this will be treated as *label-based* indexing, consistent with e.g. `series[i]` lookups. To retain the old behavior, use `series.iloc[i:j]`. To get the future behavior, use `series.loc[i:j]`.\n",
      "  s = s[:max_items]\n",
      "C:\\Program Files\\JetBrains\\PyCharm 2022.3\\plugins\\python\\helpers\\pydev\\_pydevd_bundle\\pydevd_utils.py:609: FutureWarning: iteritems is deprecated and will be removed in a future version. Use .items instead.\n",
      "  for item in s.iteritems():\n"
     ]
    }
   ],
   "source": [
    "# last transformations for world dataset before reading it into PowerBI:\n",
    "\n",
    "# drop territories that aren't countries\n",
    "df_world= df_world[df_world['country'].isin(territory_drop_list) == False]\n",
    "\n",
    "# filter for last 4 quarters\n",
    "df_world['quarter'] = pd.to_datetime(df_world['quarter']).dt.date\n",
    "# df_world_final = df_world[df_world['quarter'] >= dt.date(2021, 9, 30)]\n",
    "\n",
    "\n",
    "# redo weighted average calculation\n",
    "df_world_final = weighted_average_calculation(df_world.copy())\n",
    "\n",
    "# drop unnecessary countries that have too little datapoints for 2022 / are too small for comparison to Germany\n",
    "df_world_final = df_world_final[df_world_final['row_count'] >= 10000]\n",
    "\n",
    "# add ranking columns to df_world_agg (necessary for world rankings)\n",
    "df_world_final['rank_download'] = df_world_final['avg_d_mbps'].rank(ascending=False)\n",
    "df_world_final['rank_upload'] = df_world_final['avg_u_mbps'].rank(ascending=False)\n",
    "df_world_final['rank_latency'] = df_world_final['avg_lat_ms'].rank(ascending=True)"
   ],
   "metadata": {
    "collapsed": false
   }
  },
  {
   "cell_type": "code",
   "execution_count": 41,
   "outputs": [
    {
     "data": {
      "text/plain": "                      country  devices     tests  avg_d_mbps  avg_u_mbps  \\\n180              Turkmenistan    21883     82824    2.820774    3.145775   \n56                    Eritrea       82       338    4.707317    1.207317   \n0                 Afghanistan    11655     45048    5.993393    4.333591   \n32   Central African Republic      194       603    6.092784    2.020619   \n107          Marshall Islands       19        56    6.789474    6.894737   \n..                        ...      ...       ...         ...         ...   \n113                    Monaco     4731     13019  195.193828  137.884380   \n140         Republic of Korea   269371    787714  199.433410  125.742092   \n75                  Hong Kong   565971   2134566  204.111313  151.686436   \n35                      China  7541521  27863130  210.020174   49.017057   \n155                 Singapore   439722   1581409  211.453177  168.410857   \n\n     avg_lat_ms  rank_download  rank_upload  rank_latency  \n180   55.448750          196.0        194.0         171.0  \n56   625.829268          195.0        196.0         196.0  \n0     56.142342          194.0        192.0         172.0  \n32   458.237113          193.0        195.0         195.0  \n107   74.263158          192.0        181.0         178.0  \n..          ...            ...          ...           ...  \n113   18.682731            5.0          4.0          67.0  \n140   13.479666            4.0          5.0          27.0  \n75     9.206640            3.0          2.0           6.0  \n35    16.146983            2.0         40.0          48.0  \n155    8.408867            1.0          1.0           4.0  \n\n[196 rows x 9 columns]",
      "text/html": "<div>\n<style scoped>\n    .dataframe tbody tr th:only-of-type {\n        vertical-align: middle;\n    }\n\n    .dataframe tbody tr th {\n        vertical-align: top;\n    }\n\n    .dataframe thead th {\n        text-align: right;\n    }\n</style>\n<table border=\"1\" class=\"dataframe\">\n  <thead>\n    <tr style=\"text-align: right;\">\n      <th></th>\n      <th>country</th>\n      <th>devices</th>\n      <th>tests</th>\n      <th>avg_d_mbps</th>\n      <th>avg_u_mbps</th>\n      <th>avg_lat_ms</th>\n      <th>rank_download</th>\n      <th>rank_upload</th>\n      <th>rank_latency</th>\n    </tr>\n  </thead>\n  <tbody>\n    <tr>\n      <th>180</th>\n      <td>Turkmenistan</td>\n      <td>21883</td>\n      <td>82824</td>\n      <td>2.820774</td>\n      <td>3.145775</td>\n      <td>55.448750</td>\n      <td>196.0</td>\n      <td>194.0</td>\n      <td>171.0</td>\n    </tr>\n    <tr>\n      <th>56</th>\n      <td>Eritrea</td>\n      <td>82</td>\n      <td>338</td>\n      <td>4.707317</td>\n      <td>1.207317</td>\n      <td>625.829268</td>\n      <td>195.0</td>\n      <td>196.0</td>\n      <td>196.0</td>\n    </tr>\n    <tr>\n      <th>0</th>\n      <td>Afghanistan</td>\n      <td>11655</td>\n      <td>45048</td>\n      <td>5.993393</td>\n      <td>4.333591</td>\n      <td>56.142342</td>\n      <td>194.0</td>\n      <td>192.0</td>\n      <td>172.0</td>\n    </tr>\n    <tr>\n      <th>32</th>\n      <td>Central African Republic</td>\n      <td>194</td>\n      <td>603</td>\n      <td>6.092784</td>\n      <td>2.020619</td>\n      <td>458.237113</td>\n      <td>193.0</td>\n      <td>195.0</td>\n      <td>195.0</td>\n    </tr>\n    <tr>\n      <th>107</th>\n      <td>Marshall Islands</td>\n      <td>19</td>\n      <td>56</td>\n      <td>6.789474</td>\n      <td>6.894737</td>\n      <td>74.263158</td>\n      <td>192.0</td>\n      <td>181.0</td>\n      <td>178.0</td>\n    </tr>\n    <tr>\n      <th>...</th>\n      <td>...</td>\n      <td>...</td>\n      <td>...</td>\n      <td>...</td>\n      <td>...</td>\n      <td>...</td>\n      <td>...</td>\n      <td>...</td>\n      <td>...</td>\n    </tr>\n    <tr>\n      <th>113</th>\n      <td>Monaco</td>\n      <td>4731</td>\n      <td>13019</td>\n      <td>195.193828</td>\n      <td>137.884380</td>\n      <td>18.682731</td>\n      <td>5.0</td>\n      <td>4.0</td>\n      <td>67.0</td>\n    </tr>\n    <tr>\n      <th>140</th>\n      <td>Republic of Korea</td>\n      <td>269371</td>\n      <td>787714</td>\n      <td>199.433410</td>\n      <td>125.742092</td>\n      <td>13.479666</td>\n      <td>4.0</td>\n      <td>5.0</td>\n      <td>27.0</td>\n    </tr>\n    <tr>\n      <th>75</th>\n      <td>Hong Kong</td>\n      <td>565971</td>\n      <td>2134566</td>\n      <td>204.111313</td>\n      <td>151.686436</td>\n      <td>9.206640</td>\n      <td>3.0</td>\n      <td>2.0</td>\n      <td>6.0</td>\n    </tr>\n    <tr>\n      <th>35</th>\n      <td>China</td>\n      <td>7541521</td>\n      <td>27863130</td>\n      <td>210.020174</td>\n      <td>49.017057</td>\n      <td>16.146983</td>\n      <td>2.0</td>\n      <td>40.0</td>\n      <td>48.0</td>\n    </tr>\n    <tr>\n      <th>155</th>\n      <td>Singapore</td>\n      <td>439722</td>\n      <td>1581409</td>\n      <td>211.453177</td>\n      <td>168.410857</td>\n      <td>8.408867</td>\n      <td>1.0</td>\n      <td>1.0</td>\n      <td>4.0</td>\n    </tr>\n  </tbody>\n</table>\n<p>196 rows × 9 columns</p>\n</div>"
     },
     "execution_count": 41,
     "metadata": {},
     "output_type": "execute_result"
    }
   ],
   "source": [
    "df_world_final"
   ],
   "metadata": {
    "collapsed": false
   }
  },
  {
   "cell_type": "code",
   "execution_count": 42,
   "outputs": [],
   "source": [
    "df_world_final.to_excel('../../Documents/Master/Semester1/Visual_Analytics/Data_Input_final/world_aggregated_final.xlsx', sheet_name='world_aggregated_final')"
   ],
   "metadata": {
    "collapsed": false
   }
  }
 ],
 "metadata": {
  "kernelspec": {
   "display_name": "va-test-project",
   "language": "python",
   "name": "python3"
  },
  "language_info": {
   "codemirror_mode": {
    "name": "ipython",
    "version": 3
   },
   "file_extension": ".py",
   "mimetype": "text/x-python",
   "name": "python",
   "nbconvert_exporter": "python",
   "pygments_lexer": "ipython3",
   "version": "3.10.8"
  },
  "orig_nbformat": 4,
  "vscode": {
   "interpreter": {
    "hash": "1d56db114e6d61ed74044f8f34a7b34e4469a1bd6857ee218f9f79ce82d94d65"
   }
  }
 },
 "nbformat": 4,
 "nbformat_minor": 2
}
