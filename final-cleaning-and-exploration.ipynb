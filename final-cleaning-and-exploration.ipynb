{
 "cells": [
  {
   "cell_type": "code",
   "execution_count": 3,
   "metadata": {},
   "outputs": [],
   "source": [
    "# Imports\n",
    "import pandas as pd\n",
    "import numpy as np\n",
    "import matplotlib.pyplot as plt\n",
    "import seaborn as sns"
   ]
  },
  {
   "attachments": {},
   "cell_type": "markdown",
   "metadata": {},
   "source": [
    "### Data Exploration (Germany)"
   ]
  },
  {
   "cell_type": "code",
   "execution_count": 23,
   "metadata": {},
   "outputs": [
    {
     "ename": "KeyboardInterrupt",
     "evalue": "",
     "output_type": "error",
     "traceback": [
      "\u001B[1;31m---------------------------------------------------------------------------\u001B[0m",
      "\u001B[1;31mKeyboardInterrupt\u001B[0m                         Traceback (most recent call last)",
      "Cell \u001B[1;32mIn[23], line 2\u001B[0m\n\u001B[0;32m      1\u001B[0m \u001B[38;5;66;03m# df_germany = pd.read_csv('./data/final_data/germany_final.csv', sep=';')\u001B[39;00m\n\u001B[1;32m----> 2\u001B[0m df_germany \u001B[38;5;241m=\u001B[39m \u001B[43mpd\u001B[49m\u001B[38;5;241;43m.\u001B[39;49m\u001B[43mread_csv\u001B[49m\u001B[43m(\u001B[49m\u001B[38;5;124;43m'\u001B[39;49m\u001B[38;5;124;43m../../Documents/Master/Semester1/Visual_Analytics/Data_Input_final/germany_final_comma.csv\u001B[39;49m\u001B[38;5;124;43m'\u001B[39;49m\u001B[43m,\u001B[49m\u001B[43m \u001B[49m\u001B[43msep\u001B[49m\u001B[38;5;241;43m=\u001B[39;49m\u001B[38;5;124;43m'\u001B[39;49m\u001B[38;5;124;43m,\u001B[39;49m\u001B[38;5;124;43m'\u001B[39;49m\u001B[43m)\u001B[49m\n",
      "File \u001B[1;32m~\\anaconda3\\envs\\Test2\\lib\\site-packages\\pandas\\util\\_decorators.py:211\u001B[0m, in \u001B[0;36mdeprecate_kwarg.<locals>._deprecate_kwarg.<locals>.wrapper\u001B[1;34m(*args, **kwargs)\u001B[0m\n\u001B[0;32m    209\u001B[0m     \u001B[38;5;28;01melse\u001B[39;00m:\n\u001B[0;32m    210\u001B[0m         kwargs[new_arg_name] \u001B[38;5;241m=\u001B[39m new_arg_value\n\u001B[1;32m--> 211\u001B[0m \u001B[38;5;28;01mreturn\u001B[39;00m \u001B[43mfunc\u001B[49m\u001B[43m(\u001B[49m\u001B[38;5;241;43m*\u001B[39;49m\u001B[43margs\u001B[49m\u001B[43m,\u001B[49m\u001B[43m \u001B[49m\u001B[38;5;241;43m*\u001B[39;49m\u001B[38;5;241;43m*\u001B[39;49m\u001B[43mkwargs\u001B[49m\u001B[43m)\u001B[49m\n",
      "File \u001B[1;32m~\\anaconda3\\envs\\Test2\\lib\\site-packages\\pandas\\util\\_decorators.py:331\u001B[0m, in \u001B[0;36mdeprecate_nonkeyword_arguments.<locals>.decorate.<locals>.wrapper\u001B[1;34m(*args, **kwargs)\u001B[0m\n\u001B[0;32m    325\u001B[0m \u001B[38;5;28;01mif\u001B[39;00m \u001B[38;5;28mlen\u001B[39m(args) \u001B[38;5;241m>\u001B[39m num_allow_args:\n\u001B[0;32m    326\u001B[0m     warnings\u001B[38;5;241m.\u001B[39mwarn(\n\u001B[0;32m    327\u001B[0m         msg\u001B[38;5;241m.\u001B[39mformat(arguments\u001B[38;5;241m=\u001B[39m_format_argument_list(allow_args)),\n\u001B[0;32m    328\u001B[0m         \u001B[38;5;167;01mFutureWarning\u001B[39;00m,\n\u001B[0;32m    329\u001B[0m         stacklevel\u001B[38;5;241m=\u001B[39mfind_stack_level(),\n\u001B[0;32m    330\u001B[0m     )\n\u001B[1;32m--> 331\u001B[0m \u001B[38;5;28;01mreturn\u001B[39;00m \u001B[43mfunc\u001B[49m\u001B[43m(\u001B[49m\u001B[38;5;241;43m*\u001B[39;49m\u001B[43margs\u001B[49m\u001B[43m,\u001B[49m\u001B[43m \u001B[49m\u001B[38;5;241;43m*\u001B[39;49m\u001B[38;5;241;43m*\u001B[39;49m\u001B[43mkwargs\u001B[49m\u001B[43m)\u001B[49m\n",
      "File \u001B[1;32m~\\anaconda3\\envs\\Test2\\lib\\site-packages\\pandas\\io\\parsers\\readers.py:950\u001B[0m, in \u001B[0;36mread_csv\u001B[1;34m(filepath_or_buffer, sep, delimiter, header, names, index_col, usecols, squeeze, prefix, mangle_dupe_cols, dtype, engine, converters, true_values, false_values, skipinitialspace, skiprows, skipfooter, nrows, na_values, keep_default_na, na_filter, verbose, skip_blank_lines, parse_dates, infer_datetime_format, keep_date_col, date_parser, dayfirst, cache_dates, iterator, chunksize, compression, thousands, decimal, lineterminator, quotechar, quoting, doublequote, escapechar, comment, encoding, encoding_errors, dialect, error_bad_lines, warn_bad_lines, on_bad_lines, delim_whitespace, low_memory, memory_map, float_precision, storage_options)\u001B[0m\n\u001B[0;32m    935\u001B[0m kwds_defaults \u001B[38;5;241m=\u001B[39m _refine_defaults_read(\n\u001B[0;32m    936\u001B[0m     dialect,\n\u001B[0;32m    937\u001B[0m     delimiter,\n\u001B[1;32m   (...)\u001B[0m\n\u001B[0;32m    946\u001B[0m     defaults\u001B[38;5;241m=\u001B[39m{\u001B[38;5;124m\"\u001B[39m\u001B[38;5;124mdelimiter\u001B[39m\u001B[38;5;124m\"\u001B[39m: \u001B[38;5;124m\"\u001B[39m\u001B[38;5;124m,\u001B[39m\u001B[38;5;124m\"\u001B[39m},\n\u001B[0;32m    947\u001B[0m )\n\u001B[0;32m    948\u001B[0m kwds\u001B[38;5;241m.\u001B[39mupdate(kwds_defaults)\n\u001B[1;32m--> 950\u001B[0m \u001B[38;5;28;01mreturn\u001B[39;00m \u001B[43m_read\u001B[49m\u001B[43m(\u001B[49m\u001B[43mfilepath_or_buffer\u001B[49m\u001B[43m,\u001B[49m\u001B[43m \u001B[49m\u001B[43mkwds\u001B[49m\u001B[43m)\u001B[49m\n",
      "File \u001B[1;32m~\\anaconda3\\envs\\Test2\\lib\\site-packages\\pandas\\io\\parsers\\readers.py:611\u001B[0m, in \u001B[0;36m_read\u001B[1;34m(filepath_or_buffer, kwds)\u001B[0m\n\u001B[0;32m    608\u001B[0m     \u001B[38;5;28;01mreturn\u001B[39;00m parser\n\u001B[0;32m    610\u001B[0m \u001B[38;5;28;01mwith\u001B[39;00m parser:\n\u001B[1;32m--> 611\u001B[0m     \u001B[38;5;28;01mreturn\u001B[39;00m \u001B[43mparser\u001B[49m\u001B[38;5;241;43m.\u001B[39;49m\u001B[43mread\u001B[49m\u001B[43m(\u001B[49m\u001B[43mnrows\u001B[49m\u001B[43m)\u001B[49m\n",
      "File \u001B[1;32m~\\anaconda3\\envs\\Test2\\lib\\site-packages\\pandas\\io\\parsers\\readers.py:1778\u001B[0m, in \u001B[0;36mTextFileReader.read\u001B[1;34m(self, nrows)\u001B[0m\n\u001B[0;32m   1771\u001B[0m nrows \u001B[38;5;241m=\u001B[39m validate_integer(\u001B[38;5;124m\"\u001B[39m\u001B[38;5;124mnrows\u001B[39m\u001B[38;5;124m\"\u001B[39m, nrows)\n\u001B[0;32m   1772\u001B[0m \u001B[38;5;28;01mtry\u001B[39;00m:\n\u001B[0;32m   1773\u001B[0m     \u001B[38;5;66;03m# error: \"ParserBase\" has no attribute \"read\"\u001B[39;00m\n\u001B[0;32m   1774\u001B[0m     (\n\u001B[0;32m   1775\u001B[0m         index,\n\u001B[0;32m   1776\u001B[0m         columns,\n\u001B[0;32m   1777\u001B[0m         col_dict,\n\u001B[1;32m-> 1778\u001B[0m     ) \u001B[38;5;241m=\u001B[39m \u001B[38;5;28;43mself\u001B[39;49m\u001B[38;5;241;43m.\u001B[39;49m\u001B[43m_engine\u001B[49m\u001B[38;5;241;43m.\u001B[39;49m\u001B[43mread\u001B[49m\u001B[43m(\u001B[49m\u001B[43m  \u001B[49m\u001B[38;5;66;43;03m# type: ignore[attr-defined]\u001B[39;49;00m\n\u001B[0;32m   1779\u001B[0m \u001B[43m        \u001B[49m\u001B[43mnrows\u001B[49m\n\u001B[0;32m   1780\u001B[0m \u001B[43m    \u001B[49m\u001B[43m)\u001B[49m\n\u001B[0;32m   1781\u001B[0m \u001B[38;5;28;01mexcept\u001B[39;00m \u001B[38;5;167;01mException\u001B[39;00m:\n\u001B[0;32m   1782\u001B[0m     \u001B[38;5;28mself\u001B[39m\u001B[38;5;241m.\u001B[39mclose()\n",
      "File \u001B[1;32m~\\anaconda3\\envs\\Test2\\lib\\site-packages\\pandas\\io\\parsers\\c_parser_wrapper.py:232\u001B[0m, in \u001B[0;36mCParserWrapper.read\u001B[1;34m(self, nrows)\u001B[0m\n\u001B[0;32m    230\u001B[0m     chunks \u001B[38;5;241m=\u001B[39m \u001B[38;5;28mself\u001B[39m\u001B[38;5;241m.\u001B[39m_reader\u001B[38;5;241m.\u001B[39mread_low_memory(nrows)\n\u001B[0;32m    231\u001B[0m     \u001B[38;5;66;03m# destructive to chunks\u001B[39;00m\n\u001B[1;32m--> 232\u001B[0m     data \u001B[38;5;241m=\u001B[39m \u001B[43m_concatenate_chunks\u001B[49m\u001B[43m(\u001B[49m\u001B[43mchunks\u001B[49m\u001B[43m)\u001B[49m\n\u001B[0;32m    234\u001B[0m \u001B[38;5;28;01melse\u001B[39;00m:\n\u001B[0;32m    235\u001B[0m     data \u001B[38;5;241m=\u001B[39m \u001B[38;5;28mself\u001B[39m\u001B[38;5;241m.\u001B[39m_reader\u001B[38;5;241m.\u001B[39mread(nrows)\n",
      "File \u001B[1;32m~\\anaconda3\\envs\\Test2\\lib\\site-packages\\pandas\\io\\parsers\\c_parser_wrapper.py:365\u001B[0m, in \u001B[0;36m_concatenate_chunks\u001B[1;34m(chunks)\u001B[0m\n\u001B[0;32m    363\u001B[0m arrs \u001B[38;5;241m=\u001B[39m [chunk\u001B[38;5;241m.\u001B[39mpop(name) \u001B[38;5;28;01mfor\u001B[39;00m chunk \u001B[38;5;129;01min\u001B[39;00m chunks]\n\u001B[0;32m    364\u001B[0m \u001B[38;5;66;03m# Check each arr for consistent types.\u001B[39;00m\n\u001B[1;32m--> 365\u001B[0m dtypes \u001B[38;5;241m=\u001B[39m {a\u001B[38;5;241m.\u001B[39mdtype \u001B[38;5;28;01mfor\u001B[39;00m a \u001B[38;5;129;01min\u001B[39;00m arrs}\n\u001B[0;32m    366\u001B[0m \u001B[38;5;66;03m# TODO: shouldn't we exclude all EA dtypes here?\u001B[39;00m\n\u001B[0;32m    367\u001B[0m numpy_dtypes \u001B[38;5;241m=\u001B[39m {x \u001B[38;5;28;01mfor\u001B[39;00m x \u001B[38;5;129;01min\u001B[39;00m dtypes \u001B[38;5;28;01mif\u001B[39;00m \u001B[38;5;129;01mnot\u001B[39;00m is_categorical_dtype(x)}\n",
      "File \u001B[1;32m~\\anaconda3\\envs\\Test2\\lib\\site-packages\\pandas\\io\\parsers\\c_parser_wrapper.py:365\u001B[0m, in \u001B[0;36m<setcomp>\u001B[1;34m(.0)\u001B[0m\n\u001B[0;32m    363\u001B[0m arrs \u001B[38;5;241m=\u001B[39m [chunk\u001B[38;5;241m.\u001B[39mpop(name) \u001B[38;5;28;01mfor\u001B[39;00m chunk \u001B[38;5;129;01min\u001B[39;00m chunks]\n\u001B[0;32m    364\u001B[0m \u001B[38;5;66;03m# Check each arr for consistent types.\u001B[39;00m\n\u001B[1;32m--> 365\u001B[0m dtypes \u001B[38;5;241m=\u001B[39m {a\u001B[38;5;241m.\u001B[39mdtype \u001B[38;5;28;01mfor\u001B[39;00m a \u001B[38;5;129;01min\u001B[39;00m arrs}\n\u001B[0;32m    366\u001B[0m \u001B[38;5;66;03m# TODO: shouldn't we exclude all EA dtypes here?\u001B[39;00m\n\u001B[0;32m    367\u001B[0m numpy_dtypes \u001B[38;5;241m=\u001B[39m {x \u001B[38;5;28;01mfor\u001B[39;00m x \u001B[38;5;129;01min\u001B[39;00m dtypes \u001B[38;5;28;01mif\u001B[39;00m \u001B[38;5;129;01mnot\u001B[39;00m is_categorical_dtype(x)}\n",
      "\u001B[1;31mKeyboardInterrupt\u001B[0m: "
     ]
    }
   ],
   "source": [
    "# df_germany = pd.read_csv('./data/final_data/germany_final.csv', sep=';')\n",
    "df_germany = pd.read_csv('../../Documents/Master/Semester1/Visual_Analytics/Data_Input_final/germany_final_comma.csv', sep=',')"
   ]
  },
  {
   "cell_type": "code",
   "execution_count": 7,
   "metadata": {},
   "outputs": [
    {
     "ename": "KeyError",
     "evalue": "\"[','] not found in axis\"",
     "output_type": "error",
     "traceback": [
      "\u001B[1;31m---------------------------------------------------------------------------\u001B[0m",
      "\u001B[1;31mKeyError\u001B[0m                                  Traceback (most recent call last)",
      "Cell \u001B[1;32mIn[7], line 2\u001B[0m\n\u001B[0;32m      1\u001B[0m \u001B[38;5;66;03m# Cleaning and adjustments\u001B[39;00m\n\u001B[1;32m----> 2\u001B[0m \u001B[43mdf_germany\u001B[49m\u001B[38;5;241;43m.\u001B[39;49m\u001B[43mdrop\u001B[49m\u001B[43m(\u001B[49m\u001B[43mcolumns\u001B[49m\u001B[38;5;241;43m=\u001B[39;49m\u001B[38;5;124;43m'\u001B[39;49m\u001B[38;5;124;43m,\u001B[39;49m\u001B[38;5;124;43m'\u001B[39;49m\u001B[43m,\u001B[49m\u001B[43m \u001B[49m\u001B[43minplace\u001B[49m\u001B[38;5;241;43m=\u001B[39;49m\u001B[38;5;28;43;01mTrue\u001B[39;49;00m\u001B[43m)\u001B[49m\n",
      "File \u001B[1;32m~\\anaconda3\\envs\\Test2\\lib\\site-packages\\pandas\\util\\_decorators.py:331\u001B[0m, in \u001B[0;36mdeprecate_nonkeyword_arguments.<locals>.decorate.<locals>.wrapper\u001B[1;34m(*args, **kwargs)\u001B[0m\n\u001B[0;32m    325\u001B[0m \u001B[38;5;28;01mif\u001B[39;00m \u001B[38;5;28mlen\u001B[39m(args) \u001B[38;5;241m>\u001B[39m num_allow_args:\n\u001B[0;32m    326\u001B[0m     warnings\u001B[38;5;241m.\u001B[39mwarn(\n\u001B[0;32m    327\u001B[0m         msg\u001B[38;5;241m.\u001B[39mformat(arguments\u001B[38;5;241m=\u001B[39m_format_argument_list(allow_args)),\n\u001B[0;32m    328\u001B[0m         \u001B[38;5;167;01mFutureWarning\u001B[39;00m,\n\u001B[0;32m    329\u001B[0m         stacklevel\u001B[38;5;241m=\u001B[39mfind_stack_level(),\n\u001B[0;32m    330\u001B[0m     )\n\u001B[1;32m--> 331\u001B[0m \u001B[38;5;28;01mreturn\u001B[39;00m \u001B[43mfunc\u001B[49m\u001B[43m(\u001B[49m\u001B[38;5;241;43m*\u001B[39;49m\u001B[43margs\u001B[49m\u001B[43m,\u001B[49m\u001B[43m \u001B[49m\u001B[38;5;241;43m*\u001B[39;49m\u001B[38;5;241;43m*\u001B[39;49m\u001B[43mkwargs\u001B[49m\u001B[43m)\u001B[49m\n",
      "File \u001B[1;32m~\\anaconda3\\envs\\Test2\\lib\\site-packages\\pandas\\core\\frame.py:5396\u001B[0m, in \u001B[0;36mDataFrame.drop\u001B[1;34m(self, labels, axis, index, columns, level, inplace, errors)\u001B[0m\n\u001B[0;32m   5248\u001B[0m \u001B[38;5;129m@deprecate_nonkeyword_arguments\u001B[39m(version\u001B[38;5;241m=\u001B[39m\u001B[38;5;28;01mNone\u001B[39;00m, allowed_args\u001B[38;5;241m=\u001B[39m[\u001B[38;5;124m\"\u001B[39m\u001B[38;5;124mself\u001B[39m\u001B[38;5;124m\"\u001B[39m, \u001B[38;5;124m\"\u001B[39m\u001B[38;5;124mlabels\u001B[39m\u001B[38;5;124m\"\u001B[39m])\n\u001B[0;32m   5249\u001B[0m \u001B[38;5;28;01mdef\u001B[39;00m \u001B[38;5;21mdrop\u001B[39m(  \u001B[38;5;66;03m# type: ignore[override]\u001B[39;00m\n\u001B[0;32m   5250\u001B[0m     \u001B[38;5;28mself\u001B[39m,\n\u001B[1;32m   (...)\u001B[0m\n\u001B[0;32m   5257\u001B[0m     errors: IgnoreRaise \u001B[38;5;241m=\u001B[39m \u001B[38;5;124m\"\u001B[39m\u001B[38;5;124mraise\u001B[39m\u001B[38;5;124m\"\u001B[39m,\n\u001B[0;32m   5258\u001B[0m ) \u001B[38;5;241m-\u001B[39m\u001B[38;5;241m>\u001B[39m DataFrame \u001B[38;5;241m|\u001B[39m \u001B[38;5;28;01mNone\u001B[39;00m:\n\u001B[0;32m   5259\u001B[0m     \u001B[38;5;124;03m\"\"\"\u001B[39;00m\n\u001B[0;32m   5260\u001B[0m \u001B[38;5;124;03m    Drop specified labels from rows or columns.\u001B[39;00m\n\u001B[0;32m   5261\u001B[0m \n\u001B[1;32m   (...)\u001B[0m\n\u001B[0;32m   5394\u001B[0m \u001B[38;5;124;03m            weight  1.0     0.8\u001B[39;00m\n\u001B[0;32m   5395\u001B[0m \u001B[38;5;124;03m    \"\"\"\u001B[39;00m\n\u001B[1;32m-> 5396\u001B[0m     \u001B[38;5;28;01mreturn\u001B[39;00m \u001B[38;5;28;43msuper\u001B[39;49m\u001B[43m(\u001B[49m\u001B[43m)\u001B[49m\u001B[38;5;241;43m.\u001B[39;49m\u001B[43mdrop\u001B[49m\u001B[43m(\u001B[49m\n\u001B[0;32m   5397\u001B[0m \u001B[43m        \u001B[49m\u001B[43mlabels\u001B[49m\u001B[38;5;241;43m=\u001B[39;49m\u001B[43mlabels\u001B[49m\u001B[43m,\u001B[49m\n\u001B[0;32m   5398\u001B[0m \u001B[43m        \u001B[49m\u001B[43maxis\u001B[49m\u001B[38;5;241;43m=\u001B[39;49m\u001B[43maxis\u001B[49m\u001B[43m,\u001B[49m\n\u001B[0;32m   5399\u001B[0m \u001B[43m        \u001B[49m\u001B[43mindex\u001B[49m\u001B[38;5;241;43m=\u001B[39;49m\u001B[43mindex\u001B[49m\u001B[43m,\u001B[49m\n\u001B[0;32m   5400\u001B[0m \u001B[43m        \u001B[49m\u001B[43mcolumns\u001B[49m\u001B[38;5;241;43m=\u001B[39;49m\u001B[43mcolumns\u001B[49m\u001B[43m,\u001B[49m\n\u001B[0;32m   5401\u001B[0m \u001B[43m        \u001B[49m\u001B[43mlevel\u001B[49m\u001B[38;5;241;43m=\u001B[39;49m\u001B[43mlevel\u001B[49m\u001B[43m,\u001B[49m\n\u001B[0;32m   5402\u001B[0m \u001B[43m        \u001B[49m\u001B[43minplace\u001B[49m\u001B[38;5;241;43m=\u001B[39;49m\u001B[43minplace\u001B[49m\u001B[43m,\u001B[49m\n\u001B[0;32m   5403\u001B[0m \u001B[43m        \u001B[49m\u001B[43merrors\u001B[49m\u001B[38;5;241;43m=\u001B[39;49m\u001B[43merrors\u001B[49m\u001B[43m,\u001B[49m\n\u001B[0;32m   5404\u001B[0m \u001B[43m    \u001B[49m\u001B[43m)\u001B[49m\n",
      "File \u001B[1;32m~\\anaconda3\\envs\\Test2\\lib\\site-packages\\pandas\\util\\_decorators.py:331\u001B[0m, in \u001B[0;36mdeprecate_nonkeyword_arguments.<locals>.decorate.<locals>.wrapper\u001B[1;34m(*args, **kwargs)\u001B[0m\n\u001B[0;32m    325\u001B[0m \u001B[38;5;28;01mif\u001B[39;00m \u001B[38;5;28mlen\u001B[39m(args) \u001B[38;5;241m>\u001B[39m num_allow_args:\n\u001B[0;32m    326\u001B[0m     warnings\u001B[38;5;241m.\u001B[39mwarn(\n\u001B[0;32m    327\u001B[0m         msg\u001B[38;5;241m.\u001B[39mformat(arguments\u001B[38;5;241m=\u001B[39m_format_argument_list(allow_args)),\n\u001B[0;32m    328\u001B[0m         \u001B[38;5;167;01mFutureWarning\u001B[39;00m,\n\u001B[0;32m    329\u001B[0m         stacklevel\u001B[38;5;241m=\u001B[39mfind_stack_level(),\n\u001B[0;32m    330\u001B[0m     )\n\u001B[1;32m--> 331\u001B[0m \u001B[38;5;28;01mreturn\u001B[39;00m \u001B[43mfunc\u001B[49m\u001B[43m(\u001B[49m\u001B[38;5;241;43m*\u001B[39;49m\u001B[43margs\u001B[49m\u001B[43m,\u001B[49m\u001B[43m \u001B[49m\u001B[38;5;241;43m*\u001B[39;49m\u001B[38;5;241;43m*\u001B[39;49m\u001B[43mkwargs\u001B[49m\u001B[43m)\u001B[49m\n",
      "File \u001B[1;32m~\\anaconda3\\envs\\Test2\\lib\\site-packages\\pandas\\core\\generic.py:4505\u001B[0m, in \u001B[0;36mNDFrame.drop\u001B[1;34m(self, labels, axis, index, columns, level, inplace, errors)\u001B[0m\n\u001B[0;32m   4503\u001B[0m \u001B[38;5;28;01mfor\u001B[39;00m axis, labels \u001B[38;5;129;01min\u001B[39;00m axes\u001B[38;5;241m.\u001B[39mitems():\n\u001B[0;32m   4504\u001B[0m     \u001B[38;5;28;01mif\u001B[39;00m labels \u001B[38;5;129;01mis\u001B[39;00m \u001B[38;5;129;01mnot\u001B[39;00m \u001B[38;5;28;01mNone\u001B[39;00m:\n\u001B[1;32m-> 4505\u001B[0m         obj \u001B[38;5;241m=\u001B[39m \u001B[43mobj\u001B[49m\u001B[38;5;241;43m.\u001B[39;49m\u001B[43m_drop_axis\u001B[49m\u001B[43m(\u001B[49m\u001B[43mlabels\u001B[49m\u001B[43m,\u001B[49m\u001B[43m \u001B[49m\u001B[43maxis\u001B[49m\u001B[43m,\u001B[49m\u001B[43m \u001B[49m\u001B[43mlevel\u001B[49m\u001B[38;5;241;43m=\u001B[39;49m\u001B[43mlevel\u001B[49m\u001B[43m,\u001B[49m\u001B[43m \u001B[49m\u001B[43merrors\u001B[49m\u001B[38;5;241;43m=\u001B[39;49m\u001B[43merrors\u001B[49m\u001B[43m)\u001B[49m\n\u001B[0;32m   4507\u001B[0m \u001B[38;5;28;01mif\u001B[39;00m inplace:\n\u001B[0;32m   4508\u001B[0m     \u001B[38;5;28mself\u001B[39m\u001B[38;5;241m.\u001B[39m_update_inplace(obj)\n",
      "File \u001B[1;32m~\\anaconda3\\envs\\Test2\\lib\\site-packages\\pandas\\core\\generic.py:4546\u001B[0m, in \u001B[0;36mNDFrame._drop_axis\u001B[1;34m(self, labels, axis, level, errors, only_slice)\u001B[0m\n\u001B[0;32m   4544\u001B[0m         new_axis \u001B[38;5;241m=\u001B[39m axis\u001B[38;5;241m.\u001B[39mdrop(labels, level\u001B[38;5;241m=\u001B[39mlevel, errors\u001B[38;5;241m=\u001B[39merrors)\n\u001B[0;32m   4545\u001B[0m     \u001B[38;5;28;01melse\u001B[39;00m:\n\u001B[1;32m-> 4546\u001B[0m         new_axis \u001B[38;5;241m=\u001B[39m \u001B[43maxis\u001B[49m\u001B[38;5;241;43m.\u001B[39;49m\u001B[43mdrop\u001B[49m\u001B[43m(\u001B[49m\u001B[43mlabels\u001B[49m\u001B[43m,\u001B[49m\u001B[43m \u001B[49m\u001B[43merrors\u001B[49m\u001B[38;5;241;43m=\u001B[39;49m\u001B[43merrors\u001B[49m\u001B[43m)\u001B[49m\n\u001B[0;32m   4547\u001B[0m     indexer \u001B[38;5;241m=\u001B[39m axis\u001B[38;5;241m.\u001B[39mget_indexer(new_axis)\n\u001B[0;32m   4549\u001B[0m \u001B[38;5;66;03m# Case for non-unique axis\u001B[39;00m\n\u001B[0;32m   4550\u001B[0m \u001B[38;5;28;01melse\u001B[39;00m:\n",
      "File \u001B[1;32m~\\anaconda3\\envs\\Test2\\lib\\site-packages\\pandas\\core\\indexes\\base.py:6977\u001B[0m, in \u001B[0;36mIndex.drop\u001B[1;34m(self, labels, errors)\u001B[0m\n\u001B[0;32m   6975\u001B[0m \u001B[38;5;28;01mif\u001B[39;00m mask\u001B[38;5;241m.\u001B[39many():\n\u001B[0;32m   6976\u001B[0m     \u001B[38;5;28;01mif\u001B[39;00m errors \u001B[38;5;241m!=\u001B[39m \u001B[38;5;124m\"\u001B[39m\u001B[38;5;124mignore\u001B[39m\u001B[38;5;124m\"\u001B[39m:\n\u001B[1;32m-> 6977\u001B[0m         \u001B[38;5;28;01mraise\u001B[39;00m \u001B[38;5;167;01mKeyError\u001B[39;00m(\u001B[38;5;124mf\u001B[39m\u001B[38;5;124m\"\u001B[39m\u001B[38;5;132;01m{\u001B[39;00m\u001B[38;5;28mlist\u001B[39m(labels[mask])\u001B[38;5;132;01m}\u001B[39;00m\u001B[38;5;124m not found in axis\u001B[39m\u001B[38;5;124m\"\u001B[39m)\n\u001B[0;32m   6978\u001B[0m     indexer \u001B[38;5;241m=\u001B[39m indexer[\u001B[38;5;241m~\u001B[39mmask]\n\u001B[0;32m   6979\u001B[0m \u001B[38;5;28;01mreturn\u001B[39;00m \u001B[38;5;28mself\u001B[39m\u001B[38;5;241m.\u001B[39mdelete(indexer)\n",
      "\u001B[1;31mKeyError\u001B[0m: \"[','] not found in axis\""
     ]
    }
   ],
   "source": [
    "# Cleaning and adjustments\n",
    "df_germany.drop(columns=',', inplace=True)"
   ]
  },
  {
   "cell_type": "code",
   "execution_count": 8,
   "metadata": {},
   "outputs": [],
   "source": [
    "# rename country column\n",
    "df_germany.rename(columns={'name':'country'}, inplace=True)"
   ]
  },
  {
   "cell_type": "code",
   "execution_count": 9,
   "metadata": {},
   "outputs": [],
   "source": [
    "# Convert to mpbs\n",
    "df_germany['avg_d_mbps'] = df_germany['avg_d_kbps'] / 1000\n",
    "df_germany['avg_u_mbps'] = df_germany['avg_u_kbps'] / 1000"
   ]
  },
  {
   "cell_type": "code",
   "execution_count": 119,
   "metadata": {},
   "outputs": [],
   "source": [
    "# save as comma separated csv\n",
    "i = 'test'\n",
    "df_germany.to_csv('./data/final_data/germany_final_comma.csv', sep=',')"
   ]
  },
  {
   "attachments": {},
   "cell_type": "markdown",
   "metadata": {},
   "source": [
    "#### Numerical Exploration"
   ]
  },
  {
   "cell_type": "code",
   "execution_count": 10,
   "metadata": {},
   "outputs": [
    {
     "data": {
      "text/plain": "(5347564, 18)"
     },
     "execution_count": 10,
     "metadata": {},
     "output_type": "execute_result"
    }
   ],
   "source": [
    "df_germany.shape"
   ]
  },
  {
   "cell_type": "code",
   "execution_count": 11,
   "metadata": {},
   "outputs": [
    {
     "data": {
      "text/plain": "   Unnamed: 0  avg_d_kbps  avg_u_kbps  avg_lat_ms  tests  devices     quarter  \\\n0           0        7864        1383          43      4        2  2019-01-01   \n1           1       32663        8941          34      1        1  2019-01-01   \n2           2       23600       10557          29      1        1  2019-01-01   \n3           3       34739        7250          40      2        1  2019-01-01   \n4           4        7083        1644          33      4        3  2019-01-01   \n\n  category      long        lat                                  geometry  \\\n0    fixed  8.415527  55.024873    POINT (8.41552734375 55.0248734409448)   \n1    fixed  8.421021  55.024873  POINT (8.4210205078125 55.0248734409448)   \n2    fixed  8.426514  55.024873   POINT (8.426513671875 55.0248734409448)   \n3    fixed  8.432007  55.024873  POINT (8.4320068359375 55.0248734409448)   \n4    fixed  8.421021  55.021725  POINT (8.4210205078125 55.0217245215306)   \n\n  iso3  country continent          region iso_3166_1_  avg_d_mbps  avg_u_mbps  \n0  DEU  Germany    Europe  Western Europe          DE       7.864       1.383  \n1  DEU  Germany    Europe  Western Europe          DE      32.663       8.941  \n2  DEU  Germany    Europe  Western Europe          DE      23.600      10.557  \n3  DEU  Germany    Europe  Western Europe          DE      34.739       7.250  \n4  DEU  Germany    Europe  Western Europe          DE       7.083       1.644  ",
      "text/html": "<div>\n<style scoped>\n    .dataframe tbody tr th:only-of-type {\n        vertical-align: middle;\n    }\n\n    .dataframe tbody tr th {\n        vertical-align: top;\n    }\n\n    .dataframe thead th {\n        text-align: right;\n    }\n</style>\n<table border=\"1\" class=\"dataframe\">\n  <thead>\n    <tr style=\"text-align: right;\">\n      <th></th>\n      <th>Unnamed: 0</th>\n      <th>avg_d_kbps</th>\n      <th>avg_u_kbps</th>\n      <th>avg_lat_ms</th>\n      <th>tests</th>\n      <th>devices</th>\n      <th>quarter</th>\n      <th>category</th>\n      <th>long</th>\n      <th>lat</th>\n      <th>geometry</th>\n      <th>iso3</th>\n      <th>country</th>\n      <th>continent</th>\n      <th>region</th>\n      <th>iso_3166_1_</th>\n      <th>avg_d_mbps</th>\n      <th>avg_u_mbps</th>\n    </tr>\n  </thead>\n  <tbody>\n    <tr>\n      <th>0</th>\n      <td>0</td>\n      <td>7864</td>\n      <td>1383</td>\n      <td>43</td>\n      <td>4</td>\n      <td>2</td>\n      <td>2019-01-01</td>\n      <td>fixed</td>\n      <td>8.415527</td>\n      <td>55.024873</td>\n      <td>POINT (8.41552734375 55.0248734409448)</td>\n      <td>DEU</td>\n      <td>Germany</td>\n      <td>Europe</td>\n      <td>Western Europe</td>\n      <td>DE</td>\n      <td>7.864</td>\n      <td>1.383</td>\n    </tr>\n    <tr>\n      <th>1</th>\n      <td>1</td>\n      <td>32663</td>\n      <td>8941</td>\n      <td>34</td>\n      <td>1</td>\n      <td>1</td>\n      <td>2019-01-01</td>\n      <td>fixed</td>\n      <td>8.421021</td>\n      <td>55.024873</td>\n      <td>POINT (8.4210205078125 55.0248734409448)</td>\n      <td>DEU</td>\n      <td>Germany</td>\n      <td>Europe</td>\n      <td>Western Europe</td>\n      <td>DE</td>\n      <td>32.663</td>\n      <td>8.941</td>\n    </tr>\n    <tr>\n      <th>2</th>\n      <td>2</td>\n      <td>23600</td>\n      <td>10557</td>\n      <td>29</td>\n      <td>1</td>\n      <td>1</td>\n      <td>2019-01-01</td>\n      <td>fixed</td>\n      <td>8.426514</td>\n      <td>55.024873</td>\n      <td>POINT (8.426513671875 55.0248734409448)</td>\n      <td>DEU</td>\n      <td>Germany</td>\n      <td>Europe</td>\n      <td>Western Europe</td>\n      <td>DE</td>\n      <td>23.600</td>\n      <td>10.557</td>\n    </tr>\n    <tr>\n      <th>3</th>\n      <td>3</td>\n      <td>34739</td>\n      <td>7250</td>\n      <td>40</td>\n      <td>2</td>\n      <td>1</td>\n      <td>2019-01-01</td>\n      <td>fixed</td>\n      <td>8.432007</td>\n      <td>55.024873</td>\n      <td>POINT (8.4320068359375 55.0248734409448)</td>\n      <td>DEU</td>\n      <td>Germany</td>\n      <td>Europe</td>\n      <td>Western Europe</td>\n      <td>DE</td>\n      <td>34.739</td>\n      <td>7.250</td>\n    </tr>\n    <tr>\n      <th>4</th>\n      <td>4</td>\n      <td>7083</td>\n      <td>1644</td>\n      <td>33</td>\n      <td>4</td>\n      <td>3</td>\n      <td>2019-01-01</td>\n      <td>fixed</td>\n      <td>8.421021</td>\n      <td>55.021725</td>\n      <td>POINT (8.4210205078125 55.0217245215306)</td>\n      <td>DEU</td>\n      <td>Germany</td>\n      <td>Europe</td>\n      <td>Western Europe</td>\n      <td>DE</td>\n      <td>7.083</td>\n      <td>1.644</td>\n    </tr>\n  </tbody>\n</table>\n</div>"
     },
     "execution_count": 11,
     "metadata": {},
     "output_type": "execute_result"
    }
   ],
   "source": [
    "df_germany.head()"
   ]
  },
  {
   "cell_type": "code",
   "execution_count": 12,
   "metadata": {},
   "outputs": [
    {
     "data": {
      "text/plain": "         Unnamed: 0  avg_d_kbps  avg_u_kbps  avg_lat_ms  tests  devices  \\\n5347559     5347559      121918       23166          36      2        2   \n5347560     5347560       47607        3937          26      1        1   \n5347561     5347561       74673        8763          50      1        1   \n5347562     5347562         339          44         113      1        1   \n5347563     5347563       20851        1318          62      1        1   \n\n            quarter category       long        lat  \\\n5347559  2022-07-01   mobile  13.057251  47.632082   \n5347560  2022-07-01   mobile  13.062744  47.632082   \n5347561  2022-07-01   mobile  13.090210  47.628380   \n5347562  2022-07-01   mobile  13.018799  47.602459   \n5347563  2022-07-01   mobile  13.013306  47.598755   \n\n                                          geometry iso3  country continent  \\\n5347559  POINT (13.0572509765625 47.6320819402633)  DEU  Germany    Europe   \n5347560   POINT (13.062744140625 47.6320819402633)  DEU  Germany    Europe   \n5347561  POINT (13.0902099609375 47.6283800274471)  DEU  Germany    Europe   \n5347562   POINT (13.018798828125 47.6024592954631)  DEU  Germany    Europe   \n5347563   POINT (13.0133056640625 47.598755284818)  DEU  Germany    Europe   \n\n                 region iso_3166_1_  avg_d_mbps  avg_u_mbps  \n5347559  Western Europe          DE     121.918      23.166  \n5347560  Western Europe          DE      47.607       3.937  \n5347561  Western Europe          DE      74.673       8.763  \n5347562  Western Europe          DE       0.339       0.044  \n5347563  Western Europe          DE      20.851       1.318  ",
      "text/html": "<div>\n<style scoped>\n    .dataframe tbody tr th:only-of-type {\n        vertical-align: middle;\n    }\n\n    .dataframe tbody tr th {\n        vertical-align: top;\n    }\n\n    .dataframe thead th {\n        text-align: right;\n    }\n</style>\n<table border=\"1\" class=\"dataframe\">\n  <thead>\n    <tr style=\"text-align: right;\">\n      <th></th>\n      <th>Unnamed: 0</th>\n      <th>avg_d_kbps</th>\n      <th>avg_u_kbps</th>\n      <th>avg_lat_ms</th>\n      <th>tests</th>\n      <th>devices</th>\n      <th>quarter</th>\n      <th>category</th>\n      <th>long</th>\n      <th>lat</th>\n      <th>geometry</th>\n      <th>iso3</th>\n      <th>country</th>\n      <th>continent</th>\n      <th>region</th>\n      <th>iso_3166_1_</th>\n      <th>avg_d_mbps</th>\n      <th>avg_u_mbps</th>\n    </tr>\n  </thead>\n  <tbody>\n    <tr>\n      <th>5347559</th>\n      <td>5347559</td>\n      <td>121918</td>\n      <td>23166</td>\n      <td>36</td>\n      <td>2</td>\n      <td>2</td>\n      <td>2022-07-01</td>\n      <td>mobile</td>\n      <td>13.057251</td>\n      <td>47.632082</td>\n      <td>POINT (13.0572509765625 47.6320819402633)</td>\n      <td>DEU</td>\n      <td>Germany</td>\n      <td>Europe</td>\n      <td>Western Europe</td>\n      <td>DE</td>\n      <td>121.918</td>\n      <td>23.166</td>\n    </tr>\n    <tr>\n      <th>5347560</th>\n      <td>5347560</td>\n      <td>47607</td>\n      <td>3937</td>\n      <td>26</td>\n      <td>1</td>\n      <td>1</td>\n      <td>2022-07-01</td>\n      <td>mobile</td>\n      <td>13.062744</td>\n      <td>47.632082</td>\n      <td>POINT (13.062744140625 47.6320819402633)</td>\n      <td>DEU</td>\n      <td>Germany</td>\n      <td>Europe</td>\n      <td>Western Europe</td>\n      <td>DE</td>\n      <td>47.607</td>\n      <td>3.937</td>\n    </tr>\n    <tr>\n      <th>5347561</th>\n      <td>5347561</td>\n      <td>74673</td>\n      <td>8763</td>\n      <td>50</td>\n      <td>1</td>\n      <td>1</td>\n      <td>2022-07-01</td>\n      <td>mobile</td>\n      <td>13.090210</td>\n      <td>47.628380</td>\n      <td>POINT (13.0902099609375 47.6283800274471)</td>\n      <td>DEU</td>\n      <td>Germany</td>\n      <td>Europe</td>\n      <td>Western Europe</td>\n      <td>DE</td>\n      <td>74.673</td>\n      <td>8.763</td>\n    </tr>\n    <tr>\n      <th>5347562</th>\n      <td>5347562</td>\n      <td>339</td>\n      <td>44</td>\n      <td>113</td>\n      <td>1</td>\n      <td>1</td>\n      <td>2022-07-01</td>\n      <td>mobile</td>\n      <td>13.018799</td>\n      <td>47.602459</td>\n      <td>POINT (13.018798828125 47.6024592954631)</td>\n      <td>DEU</td>\n      <td>Germany</td>\n      <td>Europe</td>\n      <td>Western Europe</td>\n      <td>DE</td>\n      <td>0.339</td>\n      <td>0.044</td>\n    </tr>\n    <tr>\n      <th>5347563</th>\n      <td>5347563</td>\n      <td>20851</td>\n      <td>1318</td>\n      <td>62</td>\n      <td>1</td>\n      <td>1</td>\n      <td>2022-07-01</td>\n      <td>mobile</td>\n      <td>13.013306</td>\n      <td>47.598755</td>\n      <td>POINT (13.0133056640625 47.598755284818)</td>\n      <td>DEU</td>\n      <td>Germany</td>\n      <td>Europe</td>\n      <td>Western Europe</td>\n      <td>DE</td>\n      <td>20.851</td>\n      <td>1.318</td>\n    </tr>\n  </tbody>\n</table>\n</div>"
     },
     "execution_count": 12,
     "metadata": {},
     "output_type": "execute_result"
    }
   ],
   "source": [
    "df_germany.tail()"
   ]
  },
  {
   "cell_type": "code",
   "execution_count": 14,
   "metadata": {},
   "outputs": [
    {
     "name": "stdout",
     "output_type": "stream",
     "text": [
      "<class 'pandas.core.frame.DataFrame'>\n",
      "RangeIndex: 5347564 entries, 0 to 5347563\n",
      "Data columns (total 18 columns):\n",
      " #   Column       Dtype  \n",
      "---  ------       -----  \n",
      " 0   Unnamed: 0   int64  \n",
      " 1   avg_d_kbps   int64  \n",
      " 2   avg_u_kbps   int64  \n",
      " 3   avg_lat_ms   int64  \n",
      " 4   tests        int64  \n",
      " 5   devices      int64  \n",
      " 6   quarter      object \n",
      " 7   category     object \n",
      " 8   long         float64\n",
      " 9   lat          float64\n",
      " 10  geometry     object \n",
      " 11  iso3         object \n",
      " 12  country      object \n",
      " 13  continent    object \n",
      " 14  region       object \n",
      " 15  iso_3166_1_  object \n",
      " 16  avg_d_mbps   float64\n",
      " 17  avg_u_mbps   float64\n",
      "dtypes: float64(4), int64(6), object(8)\n",
      "memory usage: 734.4+ MB\n"
     ]
    }
   ],
   "source": [
    "df_germany.info()"
   ]
  },
  {
   "cell_type": "code",
   "execution_count": 9,
   "metadata": {},
   "outputs": [
    {
     "data": {
      "text/html": [
       "<div>\n",
       "<style scoped>\n",
       "    .dataframe tbody tr th:only-of-type {\n",
       "        vertical-align: middle;\n",
       "    }\n",
       "\n",
       "    .dataframe tbody tr th {\n",
       "        vertical-align: top;\n",
       "    }\n",
       "\n",
       "    .dataframe thead th {\n",
       "        text-align: right;\n",
       "    }\n",
       "</style>\n",
       "<table border=\"1\" class=\"dataframe\">\n",
       "  <thead>\n",
       "    <tr style=\"text-align: right;\">\n",
       "      <th></th>\n",
       "      <th>avg_d_kbps</th>\n",
       "      <th>avg_u_kbps</th>\n",
       "      <th>avg_lat_ms</th>\n",
       "      <th>tests</th>\n",
       "      <th>devices</th>\n",
       "      <th>long</th>\n",
       "      <th>lat</th>\n",
       "      <th>avg_d_mbps</th>\n",
       "      <th>avg_u_mbps</th>\n",
       "    </tr>\n",
       "  </thead>\n",
       "  <tbody>\n",
       "    <tr>\n",
       "      <th>count</th>\n",
       "      <td>5.347564e+06</td>\n",
       "      <td>5.347564e+06</td>\n",
       "      <td>5.347564e+06</td>\n",
       "      <td>5.347564e+06</td>\n",
       "      <td>5.347564e+06</td>\n",
       "      <td>5.347564e+06</td>\n",
       "      <td>5.347564e+06</td>\n",
       "      <td>5.347564e+06</td>\n",
       "      <td>5.347564e+06</td>\n",
       "    </tr>\n",
       "    <tr>\n",
       "      <th>mean</th>\n",
       "      <td>6.339947e+04</td>\n",
       "      <td>1.869248e+04</td>\n",
       "      <td>2.614932e+01</td>\n",
       "      <td>9.455708e+00</td>\n",
       "      <td>2.921295e+00</td>\n",
       "      <td>9.693960e+00</td>\n",
       "      <td>5.091353e+01</td>\n",
       "      <td>6.339947e+01</td>\n",
       "      <td>1.869248e+01</td>\n",
       "    </tr>\n",
       "    <tr>\n",
       "      <th>std</th>\n",
       "      <td>6.810522e+04</td>\n",
       "      <td>2.372912e+04</td>\n",
       "      <td>4.398488e+01</td>\n",
       "      <td>2.178635e+01</td>\n",
       "      <td>4.111197e+00</td>\n",
       "      <td>2.105081e+00</td>\n",
       "      <td>1.753226e+00</td>\n",
       "      <td>6.810522e+01</td>\n",
       "      <td>2.372912e+01</td>\n",
       "    </tr>\n",
       "    <tr>\n",
       "      <th>min</th>\n",
       "      <td>1.000000e+00</td>\n",
       "      <td>1.000000e+00</td>\n",
       "      <td>0.000000e+00</td>\n",
       "      <td>1.000000e+00</td>\n",
       "      <td>1.000000e+00</td>\n",
       "      <td>5.866699e+00</td>\n",
       "      <td>4.729041e+01</td>\n",
       "      <td>1.000000e-03</td>\n",
       "      <td>1.000000e-03</td>\n",
       "    </tr>\n",
       "    <tr>\n",
       "      <th>25%</th>\n",
       "      <td>1.982500e+04</td>\n",
       "      <td>5.951000e+03</td>\n",
       "      <td>1.400000e+01</td>\n",
       "      <td>1.000000e+00</td>\n",
       "      <td>1.000000e+00</td>\n",
       "      <td>8.003540e+00</td>\n",
       "      <td>4.946098e+01</td>\n",
       "      <td>1.982500e+01</td>\n",
       "      <td>5.951000e+00</td>\n",
       "    </tr>\n",
       "    <tr>\n",
       "      <th>50%</th>\n",
       "      <td>4.446900e+04</td>\n",
       "      <td>1.239000e+04</td>\n",
       "      <td>2.100000e+01</td>\n",
       "      <td>3.000000e+00</td>\n",
       "      <td>2.000000e+00</td>\n",
       "      <td>9.420776e+00</td>\n",
       "      <td>5.103794e+01</td>\n",
       "      <td>4.446900e+01</td>\n",
       "      <td>1.239000e+01</td>\n",
       "    </tr>\n",
       "    <tr>\n",
       "      <th>75%</th>\n",
       "      <td>8.309300e+04</td>\n",
       "      <td>2.429400e+04</td>\n",
       "      <td>3.000000e+01</td>\n",
       "      <td>9.000000e+00</td>\n",
       "      <td>3.000000e+00</td>\n",
       "      <td>1.129395e+01</td>\n",
       "      <td>5.224126e+01</td>\n",
       "      <td>8.309300e+01</td>\n",
       "      <td>2.429400e+01</td>\n",
       "    </tr>\n",
       "    <tr>\n",
       "      <th>max</th>\n",
       "      <td>1.616027e+06</td>\n",
       "      <td>9.116170e+05</td>\n",
       "      <td>3.187100e+04</td>\n",
       "      <td>3.987000e+03</td>\n",
       "      <td>5.170000e+02</td>\n",
       "      <td>1.502930e+01</td>\n",
       "      <td>5.505006e+01</td>\n",
       "      <td>1.616027e+03</td>\n",
       "      <td>9.116170e+02</td>\n",
       "    </tr>\n",
       "  </tbody>\n",
       "</table>\n",
       "</div>"
      ],
      "text/plain": [
       "         avg_d_kbps    avg_u_kbps    avg_lat_ms         tests       devices  \\\n",
       "count  5.347564e+06  5.347564e+06  5.347564e+06  5.347564e+06  5.347564e+06   \n",
       "mean   6.339947e+04  1.869248e+04  2.614932e+01  9.455708e+00  2.921295e+00   \n",
       "std    6.810522e+04  2.372912e+04  4.398488e+01  2.178635e+01  4.111197e+00   \n",
       "min    1.000000e+00  1.000000e+00  0.000000e+00  1.000000e+00  1.000000e+00   \n",
       "25%    1.982500e+04  5.951000e+03  1.400000e+01  1.000000e+00  1.000000e+00   \n",
       "50%    4.446900e+04  1.239000e+04  2.100000e+01  3.000000e+00  2.000000e+00   \n",
       "75%    8.309300e+04  2.429400e+04  3.000000e+01  9.000000e+00  3.000000e+00   \n",
       "max    1.616027e+06  9.116170e+05  3.187100e+04  3.987000e+03  5.170000e+02   \n",
       "\n",
       "               long           lat    avg_d_mbps    avg_u_mbps  \n",
       "count  5.347564e+06  5.347564e+06  5.347564e+06  5.347564e+06  \n",
       "mean   9.693960e+00  5.091353e+01  6.339947e+01  1.869248e+01  \n",
       "std    2.105081e+00  1.753226e+00  6.810522e+01  2.372912e+01  \n",
       "min    5.866699e+00  4.729041e+01  1.000000e-03  1.000000e-03  \n",
       "25%    8.003540e+00  4.946098e+01  1.982500e+01  5.951000e+00  \n",
       "50%    9.420776e+00  5.103794e+01  4.446900e+01  1.239000e+01  \n",
       "75%    1.129395e+01  5.224126e+01  8.309300e+01  2.429400e+01  \n",
       "max    1.502930e+01  5.505006e+01  1.616027e+03  9.116170e+02  "
      ]
     },
     "execution_count": 9,
     "metadata": {},
     "output_type": "execute_result"
    }
   ],
   "source": [
    "# How to convert to non scientifc notation?\n",
    "df_germany.describe()"
   ]
  },
  {
   "cell_type": "code",
   "execution_count": 17,
   "outputs": [
    {
     "data": {
      "text/plain": "         Unnamed: 0  avg_d_kbps  avg_u_kbps  avg_lat_ms  tests  devices  \\\n937237       937237       37211       25346          21    734      517   \n349607       349607       29966       44475          20    563      509   \n822993       822993       30535       51608          15    505      480   \n822974       822974       31772       49143          15    504      464   \n667984       667984       34412       27318          25    614      451   \n349583       349583       33597       46624          17    491      440   \n3667095     3667095       41683       22316          19    534      422   \n439582       439582       28816       22303          26    514      396   \n935622       935622       24825       30927          33    418      394   \n129487       129487       21212       26018          13    442      388   \n822981       822981       23896       31582          10    437      384   \n129456       129456       27407       33867          16    414      377   \n1088530     1088530       33212       53386          13    388      357   \n349593       349593       19990       24139          13    413      341   \n1198091     1198091       40197       26003          19    486      341   \n3609117     3609117       14545       15491          15    352      339   \n226118       226118       28301       23580          26    466      337   \n935619       935619       69357       76393          17    350      328   \n3432149     3432149       39439       24672          20    414      327   \n1088549     1088549       30388       51379          18    358      327   \n\n            quarter category       long        lat  \\\n937237   2019-10-01    fixed  11.557617  48.140432   \n349607   2019-04-01    fixed   8.569336  50.050085   \n822993   2019-10-01    fixed   8.569336  50.050085   \n822974   2019-10-01    fixed   8.563843  50.050085   \n667984   2019-07-01    fixed  11.557617  48.140432   \n349583   2019-04-01    fixed   8.563843  50.050085   \n3667095  2022-07-01    fixed  11.557617  48.140432   \n439582   2019-04-01    fixed  11.557617  48.140432   \n935622   2019-10-01    fixed  11.788330  48.356249   \n129487   2019-01-01    fixed   8.569336  50.050085   \n822981   2019-10-01    fixed   8.569336  50.053612   \n129456   2019-01-01    fixed   8.563843  50.050085   \n1088530  2020-01-01    fixed   8.563843  50.050085   \n349593   2019-04-01    fixed   8.569336  50.053612   \n1198091  2020-01-01    fixed  11.557617  48.140432   \n3609117  2022-07-01    fixed  13.507690  52.365538   \n226118   2019-01-01    fixed  11.557617  48.140432   \n935619   2019-10-01    fixed  11.782837  48.356249   \n3432149  2022-04-01    fixed  11.557617  48.140432   \n1088549  2020-01-01    fixed   8.569336  50.050085   \n\n                                          geometry iso3  country continent  \\\n937237      POINT (11.5576171875 48.1404324381881)  DEU  Germany    Europe   \n349607       POINT (8.5693359375 50.0500847783826)  DEU  Germany    Europe   \n822993       POINT (8.5693359375 50.0500847783826)  DEU  Germany    Europe   \n822974    POINT (8.5638427734375 50.0500847783826)  DEU  Germany    Europe   \n667984      POINT (11.5576171875 48.1404324381881)  DEU  Germany    Europe   \n349583    POINT (8.5638427734375 50.0500847783826)  DEU  Germany    Europe   \n3667095     POINT (11.5576171875 48.1404324381881)  DEU  Germany    Europe   \n439582      POINT (11.5576171875 48.1404324381881)  DEU  Germany    Europe   \n935622    POINT (11.788330078125 48.3562490295407)  DEU  Germany    Europe   \n129487       POINT (8.5693359375 50.0500847783826)  DEU  Germany    Europe   \n822981       POINT (8.5693359375 50.0536119068041)  DEU  Germany    Europe   \n129456    POINT (8.5638427734375 50.0500847783826)  DEU  Germany    Europe   \n1088530   POINT (8.5638427734375 50.0500847783826)  DEU  Germany    Europe   \n349593       POINT (8.5693359375 50.0536119068041)  DEU  Germany    Europe   \n1198091     POINT (11.5576171875 48.1404324381881)  DEU  Germany    Europe   \n3609117  POINT (13.5076904296875 52.3655375887197)  DEU  Germany    Europe   \n226118      POINT (11.5576171875 48.1404324381881)  DEU  Germany    Europe   \n935619   POINT (11.7828369140625 48.3562490295407)  DEU  Germany    Europe   \n3432149     POINT (11.5576171875 48.1404324381881)  DEU  Germany    Europe   \n1088549      POINT (8.5693359375 50.0500847783826)  DEU  Germany    Europe   \n\n                 region iso_3166_1_  avg_d_mbps  avg_u_mbps  \n937237   Western Europe          DE      37.211      25.346  \n349607   Western Europe          DE      29.966      44.475  \n822993   Western Europe          DE      30.535      51.608  \n822974   Western Europe          DE      31.772      49.143  \n667984   Western Europe          DE      34.412      27.318  \n349583   Western Europe          DE      33.597      46.624  \n3667095  Western Europe          DE      41.683      22.316  \n439582   Western Europe          DE      28.816      22.303  \n935622   Western Europe          DE      24.825      30.927  \n129487   Western Europe          DE      21.212      26.018  \n822981   Western Europe          DE      23.896      31.582  \n129456   Western Europe          DE      27.407      33.867  \n1088530  Western Europe          DE      33.212      53.386  \n349593   Western Europe          DE      19.990      24.139  \n1198091  Western Europe          DE      40.197      26.003  \n3609117  Western Europe          DE      14.545      15.491  \n226118   Western Europe          DE      28.301      23.580  \n935619   Western Europe          DE      69.357      76.393  \n3432149  Western Europe          DE      39.439      24.672  \n1088549  Western Europe          DE      30.388      51.379  ",
      "text/html": "<div>\n<style scoped>\n    .dataframe tbody tr th:only-of-type {\n        vertical-align: middle;\n    }\n\n    .dataframe tbody tr th {\n        vertical-align: top;\n    }\n\n    .dataframe thead th {\n        text-align: right;\n    }\n</style>\n<table border=\"1\" class=\"dataframe\">\n  <thead>\n    <tr style=\"text-align: right;\">\n      <th></th>\n      <th>Unnamed: 0</th>\n      <th>avg_d_kbps</th>\n      <th>avg_u_kbps</th>\n      <th>avg_lat_ms</th>\n      <th>tests</th>\n      <th>devices</th>\n      <th>quarter</th>\n      <th>category</th>\n      <th>long</th>\n      <th>lat</th>\n      <th>geometry</th>\n      <th>iso3</th>\n      <th>country</th>\n      <th>continent</th>\n      <th>region</th>\n      <th>iso_3166_1_</th>\n      <th>avg_d_mbps</th>\n      <th>avg_u_mbps</th>\n    </tr>\n  </thead>\n  <tbody>\n    <tr>\n      <th>937237</th>\n      <td>937237</td>\n      <td>37211</td>\n      <td>25346</td>\n      <td>21</td>\n      <td>734</td>\n      <td>517</td>\n      <td>2019-10-01</td>\n      <td>fixed</td>\n      <td>11.557617</td>\n      <td>48.140432</td>\n      <td>POINT (11.5576171875 48.1404324381881)</td>\n      <td>DEU</td>\n      <td>Germany</td>\n      <td>Europe</td>\n      <td>Western Europe</td>\n      <td>DE</td>\n      <td>37.211</td>\n      <td>25.346</td>\n    </tr>\n    <tr>\n      <th>349607</th>\n      <td>349607</td>\n      <td>29966</td>\n      <td>44475</td>\n      <td>20</td>\n      <td>563</td>\n      <td>509</td>\n      <td>2019-04-01</td>\n      <td>fixed</td>\n      <td>8.569336</td>\n      <td>50.050085</td>\n      <td>POINT (8.5693359375 50.0500847783826)</td>\n      <td>DEU</td>\n      <td>Germany</td>\n      <td>Europe</td>\n      <td>Western Europe</td>\n      <td>DE</td>\n      <td>29.966</td>\n      <td>44.475</td>\n    </tr>\n    <tr>\n      <th>822993</th>\n      <td>822993</td>\n      <td>30535</td>\n      <td>51608</td>\n      <td>15</td>\n      <td>505</td>\n      <td>480</td>\n      <td>2019-10-01</td>\n      <td>fixed</td>\n      <td>8.569336</td>\n      <td>50.050085</td>\n      <td>POINT (8.5693359375 50.0500847783826)</td>\n      <td>DEU</td>\n      <td>Germany</td>\n      <td>Europe</td>\n      <td>Western Europe</td>\n      <td>DE</td>\n      <td>30.535</td>\n      <td>51.608</td>\n    </tr>\n    <tr>\n      <th>822974</th>\n      <td>822974</td>\n      <td>31772</td>\n      <td>49143</td>\n      <td>15</td>\n      <td>504</td>\n      <td>464</td>\n      <td>2019-10-01</td>\n      <td>fixed</td>\n      <td>8.563843</td>\n      <td>50.050085</td>\n      <td>POINT (8.5638427734375 50.0500847783826)</td>\n      <td>DEU</td>\n      <td>Germany</td>\n      <td>Europe</td>\n      <td>Western Europe</td>\n      <td>DE</td>\n      <td>31.772</td>\n      <td>49.143</td>\n    </tr>\n    <tr>\n      <th>667984</th>\n      <td>667984</td>\n      <td>34412</td>\n      <td>27318</td>\n      <td>25</td>\n      <td>614</td>\n      <td>451</td>\n      <td>2019-07-01</td>\n      <td>fixed</td>\n      <td>11.557617</td>\n      <td>48.140432</td>\n      <td>POINT (11.5576171875 48.1404324381881)</td>\n      <td>DEU</td>\n      <td>Germany</td>\n      <td>Europe</td>\n      <td>Western Europe</td>\n      <td>DE</td>\n      <td>34.412</td>\n      <td>27.318</td>\n    </tr>\n    <tr>\n      <th>349583</th>\n      <td>349583</td>\n      <td>33597</td>\n      <td>46624</td>\n      <td>17</td>\n      <td>491</td>\n      <td>440</td>\n      <td>2019-04-01</td>\n      <td>fixed</td>\n      <td>8.563843</td>\n      <td>50.050085</td>\n      <td>POINT (8.5638427734375 50.0500847783826)</td>\n      <td>DEU</td>\n      <td>Germany</td>\n      <td>Europe</td>\n      <td>Western Europe</td>\n      <td>DE</td>\n      <td>33.597</td>\n      <td>46.624</td>\n    </tr>\n    <tr>\n      <th>3667095</th>\n      <td>3667095</td>\n      <td>41683</td>\n      <td>22316</td>\n      <td>19</td>\n      <td>534</td>\n      <td>422</td>\n      <td>2022-07-01</td>\n      <td>fixed</td>\n      <td>11.557617</td>\n      <td>48.140432</td>\n      <td>POINT (11.5576171875 48.1404324381881)</td>\n      <td>DEU</td>\n      <td>Germany</td>\n      <td>Europe</td>\n      <td>Western Europe</td>\n      <td>DE</td>\n      <td>41.683</td>\n      <td>22.316</td>\n    </tr>\n    <tr>\n      <th>439582</th>\n      <td>439582</td>\n      <td>28816</td>\n      <td>22303</td>\n      <td>26</td>\n      <td>514</td>\n      <td>396</td>\n      <td>2019-04-01</td>\n      <td>fixed</td>\n      <td>11.557617</td>\n      <td>48.140432</td>\n      <td>POINT (11.5576171875 48.1404324381881)</td>\n      <td>DEU</td>\n      <td>Germany</td>\n      <td>Europe</td>\n      <td>Western Europe</td>\n      <td>DE</td>\n      <td>28.816</td>\n      <td>22.303</td>\n    </tr>\n    <tr>\n      <th>935622</th>\n      <td>935622</td>\n      <td>24825</td>\n      <td>30927</td>\n      <td>33</td>\n      <td>418</td>\n      <td>394</td>\n      <td>2019-10-01</td>\n      <td>fixed</td>\n      <td>11.788330</td>\n      <td>48.356249</td>\n      <td>POINT (11.788330078125 48.3562490295407)</td>\n      <td>DEU</td>\n      <td>Germany</td>\n      <td>Europe</td>\n      <td>Western Europe</td>\n      <td>DE</td>\n      <td>24.825</td>\n      <td>30.927</td>\n    </tr>\n    <tr>\n      <th>129487</th>\n      <td>129487</td>\n      <td>21212</td>\n      <td>26018</td>\n      <td>13</td>\n      <td>442</td>\n      <td>388</td>\n      <td>2019-01-01</td>\n      <td>fixed</td>\n      <td>8.569336</td>\n      <td>50.050085</td>\n      <td>POINT (8.5693359375 50.0500847783826)</td>\n      <td>DEU</td>\n      <td>Germany</td>\n      <td>Europe</td>\n      <td>Western Europe</td>\n      <td>DE</td>\n      <td>21.212</td>\n      <td>26.018</td>\n    </tr>\n    <tr>\n      <th>822981</th>\n      <td>822981</td>\n      <td>23896</td>\n      <td>31582</td>\n      <td>10</td>\n      <td>437</td>\n      <td>384</td>\n      <td>2019-10-01</td>\n      <td>fixed</td>\n      <td>8.569336</td>\n      <td>50.053612</td>\n      <td>POINT (8.5693359375 50.0536119068041)</td>\n      <td>DEU</td>\n      <td>Germany</td>\n      <td>Europe</td>\n      <td>Western Europe</td>\n      <td>DE</td>\n      <td>23.896</td>\n      <td>31.582</td>\n    </tr>\n    <tr>\n      <th>129456</th>\n      <td>129456</td>\n      <td>27407</td>\n      <td>33867</td>\n      <td>16</td>\n      <td>414</td>\n      <td>377</td>\n      <td>2019-01-01</td>\n      <td>fixed</td>\n      <td>8.563843</td>\n      <td>50.050085</td>\n      <td>POINT (8.5638427734375 50.0500847783826)</td>\n      <td>DEU</td>\n      <td>Germany</td>\n      <td>Europe</td>\n      <td>Western Europe</td>\n      <td>DE</td>\n      <td>27.407</td>\n      <td>33.867</td>\n    </tr>\n    <tr>\n      <th>1088530</th>\n      <td>1088530</td>\n      <td>33212</td>\n      <td>53386</td>\n      <td>13</td>\n      <td>388</td>\n      <td>357</td>\n      <td>2020-01-01</td>\n      <td>fixed</td>\n      <td>8.563843</td>\n      <td>50.050085</td>\n      <td>POINT (8.5638427734375 50.0500847783826)</td>\n      <td>DEU</td>\n      <td>Germany</td>\n      <td>Europe</td>\n      <td>Western Europe</td>\n      <td>DE</td>\n      <td>33.212</td>\n      <td>53.386</td>\n    </tr>\n    <tr>\n      <th>349593</th>\n      <td>349593</td>\n      <td>19990</td>\n      <td>24139</td>\n      <td>13</td>\n      <td>413</td>\n      <td>341</td>\n      <td>2019-04-01</td>\n      <td>fixed</td>\n      <td>8.569336</td>\n      <td>50.053612</td>\n      <td>POINT (8.5693359375 50.0536119068041)</td>\n      <td>DEU</td>\n      <td>Germany</td>\n      <td>Europe</td>\n      <td>Western Europe</td>\n      <td>DE</td>\n      <td>19.990</td>\n      <td>24.139</td>\n    </tr>\n    <tr>\n      <th>1198091</th>\n      <td>1198091</td>\n      <td>40197</td>\n      <td>26003</td>\n      <td>19</td>\n      <td>486</td>\n      <td>341</td>\n      <td>2020-01-01</td>\n      <td>fixed</td>\n      <td>11.557617</td>\n      <td>48.140432</td>\n      <td>POINT (11.5576171875 48.1404324381881)</td>\n      <td>DEU</td>\n      <td>Germany</td>\n      <td>Europe</td>\n      <td>Western Europe</td>\n      <td>DE</td>\n      <td>40.197</td>\n      <td>26.003</td>\n    </tr>\n    <tr>\n      <th>3609117</th>\n      <td>3609117</td>\n      <td>14545</td>\n      <td>15491</td>\n      <td>15</td>\n      <td>352</td>\n      <td>339</td>\n      <td>2022-07-01</td>\n      <td>fixed</td>\n      <td>13.507690</td>\n      <td>52.365538</td>\n      <td>POINT (13.5076904296875 52.3655375887197)</td>\n      <td>DEU</td>\n      <td>Germany</td>\n      <td>Europe</td>\n      <td>Western Europe</td>\n      <td>DE</td>\n      <td>14.545</td>\n      <td>15.491</td>\n    </tr>\n    <tr>\n      <th>226118</th>\n      <td>226118</td>\n      <td>28301</td>\n      <td>23580</td>\n      <td>26</td>\n      <td>466</td>\n      <td>337</td>\n      <td>2019-01-01</td>\n      <td>fixed</td>\n      <td>11.557617</td>\n      <td>48.140432</td>\n      <td>POINT (11.5576171875 48.1404324381881)</td>\n      <td>DEU</td>\n      <td>Germany</td>\n      <td>Europe</td>\n      <td>Western Europe</td>\n      <td>DE</td>\n      <td>28.301</td>\n      <td>23.580</td>\n    </tr>\n    <tr>\n      <th>935619</th>\n      <td>935619</td>\n      <td>69357</td>\n      <td>76393</td>\n      <td>17</td>\n      <td>350</td>\n      <td>328</td>\n      <td>2019-10-01</td>\n      <td>fixed</td>\n      <td>11.782837</td>\n      <td>48.356249</td>\n      <td>POINT (11.7828369140625 48.3562490295407)</td>\n      <td>DEU</td>\n      <td>Germany</td>\n      <td>Europe</td>\n      <td>Western Europe</td>\n      <td>DE</td>\n      <td>69.357</td>\n      <td>76.393</td>\n    </tr>\n    <tr>\n      <th>3432149</th>\n      <td>3432149</td>\n      <td>39439</td>\n      <td>24672</td>\n      <td>20</td>\n      <td>414</td>\n      <td>327</td>\n      <td>2022-04-01</td>\n      <td>fixed</td>\n      <td>11.557617</td>\n      <td>48.140432</td>\n      <td>POINT (11.5576171875 48.1404324381881)</td>\n      <td>DEU</td>\n      <td>Germany</td>\n      <td>Europe</td>\n      <td>Western Europe</td>\n      <td>DE</td>\n      <td>39.439</td>\n      <td>24.672</td>\n    </tr>\n    <tr>\n      <th>1088549</th>\n      <td>1088549</td>\n      <td>30388</td>\n      <td>51379</td>\n      <td>18</td>\n      <td>358</td>\n      <td>327</td>\n      <td>2020-01-01</td>\n      <td>fixed</td>\n      <td>8.569336</td>\n      <td>50.050085</td>\n      <td>POINT (8.5693359375 50.0500847783826)</td>\n      <td>DEU</td>\n      <td>Germany</td>\n      <td>Europe</td>\n      <td>Western Europe</td>\n      <td>DE</td>\n      <td>30.388</td>\n      <td>51.379</td>\n    </tr>\n  </tbody>\n</table>\n</div>"
     },
     "execution_count": 17,
     "metadata": {},
     "output_type": "execute_result"
    }
   ],
   "source": [
    "df_germany.describe()\n",
    "df_germany.sort_values(by='devices', ascending=False).head(20)\n",
    "# tiles with very high amount of devices --> rather compute weighted average by devices, not by tests"
   ],
   "metadata": {
    "collapsed": false
   }
  },
  {
   "cell_type": "code",
   "execution_count": 16,
   "outputs": [
    {
     "data": {
      "text/plain": "         Unnamed: 0  avg_d_kbps  avg_u_kbps  avg_lat_ms  tests  devices  \\\n1603681     1603681      100510       18673          14   3987       14   \n2143468     2143468      143945      109409           6   3913        9   \n2505767     2505767      155298       32402          18   3829        7   \n3072085     3072085       78193       21131          13   3778       17   \n2346494     2346494       88043       15023          10   3734       20   \n2098048     2098048      132404       21334          12   3550       23   \n3647069     3647069       48650       26667          18   3360        5   \n590864       590864       64177        8574          30   3201       15   \n3316123     3316123      139169       24821          13   2991       14   \n1850895     1850895      122096       18990          11   2897       17   \n1347707     1347707      129245       14894          11   2592       21   \n3087803     3087803      133345       21947          11   2558       24   \n2823120     2823120      105556       29234          72   2463       18   \n5307570     5307570      166032       22471          30   2459        6   \n310695       310695       49369       18127          29   2401        9   \n3929812     3929812       45274       14848          55   2397       24   \n844736       844736       72458       12226          22   2383       20   \n1997842     1997842       60680       14276          19   2260       16   \n1370640     1370640       91461       15508          19   2141       21   \n2591851     2591851      122314       21513          17   2025       13   \n\n            quarter category       long        lat  \\\n1603681  2020-07-01    fixed   8.596802  50.085344   \n2143468  2021-01-01    fixed  13.634033  52.368892   \n2505767  2021-07-01    fixed   7.377319  51.624837   \n3072085  2022-01-01    fixed   8.300171  50.004209   \n2346494  2021-04-01    fixed   8.596802  50.085344   \n2098048  2021-01-01    fixed   8.596802  50.085344   \n3647069  2022-07-01    fixed   9.755859  48.465637   \n590864   2019-07-01    fixed  11.107178  49.478832   \n3316123  2022-04-01    fixed   8.300171  50.004209   \n1850895  2020-10-01    fixed   8.596802  50.085344   \n1347707  2020-04-01    fixed   8.596802  50.085344   \n3087803  2022-01-01    fixed   8.596802  50.085344   \n2823120  2021-10-01    fixed   8.300171  50.004209   \n5307570  2022-07-01   mobile  13.408813  52.499504   \n310695   2019-04-01    fixed   9.860229  52.244620   \n3929812  2019-07-01   mobile  11.107178  49.478832   \n844736   2019-10-01    fixed  11.107178  49.478832   \n1997842  2021-01-01    fixed  10.112915  52.599711   \n1370640  2020-04-01    fixed  11.107178  49.478832   \n2591851  2021-07-01    fixed   8.596802  50.085344   \n\n                                          geometry iso3  country continent  \\\n1603681   POINT (8.5968017578125 50.0853443975389)  DEU  Germany    Europe   \n2143468   POINT (13.634033203125 52.3688917060255)  DEU  Germany    Europe   \n2505767   POINT (7.3773193359375 51.6248374617432)  DEU  Germany    Europe   \n3072085   POINT (8.3001708984375 50.0042085155956)  DEU  Germany    Europe   \n2346494   POINT (8.5968017578125 50.0853443975389)  DEU  Germany    Europe   \n2098048   POINT (8.5968017578125 50.0853443975389)  DEU  Germany    Europe   \n3647069       POINT (9.755859375 48.4656371004498)  DEU  Germany    Europe   \n590864    POINT (11.107177734375 49.4788324407105)  DEU  Germany    Europe   \n3316123   POINT (8.3001708984375 50.0042085155956)  DEU  Germany    Europe   \n1850895   POINT (8.5968017578125 50.0853443975389)  DEU  Germany    Europe   \n1347707   POINT (8.5968017578125 50.0853443975389)  DEU  Germany    Europe   \n3087803   POINT (8.5968017578125 50.0853443975389)  DEU  Germany    Europe   \n2823120   POINT (8.3001708984375 50.0042085155956)  DEU  Germany    Europe   \n5307570  POINT (13.4088134765625 52.4995037224275)  DEU  Germany    Europe   \n310695    POINT (9.8602294921875 52.2446196949477)  DEU  Germany    Europe   \n3929812   POINT (11.107177734375 49.4788324407105)  DEU  Germany    Europe   \n844736    POINT (11.107177734375 49.4788324407105)  DEU  Germany    Europe   \n1997842  POINT (10.1129150390625 52.5997112236547)  DEU  Germany    Europe   \n1370640   POINT (11.107177734375 49.4788324407105)  DEU  Germany    Europe   \n2591851   POINT (8.5968017578125 50.0853443975389)  DEU  Germany    Europe   \n\n                 region iso_3166_1_  avg_d_mbps  avg_u_mbps  \n1603681  Western Europe          DE     100.510      18.673  \n2143468  Western Europe          DE     143.945     109.409  \n2505767  Western Europe          DE     155.298      32.402  \n3072085  Western Europe          DE      78.193      21.131  \n2346494  Western Europe          DE      88.043      15.023  \n2098048  Western Europe          DE     132.404      21.334  \n3647069  Western Europe          DE      48.650      26.667  \n590864   Western Europe          DE      64.177       8.574  \n3316123  Western Europe          DE     139.169      24.821  \n1850895  Western Europe          DE     122.096      18.990  \n1347707  Western Europe          DE     129.245      14.894  \n3087803  Western Europe          DE     133.345      21.947  \n2823120  Western Europe          DE     105.556      29.234  \n5307570  Western Europe          DE     166.032      22.471  \n310695   Western Europe          DE      49.369      18.127  \n3929812  Western Europe          DE      45.274      14.848  \n844736   Western Europe          DE      72.458      12.226  \n1997842  Western Europe          DE      60.680      14.276  \n1370640  Western Europe          DE      91.461      15.508  \n2591851  Western Europe          DE     122.314      21.513  ",
      "text/html": "<div>\n<style scoped>\n    .dataframe tbody tr th:only-of-type {\n        vertical-align: middle;\n    }\n\n    .dataframe tbody tr th {\n        vertical-align: top;\n    }\n\n    .dataframe thead th {\n        text-align: right;\n    }\n</style>\n<table border=\"1\" class=\"dataframe\">\n  <thead>\n    <tr style=\"text-align: right;\">\n      <th></th>\n      <th>Unnamed: 0</th>\n      <th>avg_d_kbps</th>\n      <th>avg_u_kbps</th>\n      <th>avg_lat_ms</th>\n      <th>tests</th>\n      <th>devices</th>\n      <th>quarter</th>\n      <th>category</th>\n      <th>long</th>\n      <th>lat</th>\n      <th>geometry</th>\n      <th>iso3</th>\n      <th>country</th>\n      <th>continent</th>\n      <th>region</th>\n      <th>iso_3166_1_</th>\n      <th>avg_d_mbps</th>\n      <th>avg_u_mbps</th>\n    </tr>\n  </thead>\n  <tbody>\n    <tr>\n      <th>1603681</th>\n      <td>1603681</td>\n      <td>100510</td>\n      <td>18673</td>\n      <td>14</td>\n      <td>3987</td>\n      <td>14</td>\n      <td>2020-07-01</td>\n      <td>fixed</td>\n      <td>8.596802</td>\n      <td>50.085344</td>\n      <td>POINT (8.5968017578125 50.0853443975389)</td>\n      <td>DEU</td>\n      <td>Germany</td>\n      <td>Europe</td>\n      <td>Western Europe</td>\n      <td>DE</td>\n      <td>100.510</td>\n      <td>18.673</td>\n    </tr>\n    <tr>\n      <th>2143468</th>\n      <td>2143468</td>\n      <td>143945</td>\n      <td>109409</td>\n      <td>6</td>\n      <td>3913</td>\n      <td>9</td>\n      <td>2021-01-01</td>\n      <td>fixed</td>\n      <td>13.634033</td>\n      <td>52.368892</td>\n      <td>POINT (13.634033203125 52.3688917060255)</td>\n      <td>DEU</td>\n      <td>Germany</td>\n      <td>Europe</td>\n      <td>Western Europe</td>\n      <td>DE</td>\n      <td>143.945</td>\n      <td>109.409</td>\n    </tr>\n    <tr>\n      <th>2505767</th>\n      <td>2505767</td>\n      <td>155298</td>\n      <td>32402</td>\n      <td>18</td>\n      <td>3829</td>\n      <td>7</td>\n      <td>2021-07-01</td>\n      <td>fixed</td>\n      <td>7.377319</td>\n      <td>51.624837</td>\n      <td>POINT (7.3773193359375 51.6248374617432)</td>\n      <td>DEU</td>\n      <td>Germany</td>\n      <td>Europe</td>\n      <td>Western Europe</td>\n      <td>DE</td>\n      <td>155.298</td>\n      <td>32.402</td>\n    </tr>\n    <tr>\n      <th>3072085</th>\n      <td>3072085</td>\n      <td>78193</td>\n      <td>21131</td>\n      <td>13</td>\n      <td>3778</td>\n      <td>17</td>\n      <td>2022-01-01</td>\n      <td>fixed</td>\n      <td>8.300171</td>\n      <td>50.004209</td>\n      <td>POINT (8.3001708984375 50.0042085155956)</td>\n      <td>DEU</td>\n      <td>Germany</td>\n      <td>Europe</td>\n      <td>Western Europe</td>\n      <td>DE</td>\n      <td>78.193</td>\n      <td>21.131</td>\n    </tr>\n    <tr>\n      <th>2346494</th>\n      <td>2346494</td>\n      <td>88043</td>\n      <td>15023</td>\n      <td>10</td>\n      <td>3734</td>\n      <td>20</td>\n      <td>2021-04-01</td>\n      <td>fixed</td>\n      <td>8.596802</td>\n      <td>50.085344</td>\n      <td>POINT (8.5968017578125 50.0853443975389)</td>\n      <td>DEU</td>\n      <td>Germany</td>\n      <td>Europe</td>\n      <td>Western Europe</td>\n      <td>DE</td>\n      <td>88.043</td>\n      <td>15.023</td>\n    </tr>\n    <tr>\n      <th>2098048</th>\n      <td>2098048</td>\n      <td>132404</td>\n      <td>21334</td>\n      <td>12</td>\n      <td>3550</td>\n      <td>23</td>\n      <td>2021-01-01</td>\n      <td>fixed</td>\n      <td>8.596802</td>\n      <td>50.085344</td>\n      <td>POINT (8.5968017578125 50.0853443975389)</td>\n      <td>DEU</td>\n      <td>Germany</td>\n      <td>Europe</td>\n      <td>Western Europe</td>\n      <td>DE</td>\n      <td>132.404</td>\n      <td>21.334</td>\n    </tr>\n    <tr>\n      <th>3647069</th>\n      <td>3647069</td>\n      <td>48650</td>\n      <td>26667</td>\n      <td>18</td>\n      <td>3360</td>\n      <td>5</td>\n      <td>2022-07-01</td>\n      <td>fixed</td>\n      <td>9.755859</td>\n      <td>48.465637</td>\n      <td>POINT (9.755859375 48.4656371004498)</td>\n      <td>DEU</td>\n      <td>Germany</td>\n      <td>Europe</td>\n      <td>Western Europe</td>\n      <td>DE</td>\n      <td>48.650</td>\n      <td>26.667</td>\n    </tr>\n    <tr>\n      <th>590864</th>\n      <td>590864</td>\n      <td>64177</td>\n      <td>8574</td>\n      <td>30</td>\n      <td>3201</td>\n      <td>15</td>\n      <td>2019-07-01</td>\n      <td>fixed</td>\n      <td>11.107178</td>\n      <td>49.478832</td>\n      <td>POINT (11.107177734375 49.4788324407105)</td>\n      <td>DEU</td>\n      <td>Germany</td>\n      <td>Europe</td>\n      <td>Western Europe</td>\n      <td>DE</td>\n      <td>64.177</td>\n      <td>8.574</td>\n    </tr>\n    <tr>\n      <th>3316123</th>\n      <td>3316123</td>\n      <td>139169</td>\n      <td>24821</td>\n      <td>13</td>\n      <td>2991</td>\n      <td>14</td>\n      <td>2022-04-01</td>\n      <td>fixed</td>\n      <td>8.300171</td>\n      <td>50.004209</td>\n      <td>POINT (8.3001708984375 50.0042085155956)</td>\n      <td>DEU</td>\n      <td>Germany</td>\n      <td>Europe</td>\n      <td>Western Europe</td>\n      <td>DE</td>\n      <td>139.169</td>\n      <td>24.821</td>\n    </tr>\n    <tr>\n      <th>1850895</th>\n      <td>1850895</td>\n      <td>122096</td>\n      <td>18990</td>\n      <td>11</td>\n      <td>2897</td>\n      <td>17</td>\n      <td>2020-10-01</td>\n      <td>fixed</td>\n      <td>8.596802</td>\n      <td>50.085344</td>\n      <td>POINT (8.5968017578125 50.0853443975389)</td>\n      <td>DEU</td>\n      <td>Germany</td>\n      <td>Europe</td>\n      <td>Western Europe</td>\n      <td>DE</td>\n      <td>122.096</td>\n      <td>18.990</td>\n    </tr>\n    <tr>\n      <th>1347707</th>\n      <td>1347707</td>\n      <td>129245</td>\n      <td>14894</td>\n      <td>11</td>\n      <td>2592</td>\n      <td>21</td>\n      <td>2020-04-01</td>\n      <td>fixed</td>\n      <td>8.596802</td>\n      <td>50.085344</td>\n      <td>POINT (8.5968017578125 50.0853443975389)</td>\n      <td>DEU</td>\n      <td>Germany</td>\n      <td>Europe</td>\n      <td>Western Europe</td>\n      <td>DE</td>\n      <td>129.245</td>\n      <td>14.894</td>\n    </tr>\n    <tr>\n      <th>3087803</th>\n      <td>3087803</td>\n      <td>133345</td>\n      <td>21947</td>\n      <td>11</td>\n      <td>2558</td>\n      <td>24</td>\n      <td>2022-01-01</td>\n      <td>fixed</td>\n      <td>8.596802</td>\n      <td>50.085344</td>\n      <td>POINT (8.5968017578125 50.0853443975389)</td>\n      <td>DEU</td>\n      <td>Germany</td>\n      <td>Europe</td>\n      <td>Western Europe</td>\n      <td>DE</td>\n      <td>133.345</td>\n      <td>21.947</td>\n    </tr>\n    <tr>\n      <th>2823120</th>\n      <td>2823120</td>\n      <td>105556</td>\n      <td>29234</td>\n      <td>72</td>\n      <td>2463</td>\n      <td>18</td>\n      <td>2021-10-01</td>\n      <td>fixed</td>\n      <td>8.300171</td>\n      <td>50.004209</td>\n      <td>POINT (8.3001708984375 50.0042085155956)</td>\n      <td>DEU</td>\n      <td>Germany</td>\n      <td>Europe</td>\n      <td>Western Europe</td>\n      <td>DE</td>\n      <td>105.556</td>\n      <td>29.234</td>\n    </tr>\n    <tr>\n      <th>5307570</th>\n      <td>5307570</td>\n      <td>166032</td>\n      <td>22471</td>\n      <td>30</td>\n      <td>2459</td>\n      <td>6</td>\n      <td>2022-07-01</td>\n      <td>mobile</td>\n      <td>13.408813</td>\n      <td>52.499504</td>\n      <td>POINT (13.4088134765625 52.4995037224275)</td>\n      <td>DEU</td>\n      <td>Germany</td>\n      <td>Europe</td>\n      <td>Western Europe</td>\n      <td>DE</td>\n      <td>166.032</td>\n      <td>22.471</td>\n    </tr>\n    <tr>\n      <th>310695</th>\n      <td>310695</td>\n      <td>49369</td>\n      <td>18127</td>\n      <td>29</td>\n      <td>2401</td>\n      <td>9</td>\n      <td>2019-04-01</td>\n      <td>fixed</td>\n      <td>9.860229</td>\n      <td>52.244620</td>\n      <td>POINT (9.8602294921875 52.2446196949477)</td>\n      <td>DEU</td>\n      <td>Germany</td>\n      <td>Europe</td>\n      <td>Western Europe</td>\n      <td>DE</td>\n      <td>49.369</td>\n      <td>18.127</td>\n    </tr>\n    <tr>\n      <th>3929812</th>\n      <td>3929812</td>\n      <td>45274</td>\n      <td>14848</td>\n      <td>55</td>\n      <td>2397</td>\n      <td>24</td>\n      <td>2019-07-01</td>\n      <td>mobile</td>\n      <td>11.107178</td>\n      <td>49.478832</td>\n      <td>POINT (11.107177734375 49.4788324407105)</td>\n      <td>DEU</td>\n      <td>Germany</td>\n      <td>Europe</td>\n      <td>Western Europe</td>\n      <td>DE</td>\n      <td>45.274</td>\n      <td>14.848</td>\n    </tr>\n    <tr>\n      <th>844736</th>\n      <td>844736</td>\n      <td>72458</td>\n      <td>12226</td>\n      <td>22</td>\n      <td>2383</td>\n      <td>20</td>\n      <td>2019-10-01</td>\n      <td>fixed</td>\n      <td>11.107178</td>\n      <td>49.478832</td>\n      <td>POINT (11.107177734375 49.4788324407105)</td>\n      <td>DEU</td>\n      <td>Germany</td>\n      <td>Europe</td>\n      <td>Western Europe</td>\n      <td>DE</td>\n      <td>72.458</td>\n      <td>12.226</td>\n    </tr>\n    <tr>\n      <th>1997842</th>\n      <td>1997842</td>\n      <td>60680</td>\n      <td>14276</td>\n      <td>19</td>\n      <td>2260</td>\n      <td>16</td>\n      <td>2021-01-01</td>\n      <td>fixed</td>\n      <td>10.112915</td>\n      <td>52.599711</td>\n      <td>POINT (10.1129150390625 52.5997112236547)</td>\n      <td>DEU</td>\n      <td>Germany</td>\n      <td>Europe</td>\n      <td>Western Europe</td>\n      <td>DE</td>\n      <td>60.680</td>\n      <td>14.276</td>\n    </tr>\n    <tr>\n      <th>1370640</th>\n      <td>1370640</td>\n      <td>91461</td>\n      <td>15508</td>\n      <td>19</td>\n      <td>2141</td>\n      <td>21</td>\n      <td>2020-04-01</td>\n      <td>fixed</td>\n      <td>11.107178</td>\n      <td>49.478832</td>\n      <td>POINT (11.107177734375 49.4788324407105)</td>\n      <td>DEU</td>\n      <td>Germany</td>\n      <td>Europe</td>\n      <td>Western Europe</td>\n      <td>DE</td>\n      <td>91.461</td>\n      <td>15.508</td>\n    </tr>\n    <tr>\n      <th>2591851</th>\n      <td>2591851</td>\n      <td>122314</td>\n      <td>21513</td>\n      <td>17</td>\n      <td>2025</td>\n      <td>13</td>\n      <td>2021-07-01</td>\n      <td>fixed</td>\n      <td>8.596802</td>\n      <td>50.085344</td>\n      <td>POINT (8.5968017578125 50.0853443975389)</td>\n      <td>DEU</td>\n      <td>Germany</td>\n      <td>Europe</td>\n      <td>Western Europe</td>\n      <td>DE</td>\n      <td>122.314</td>\n      <td>21.513</td>\n    </tr>\n  </tbody>\n</table>\n</div>"
     },
     "execution_count": 16,
     "metadata": {},
     "output_type": "execute_result"
    }
   ],
   "source": [
    "df_germany.sort_values(by='tests', ascending=False).head(20)\n",
    "# there are tiles with a high amount of tests per device"
   ],
   "metadata": {
    "collapsed": false
   }
  },
  {
   "attachments": {},
   "cell_type": "markdown",
   "metadata": {},
   "source": [
    "#### Visual Exploration"
   ]
  },
  {
   "cell_type": "code",
   "execution_count": 31,
   "metadata": {},
   "outputs": [
    {
     "data": {
      "text/plain": [
       "<seaborn.axisgrid.FacetGrid at 0x12484e200>"
      ]
     },
     "execution_count": 31,
     "metadata": {},
     "output_type": "execute_result"
    },
    {
     "data": {
      "image/png": "[encoded data removed]",
      "text/plain": [
       "<Figure size 500x500 with 1 Axes>"
      ]
     },
     "metadata": {},
     "output_type": "display_data"
    }
   ],
   "source": [
    "# Plot count broadband types fixed and mobile\n",
    "plt = sns.catplot(data=df_germany,\n",
    "\t\t\tx=\"category\",\n",
    "\t\t\tkind=\"count\"\n",
    "\t\t    )\n",
    "\n",
    "plt"
   ]
  },
  {
   "cell_type": "code",
   "execution_count": 46,
   "metadata": {},
   "outputs": [
    {
     "ename": "AttributeError",
     "evalue": "'FacetGrid' object has no attribute 'show'",
     "output_type": "error",
     "traceback": [
      "\u001B[0;31m---------------------------------------------------------------------------\u001B[0m",
      "\u001B[0;31mAttributeError\u001B[0m                            Traceback (most recent call last)",
      "Cell \u001B[0;32mIn[46], line 7\u001B[0m\n\u001B[1;32m      1\u001B[0m \u001B[39m# Boxplots\u001B[39;00m\n\u001B[1;32m      2\u001B[0m sns\u001B[39m.\u001B[39mcatplot(data\u001B[39m=\u001B[39mdf_germany,\n\u001B[1;32m      3\u001B[0m             x\u001B[39m=\u001B[39m\u001B[39m\"\u001B[39m\u001B[39mavg_d_mbps\u001B[39m\u001B[39m\"\u001B[39m, y\u001B[39m=\u001B[39m\u001B[39m\"\u001B[39m\u001B[39mcategory\u001B[39m\u001B[39m\"\u001B[39m,\n\u001B[1;32m      4\u001B[0m             kind\u001B[39m=\u001B[39m\u001B[39m\"\u001B[39m\u001B[39mbox\u001B[39m\u001B[39m\"\u001B[39m\n\u001B[1;32m      5\u001B[0m             )\n\u001B[0;32m----> 7\u001B[0m plt\u001B[39m.\u001B[39;49mshow()\n",
      "\u001B[0;31mAttributeError\u001B[0m: 'FacetGrid' object has no attribute 'show'"
     ]
    },
    {
     "data": {
      "image/png": "[encoded data removed]",
      "text/plain": [
       "<Figure size 500x500 with 1 Axes>"
      ]
     },
     "metadata": {},
     "output_type": "display_data"
    }
   ],
   "source": [
    "# Boxplots\n",
    "sns.catplot(data=df_germany,\n",
    "            x=\"avg_d_mbps\", y=\"category\",\n",
    "            kind=\"box\"\n",
    "            )\n",
    "\n",
    "plt.show()"
   ]
  },
  {
   "attachments": {},
   "cell_type": "markdown",
   "metadata": {},
   "source": [
    "### Data Exploration (Whole World)"
   ]
  },
  {
   "cell_type": "code",
   "execution_count": 4,
   "metadata": {},
   "outputs": [],
   "source": [
    "# df_world = pd.read_csv('./data/final_data/world_aggregated.csv', sep=',')\n",
    "df_world = pd.read_csv('../../Documents/Master/Semester1/Visual_Analytics/Data_Input_final/world_aggregated.csv')"
   ]
  },
  {
   "attachments": {},
   "cell_type": "markdown",
   "metadata": {},
   "source": [
    "#### Numerical"
   ]
  },
  {
   "cell_type": "code",
   "execution_count": 5,
   "metadata": {},
   "outputs": [
    {
     "data": {
      "text/plain": "          country     quarter category  tests    avg_d_kbps    avg_u_kbps  \\\n0     Afghanistan  2019-01-01    fixed  13839   4403.485656   4433.100441   \n1         Albania  2019-01-01    fixed  73138  15327.166972   7317.424827   \n2         Algeria  2019-01-01    fixed  42838   4280.955157   2715.104580   \n3  American Samoa  2019-01-01    fixed    618  18732.224919   7906.815534   \n4         Andorra  2019-01-01    fixed   4574  73915.473765  68640.664189   \n\n   avg_lat_ms  avg_d_mbps  avg_u_mbps  \n0   80.137004    4.403486    4.433100  \n1   27.843324   15.327167    7.317425  \n2   73.243265    4.280955    2.715105  \n3  126.351133   18.732225    7.906816  \n4   10.838872   73.915474   68.640664  ",
      "text/html": "<div>\n<style scoped>\n    .dataframe tbody tr th:only-of-type {\n        vertical-align: middle;\n    }\n\n    .dataframe tbody tr th {\n        vertical-align: top;\n    }\n\n    .dataframe thead th {\n        text-align: right;\n    }\n</style>\n<table border=\"1\" class=\"dataframe\">\n  <thead>\n    <tr style=\"text-align: right;\">\n      <th></th>\n      <th>country</th>\n      <th>quarter</th>\n      <th>category</th>\n      <th>tests</th>\n      <th>avg_d_kbps</th>\n      <th>avg_u_kbps</th>\n      <th>avg_lat_ms</th>\n      <th>avg_d_mbps</th>\n      <th>avg_u_mbps</th>\n    </tr>\n  </thead>\n  <tbody>\n    <tr>\n      <th>0</th>\n      <td>Afghanistan</td>\n      <td>2019-01-01</td>\n      <td>fixed</td>\n      <td>13839</td>\n      <td>4403.485656</td>\n      <td>4433.100441</td>\n      <td>80.137004</td>\n      <td>4.403486</td>\n      <td>4.433100</td>\n    </tr>\n    <tr>\n      <th>1</th>\n      <td>Albania</td>\n      <td>2019-01-01</td>\n      <td>fixed</td>\n      <td>73138</td>\n      <td>15327.166972</td>\n      <td>7317.424827</td>\n      <td>27.843324</td>\n      <td>15.327167</td>\n      <td>7.317425</td>\n    </tr>\n    <tr>\n      <th>2</th>\n      <td>Algeria</td>\n      <td>2019-01-01</td>\n      <td>fixed</td>\n      <td>42838</td>\n      <td>4280.955157</td>\n      <td>2715.104580</td>\n      <td>73.243265</td>\n      <td>4.280955</td>\n      <td>2.715105</td>\n    </tr>\n    <tr>\n      <th>3</th>\n      <td>American Samoa</td>\n      <td>2019-01-01</td>\n      <td>fixed</td>\n      <td>618</td>\n      <td>18732.224919</td>\n      <td>7906.815534</td>\n      <td>126.351133</td>\n      <td>18.732225</td>\n      <td>7.906816</td>\n    </tr>\n    <tr>\n      <th>4</th>\n      <td>Andorra</td>\n      <td>2019-01-01</td>\n      <td>fixed</td>\n      <td>4574</td>\n      <td>73915.473765</td>\n      <td>68640.664189</td>\n      <td>10.838872</td>\n      <td>73.915474</td>\n      <td>68.640664</td>\n    </tr>\n  </tbody>\n</table>\n</div>"
     },
     "execution_count": 5,
     "metadata": {},
     "output_type": "execute_result"
    }
   ],
   "source": [
    "df_world = df_world.rename(columns={'name':'country'})\n",
    "df_world.head()"
   ]
  },
  {
   "cell_type": "code",
   "execution_count": 74,
   "metadata": {},
   "outputs": [
    {
     "data": {
      "text/plain": "(6995, 8)"
     },
     "execution_count": 74,
     "metadata": {},
     "output_type": "execute_result"
    }
   ],
   "source": [
    "df_world.shape"
   ]
  },
  {
   "cell_type": "code",
   "execution_count": 75,
   "metadata": {},
   "outputs": [
    {
     "name": "stdout",
     "output_type": "stream",
     "text": [
      "<class 'pandas.core.frame.DataFrame'>\n",
      "RangeIndex: 6995 entries, 0 to 6994\n",
      "Data columns (total 8 columns):\n",
      " #   Column      Non-Null Count  Dtype  \n",
      "---  ------      --------------  -----  \n",
      " 0   country     6995 non-null   object \n",
      " 1   quarter     6995 non-null   object \n",
      " 2   category    6995 non-null   object \n",
      " 3   devices     6995 non-null   object \n",
      " 4   avg_lat_ms  6995 non-null   int64  \n",
      " 5   avg_d_mbps  6995 non-null   int64  \n",
      " 6   avg_u_mbps  6995 non-null   int64  \n",
      " 7   Unnamed: 7  30 non-null     float64\n",
      "dtypes: float64(1), int64(3), object(4)\n",
      "memory usage: 437.3+ KB\n"
     ]
    }
   ],
   "source": [
    "df_world.info()"
   ]
  },
  {
   "cell_type": "code",
   "execution_count": 76,
   "metadata": {},
   "outputs": [
    {
     "data": {
      "text/plain": "         avg_lat_ms   avg_d_mbps   avg_u_mbps  Unnamed: 7\ncount   6995.000000  6995.000000  6995.000000   30.000000\nmean      96.428020    41.980272    19.912080   35.500000\nstd      707.819875    41.312311    26.005171   28.573861\nmin        3.000000     0.000000     0.000000   11.000000\n25%       21.000000    15.000000     8.000000   12.250000\n50%       32.000000    27.000000    12.000000   23.000000\n75%       48.000000    52.000000    19.000000   49.750000\nmax    19465.000000   376.000000   211.000000   98.000000",
      "text/html": "<div>\n<style scoped>\n    .dataframe tbody tr th:only-of-type {\n        vertical-align: middle;\n    }\n\n    .dataframe tbody tr th {\n        vertical-align: top;\n    }\n\n    .dataframe thead th {\n        text-align: right;\n    }\n</style>\n<table border=\"1\" class=\"dataframe\">\n  <thead>\n    <tr style=\"text-align: right;\">\n      <th></th>\n      <th>avg_lat_ms</th>\n      <th>avg_d_mbps</th>\n      <th>avg_u_mbps</th>\n      <th>Unnamed: 7</th>\n    </tr>\n  </thead>\n  <tbody>\n    <tr>\n      <th>count</th>\n      <td>6995.000000</td>\n      <td>6995.000000</td>\n      <td>6995.000000</td>\n      <td>30.000000</td>\n    </tr>\n    <tr>\n      <th>mean</th>\n      <td>96.428020</td>\n      <td>41.980272</td>\n      <td>19.912080</td>\n      <td>35.500000</td>\n    </tr>\n    <tr>\n      <th>std</th>\n      <td>707.819875</td>\n      <td>41.312311</td>\n      <td>26.005171</td>\n      <td>28.573861</td>\n    </tr>\n    <tr>\n      <th>min</th>\n      <td>3.000000</td>\n      <td>0.000000</td>\n      <td>0.000000</td>\n      <td>11.000000</td>\n    </tr>\n    <tr>\n      <th>25%</th>\n      <td>21.000000</td>\n      <td>15.000000</td>\n      <td>8.000000</td>\n      <td>12.250000</td>\n    </tr>\n    <tr>\n      <th>50%</th>\n      <td>32.000000</td>\n      <td>27.000000</td>\n      <td>12.000000</td>\n      <td>23.000000</td>\n    </tr>\n    <tr>\n      <th>75%</th>\n      <td>48.000000</td>\n      <td>52.000000</td>\n      <td>19.000000</td>\n      <td>49.750000</td>\n    </tr>\n    <tr>\n      <th>max</th>\n      <td>19465.000000</td>\n      <td>376.000000</td>\n      <td>211.000000</td>\n      <td>98.000000</td>\n    </tr>\n  </tbody>\n</table>\n</div>"
     },
     "execution_count": 76,
     "metadata": {},
     "output_type": "execute_result"
    }
   ],
   "source": [
    "df_world.describe()"
   ]
  },
  {
   "cell_type": "code",
   "execution_count": null,
   "outputs": [],
   "source": [
    "# kick territories that are no real countries and falsify the result\n",
    "# they are manually retrieved from the output of the aggregated version of the world file down below\n",
    "territory_list = ['South Georgia & the South Sandwich Island', 'Reunion', 'Jersey', 'Macao', 'Azores Islands', 'Madeira Islands', 'Bermuda', 'Holy See', 'Kuril Islands', 'Guadeloupe', 'French Guiana', 'Aruba', 'Puerto Rico', 'Svalbard and Jan Mayen Islands', 'Martinique', 'West Bank', 'Aksai Chin', 'Faroe Islands', 'Isle of Man', 'British Virgin Islands', 'Cayman Islands', 'Netherlands Antilles', 'New Caledonia', 'Jammu-Kashmir', 'Northern Mariana Islands', 'Arunchal Pradesh', 'United States Virgin Islands', 'Guernsey', 'American Samoa', 'Montserrat', 'Heard Island and McDonald Islands', 'Anguilla', 'Guantanamo', 'Greenland', 'Midway Is.', 'Norfolk Island', 'French Polynesia', 'Gaza Strip', 'Mayotte', 'French Southern and Antarctic Territories', 'Christmas Island', 'Cocos (Keeling) Islands', \"Hala'ib Triangle\", 'Niue', 'British Indian Ocean Territory', 'Falkland Islands (Malvinas)', 'Abyei', ]\n",
    "df_world = df_world[df_world['country'].isin(territory_list) == False]\n"
   ],
   "metadata": {
    "collapsed": false
   }
  },
  {
   "cell_type": "code",
   "execution_count": 20,
   "outputs": [],
   "source": [
    "# aggregate by country\n",
    "df_world['product1'] = df_world['tests'] * df_world['avg_lat_ms']\n",
    "df_world['product2'] = df_world['tests'] * df_world['avg_d_mbps']\n",
    "df_world['product3'] = df_world['tests'] * df_world['avg_u_mbps']\n",
    "\n",
    "df_world_agg = df_world.groupby('country').agg({'product1': sum,\n",
    "\t\t\t\t\t\t\t\t\t\t\t\t'product2': sum,\n",
    "\t\t\t\t\t\t\t\t\t\t\t\t'product3': sum,\n",
    "\t\t\t\t\t\t\t\t\t\t\t\t'tests': sum})\n",
    "df_world_agg['avg_lat_ms'] = df_world_agg['product1'] / df_world_agg['tests']\n",
    "df_world_agg['avg_d_mbps'] = df_world_agg['product2'] / df_world_agg['tests']\n",
    "df_world_agg['avg_u_mbps'] = df_world_agg['product3'] / df_world_agg['tests']\n",
    "\n",
    "df_world_agg = df_world_agg.drop(columns=['product1', 'product2', 'product3'])"
   ],
   "metadata": {
    "collapsed": false
   }
  },
  {
   "cell_type": "code",
   "execution_count": 21,
   "outputs": [
    {
     "name": "stderr",
     "output_type": "stream",
     "text": [
      "C:\\Program Files\\JetBrains\\PyCharm 2022.3\\plugins\\python\\helpers\\pydev\\_pydevd_bundle\\pydevd_utils.py:609: FutureWarning: iteritems is deprecated and will be removed in a future version. Use .items instead.\n",
      "  for item in s.iteritems():\n"
     ]
    },
    {
     "ename": "KeyboardInterrupt",
     "evalue": "",
     "output_type": "error",
     "traceback": [
      "\u001B[1;31m---------------------------------------------------------------------------\u001B[0m",
      "\u001B[1;31mKeyboardInterrupt\u001B[0m                         Traceback (most recent call last)",
      "Cell \u001B[1;32mIn[21], line 2\u001B[0m\n\u001B[0;32m      1\u001B[0m df_world_agg_sorted \u001B[38;5;241m=\u001B[39m df_world_agg\u001B[38;5;241m.\u001B[39msort_values(\u001B[38;5;124m'\u001B[39m\u001B[38;5;124mavg_d_mbps\u001B[39m\u001B[38;5;124m'\u001B[39m, ascending\u001B[38;5;241m=\u001B[39m\u001B[38;5;28;01mFalse\u001B[39;00m)\n\u001B[1;32m----> 2\u001B[0m \u001B[38;5;28;43mprint\u001B[39;49m()\n\u001B[0;32m      3\u001B[0m \u001B[38;5;66;03m# dataset contains many territories which aren't independent counties. Should be removed for a proper ranking position of Germany and because their results are not significant. Furthermore, we will also remove very small countries as it makes no sense to compare them with Germany.\u001B[39;00m\n\u001B[0;32m      4\u001B[0m df_world_agg_sorted\u001B[38;5;241m.\u001B[39mto_excel(\u001B[38;5;124m'\u001B[39m\u001B[38;5;124m../../Documents/Master/Semester1/Visual_Analytics/Data_Input_final/world_ranking.xlsx\u001B[39m\u001B[38;5;124m'\u001B[39m, sheet_name\u001B[38;5;241m=\u001B[39m\u001B[38;5;124m\"\u001B[39m\u001B[38;5;124mworld_ranking\u001B[39m\u001B[38;5;124m\"\u001B[39m)\n",
      "Cell \u001B[1;32mIn[21], line 2\u001B[0m\n\u001B[0;32m      1\u001B[0m df_world_agg_sorted \u001B[38;5;241m=\u001B[39m df_world_agg\u001B[38;5;241m.\u001B[39msort_values(\u001B[38;5;124m'\u001B[39m\u001B[38;5;124mavg_d_mbps\u001B[39m\u001B[38;5;124m'\u001B[39m, ascending\u001B[38;5;241m=\u001B[39m\u001B[38;5;28;01mFalse\u001B[39;00m)\n\u001B[1;32m----> 2\u001B[0m \u001B[38;5;28;43mprint\u001B[39;49m()\n\u001B[0;32m      3\u001B[0m \u001B[38;5;66;03m# dataset contains many territories which aren't independent counties. Should be removed for a proper ranking position of Germany and because their results are not significant. Furthermore, we will also remove very small countries as it makes no sense to compare them with Germany.\u001B[39;00m\n\u001B[0;32m      4\u001B[0m df_world_agg_sorted\u001B[38;5;241m.\u001B[39mto_excel(\u001B[38;5;124m'\u001B[39m\u001B[38;5;124m../../Documents/Master/Semester1/Visual_Analytics/Data_Input_final/world_ranking.xlsx\u001B[39m\u001B[38;5;124m'\u001B[39m, sheet_name\u001B[38;5;241m=\u001B[39m\u001B[38;5;124m\"\u001B[39m\u001B[38;5;124mworld_ranking\u001B[39m\u001B[38;5;124m\"\u001B[39m)\n",
      "File \u001B[1;32m_pydevd_bundle\\pydevd_cython_win32_38_64.pyx:1179\u001B[0m, in \u001B[0;36m_pydevd_bundle.pydevd_cython_win32_38_64.SafeCallWrapper.__call__\u001B[1;34m()\u001B[0m\n",
      "File \u001B[1;32m_pydevd_bundle\\pydevd_cython_win32_38_64.pyx:620\u001B[0m, in \u001B[0;36m_pydevd_bundle.pydevd_cython_win32_38_64.PyDBFrame.trace_dispatch\u001B[1;34m()\u001B[0m\n",
      "File \u001B[1;32m_pydevd_bundle\\pydevd_cython_win32_38_64.pyx:929\u001B[0m, in \u001B[0;36m_pydevd_bundle.pydevd_cython_win32_38_64.PyDBFrame.trace_dispatch\u001B[1;34m()\u001B[0m\n",
      "File \u001B[1;32m_pydevd_bundle\\pydevd_cython_win32_38_64.pyx:920\u001B[0m, in \u001B[0;36m_pydevd_bundle.pydevd_cython_win32_38_64.PyDBFrame.trace_dispatch\u001B[1;34m()\u001B[0m\n",
      "File \u001B[1;32m_pydevd_bundle\\pydevd_cython_win32_38_64.pyx:317\u001B[0m, in \u001B[0;36m_pydevd_bundle.pydevd_cython_win32_38_64.PyDBFrame.do_wait_suspend\u001B[1;34m()\u001B[0m\n",
      "File \u001B[1;32mC:\\Program Files\\JetBrains\\PyCharm 2022.3\\plugins\\python\\helpers\\pydev\\pydevd.py:1160\u001B[0m, in \u001B[0;36mPyDB.do_wait_suspend\u001B[1;34m(self, thread, frame, event, arg, send_suspend_message, is_unhandled_exception)\u001B[0m\n\u001B[0;32m   1157\u001B[0m         from_this_thread\u001B[38;5;241m.\u001B[39mappend(frame_id)\n\u001B[0;32m   1159\u001B[0m \u001B[38;5;28;01mwith\u001B[39;00m \u001B[38;5;28mself\u001B[39m\u001B[38;5;241m.\u001B[39m_threads_suspended_single_notification\u001B[38;5;241m.\u001B[39mnotify_thread_suspended(thread_id, stop_reason):\n\u001B[1;32m-> 1160\u001B[0m     \u001B[38;5;28;43mself\u001B[39;49m\u001B[38;5;241;43m.\u001B[39;49m\u001B[43m_do_wait_suspend\u001B[49m\u001B[43m(\u001B[49m\u001B[43mthread\u001B[49m\u001B[43m,\u001B[49m\u001B[43m \u001B[49m\u001B[43mframe\u001B[49m\u001B[43m,\u001B[49m\u001B[43m \u001B[49m\u001B[43mevent\u001B[49m\u001B[43m,\u001B[49m\u001B[43m \u001B[49m\u001B[43marg\u001B[49m\u001B[43m,\u001B[49m\u001B[43m \u001B[49m\u001B[43msuspend_type\u001B[49m\u001B[43m,\u001B[49m\u001B[43m \u001B[49m\u001B[43mfrom_this_thread\u001B[49m\u001B[43m)\u001B[49m\n",
      "File \u001B[1;32mC:\\Program Files\\JetBrains\\PyCharm 2022.3\\plugins\\python\\helpers\\pydev\\pydevd.py:1175\u001B[0m, in \u001B[0;36mPyDB._do_wait_suspend\u001B[1;34m(self, thread, frame, event, arg, suspend_type, from_this_thread)\u001B[0m\n\u001B[0;32m   1172\u001B[0m             \u001B[38;5;28mself\u001B[39m\u001B[38;5;241m.\u001B[39m_call_mpl_hook()\n\u001B[0;32m   1174\u001B[0m         \u001B[38;5;28mself\u001B[39m\u001B[38;5;241m.\u001B[39mprocess_internal_commands()\n\u001B[1;32m-> 1175\u001B[0m         \u001B[43mtime\u001B[49m\u001B[38;5;241;43m.\u001B[39;49m\u001B[43msleep\u001B[49m\u001B[43m(\u001B[49m\u001B[38;5;241;43m0.01\u001B[39;49m\u001B[43m)\u001B[49m\n\u001B[0;32m   1177\u001B[0m \u001B[38;5;28mself\u001B[39m\u001B[38;5;241m.\u001B[39mcancel_async_evaluation(get_current_thread_id(thread), \u001B[38;5;28mstr\u001B[39m(\u001B[38;5;28mid\u001B[39m(frame)))\n\u001B[0;32m   1179\u001B[0m \u001B[38;5;66;03m# process any stepping instructions\u001B[39;00m\n",
      "\u001B[1;31mKeyboardInterrupt\u001B[0m: "
     ]
    }
   ],
   "source": [
    "df_world_agg_sorted = df_world_agg.sort_values('avg_d_mbps', ascending=False)\n",
    "print()\n",
    "# dataset contains many territories which aren't independent counties. Should be removed for a proper ranking position of Germany and because their results are not significant. Furthermore, we will also remove very small countries as it makes no sense to compare them with Germany.\n",
    "df_world_agg_sorted.to_excel('../../Documents/Master/Semester1/Visual_Analytics/Data_Input_final/world_ranking.xlsx', sheet_name=\"world_ranking\")"
   ],
   "metadata": {
    "collapsed": false
   }
  },
  {
   "cell_type": "code",
   "execution_count": 11,
   "outputs": [],
   "source": [
    "df_world_little_tests = df_world_agg[df_world_agg['tests'] < 100000]\n",
    "df_world_little_rest = df_world_agg[df_world_agg['tests'] >= 100000]"
   ],
   "metadata": {
    "collapsed": false
   }
  },
  {
   "cell_type": "code",
   "execution_count": 66,
   "outputs": [
    {
     "ename": "KeyboardInterrupt",
     "evalue": "",
     "output_type": "error",
     "traceback": [
      "\u001B[1;31m---------------------------------------------------------------------------\u001B[0m",
      "\u001B[1;31mKeyboardInterrupt\u001B[0m                         Traceback (most recent call last)",
      "Cell \u001B[1;32mIn[66], line 2\u001B[0m\n\u001B[0;32m      1\u001B[0m df_world_little_tests\n\u001B[1;32m----> 2\u001B[0m \u001B[38;5;28;43mprint\u001B[39;49m()\n",
      "Cell \u001B[1;32mIn[66], line 2\u001B[0m\n\u001B[0;32m      1\u001B[0m df_world_little_tests\n\u001B[1;32m----> 2\u001B[0m \u001B[38;5;28;43mprint\u001B[39;49m()\n",
      "File \u001B[1;32m_pydevd_bundle\\pydevd_cython_win32_38_64.pyx:1179\u001B[0m, in \u001B[0;36m_pydevd_bundle.pydevd_cython_win32_38_64.SafeCallWrapper.__call__\u001B[1;34m()\u001B[0m\n",
      "File \u001B[1;32m_pydevd_bundle\\pydevd_cython_win32_38_64.pyx:620\u001B[0m, in \u001B[0;36m_pydevd_bundle.pydevd_cython_win32_38_64.PyDBFrame.trace_dispatch\u001B[1;34m()\u001B[0m\n",
      "File \u001B[1;32m_pydevd_bundle\\pydevd_cython_win32_38_64.pyx:929\u001B[0m, in \u001B[0;36m_pydevd_bundle.pydevd_cython_win32_38_64.PyDBFrame.trace_dispatch\u001B[1;34m()\u001B[0m\n",
      "File \u001B[1;32m_pydevd_bundle\\pydevd_cython_win32_38_64.pyx:920\u001B[0m, in \u001B[0;36m_pydevd_bundle.pydevd_cython_win32_38_64.PyDBFrame.trace_dispatch\u001B[1;34m()\u001B[0m\n",
      "File \u001B[1;32m_pydevd_bundle\\pydevd_cython_win32_38_64.pyx:317\u001B[0m, in \u001B[0;36m_pydevd_bundle.pydevd_cython_win32_38_64.PyDBFrame.do_wait_suspend\u001B[1;34m()\u001B[0m\n",
      "File \u001B[1;32mC:\\Program Files\\JetBrains\\PyCharm 2022.3\\plugins\\python\\helpers\\pydev\\pydevd.py:1160\u001B[0m, in \u001B[0;36mPyDB.do_wait_suspend\u001B[1;34m(self, thread, frame, event, arg, send_suspend_message, is_unhandled_exception)\u001B[0m\n\u001B[0;32m   1157\u001B[0m         from_this_thread\u001B[38;5;241m.\u001B[39mappend(frame_id)\n\u001B[0;32m   1159\u001B[0m \u001B[38;5;28;01mwith\u001B[39;00m \u001B[38;5;28mself\u001B[39m\u001B[38;5;241m.\u001B[39m_threads_suspended_single_notification\u001B[38;5;241m.\u001B[39mnotify_thread_suspended(thread_id, stop_reason):\n\u001B[1;32m-> 1160\u001B[0m     \u001B[38;5;28;43mself\u001B[39;49m\u001B[38;5;241;43m.\u001B[39;49m\u001B[43m_do_wait_suspend\u001B[49m\u001B[43m(\u001B[49m\u001B[43mthread\u001B[49m\u001B[43m,\u001B[49m\u001B[43m \u001B[49m\u001B[43mframe\u001B[49m\u001B[43m,\u001B[49m\u001B[43m \u001B[49m\u001B[43mevent\u001B[49m\u001B[43m,\u001B[49m\u001B[43m \u001B[49m\u001B[43marg\u001B[49m\u001B[43m,\u001B[49m\u001B[43m \u001B[49m\u001B[43msuspend_type\u001B[49m\u001B[43m,\u001B[49m\u001B[43m \u001B[49m\u001B[43mfrom_this_thread\u001B[49m\u001B[43m)\u001B[49m\n",
      "File \u001B[1;32mC:\\Program Files\\JetBrains\\PyCharm 2022.3\\plugins\\python\\helpers\\pydev\\pydevd.py:1175\u001B[0m, in \u001B[0;36mPyDB._do_wait_suspend\u001B[1;34m(self, thread, frame, event, arg, suspend_type, from_this_thread)\u001B[0m\n\u001B[0;32m   1172\u001B[0m             \u001B[38;5;28mself\u001B[39m\u001B[38;5;241m.\u001B[39m_call_mpl_hook()\n\u001B[0;32m   1174\u001B[0m         \u001B[38;5;28mself\u001B[39m\u001B[38;5;241m.\u001B[39mprocess_internal_commands()\n\u001B[1;32m-> 1175\u001B[0m         \u001B[43mtime\u001B[49m\u001B[38;5;241;43m.\u001B[39;49m\u001B[43msleep\u001B[49m\u001B[43m(\u001B[49m\u001B[38;5;241;43m0.01\u001B[39;49m\u001B[43m)\u001B[49m\n\u001B[0;32m   1177\u001B[0m \u001B[38;5;28mself\u001B[39m\u001B[38;5;241m.\u001B[39mcancel_async_evaluation(get_current_thread_id(thread), \u001B[38;5;28mstr\u001B[39m(\u001B[38;5;28mid\u001B[39m(frame)))\n\u001B[0;32m   1179\u001B[0m \u001B[38;5;66;03m# process any stepping instructions\u001B[39;00m\n",
      "\u001B[1;31mKeyboardInterrupt\u001B[0m: "
     ]
    }
   ],
   "source": [
    "df_world_little_tests\n",
    "print()\n"
   ],
   "metadata": {
    "collapsed": false
   }
  },
  {
   "attachments": {},
   "cell_type": "markdown",
   "metadata": {},
   "source": [
    "#### Visual"
   ]
  },
  {
   "cell_type": "code",
   "execution_count": 41,
   "metadata": {},
   "outputs": [
    {
     "data": {
      "text/plain": [
       "<seaborn.axisgrid.FacetGrid at 0x1730e7d00>"
      ]
     },
     "execution_count": 41,
     "metadata": {},
     "output_type": "execute_result"
    },
    {
     "data": {
      "image/png": "[encoded data removed]",
      "text/plain": [
       "<Figure size 500x500 with 1 Axes>"
      ]
     },
     "metadata": {},
     "output_type": "display_data"
    }
   ],
   "source": [
    "# Plot count tests per country\n",
    "plt = sns.catplot(data=df_world,\n",
    "\t\t\tx=\"category\",\n",
    "\t\t\tkind=\"count\"\n",
    "\t\t    )\n",
    "\n",
    "plt"
   ]
  },
  {
   "cell_type": "code",
   "execution_count": 63,
   "metadata": {},
   "outputs": [
    {
     "name": "stderr",
     "output_type": "stream",
     "text": [
      "/var/folders/fx/lflfvn0n10963h3v1rgc6nvc0000gn/T/ipykernel_22815/298329116.py:2: UserWarning: Boolean Series key will be reindexed to match DataFrame index.\n",
      "  df_top_10_d = df_world.sort_values(by=['avg_d_mbps'], ascending=False)[(df_world['quarter'] == '2022-07-01') & (df_world['tests'] > 10000)].iloc[:10]\n"
     ]
    }
   ],
   "source": [
    "# countries with highest avg download speeds in some quarter\n",
    "df_top_10_d = df_world.sort_values(by=['avg_d_mbps'], ascending=False)[(df_world['quarter'] == '2022-07-01') & (df_world['tests'] > 10000)].iloc[:10]"
   ]
  },
  {
   "cell_type": "code",
   "execution_count": 64,
   "metadata": {},
   "outputs": [
    {
     "data": {
      "text/html": [
       "<div>\n",
       "<style scoped>\n",
       "    .dataframe tbody tr th:only-of-type {\n",
       "        vertical-align: middle;\n",
       "    }\n",
       "\n",
       "    .dataframe tbody tr th {\n",
       "        vertical-align: top;\n",
       "    }\n",
       "\n",
       "    .dataframe thead th {\n",
       "        text-align: right;\n",
       "    }\n",
       "</style>\n",
       "<table border=\"1\" class=\"dataframe\">\n",
       "  <thead>\n",
       "    <tr style=\"text-align: right;\">\n",
       "      <th></th>\n",
       "      <th>name</th>\n",
       "      <th>quarter</th>\n",
       "      <th>category</th>\n",
       "      <th>tests</th>\n",
       "      <th>avg_d_kbps</th>\n",
       "      <th>avg_u_kbps</th>\n",
       "      <th>avg_lat_ms</th>\n",
       "      <th>avg_d_mbps</th>\n",
       "      <th>avg_u_mbps</th>\n",
       "    </tr>\n",
       "  </thead>\n",
       "  <tbody>\n",
       "    <tr>\n",
       "      <th>6981</th>\n",
       "      <td>United Arab Emirates</td>\n",
       "      <td>2022-07-01</td>\n",
       "      <td>mobile</td>\n",
       "      <td>49308</td>\n",
       "      <td>269616.760647</td>\n",
       "      <td>32840.505212</td>\n",
       "      <td>33.363410</td>\n",
       "      <td>269.616761</td>\n",
       "      <td>32.840505</td>\n",
       "    </tr>\n",
       "    <tr>\n",
       "      <th>6934</th>\n",
       "      <td>Republic of Korea</td>\n",
       "      <td>2022-07-01</td>\n",
       "      <td>mobile</td>\n",
       "      <td>34154</td>\n",
       "      <td>255878.619254</td>\n",
       "      <td>28717.873690</td>\n",
       "      <td>33.884464</td>\n",
       "      <td>255.878619</td>\n",
       "      <td>28.717874</td>\n",
       "    </tr>\n",
       "    <tr>\n",
       "      <th>3512</th>\n",
       "      <td>Singapore</td>\n",
       "      <td>2022-07-01</td>\n",
       "      <td>fixed</td>\n",
       "      <td>321013</td>\n",
       "      <td>252141.945843</td>\n",
       "      <td>216927.245146</td>\n",
       "      <td>5.272547</td>\n",
       "      <td>252.141946</td>\n",
       "      <td>216.927245</td>\n",
       "    </tr>\n",
       "    <tr>\n",
       "      <th>3362</th>\n",
       "      <td>Chile</td>\n",
       "      <td>2022-07-01</td>\n",
       "      <td>fixed</td>\n",
       "      <td>775648</td>\n",
       "      <td>251953.880625</td>\n",
       "      <td>181491.020423</td>\n",
       "      <td>11.059914</td>\n",
       "      <td>251.953881</td>\n",
       "      <td>181.491020</td>\n",
       "    </tr>\n",
       "    <tr>\n",
       "      <th>3363</th>\n",
       "      <td>China</td>\n",
       "      <td>2022-07-01</td>\n",
       "      <td>fixed</td>\n",
       "      <td>4921189</td>\n",
       "      <td>246629.652853</td>\n",
       "      <td>57742.414764</td>\n",
       "      <td>14.051753</td>\n",
       "      <td>246.629653</td>\n",
       "      <td>57.742415</td>\n",
       "    </tr>\n",
       "    <tr>\n",
       "      <th>3417</th>\n",
       "      <td>Hong Kong</td>\n",
       "      <td>2022-07-01</td>\n",
       "      <td>fixed</td>\n",
       "      <td>404698</td>\n",
       "      <td>243760.429930</td>\n",
       "      <td>198115.838134</td>\n",
       "      <td>6.456506</td>\n",
       "      <td>243.760430</td>\n",
       "      <td>198.115838</td>\n",
       "    </tr>\n",
       "    <tr>\n",
       "      <th>6802</th>\n",
       "      <td>China</td>\n",
       "      <td>2022-07-01</td>\n",
       "      <td>mobile</td>\n",
       "      <td>1065819</td>\n",
       "      <td>222869.462384</td>\n",
       "      <td>45232.089150</td>\n",
       "      <td>28.148597</td>\n",
       "      <td>222.869462</td>\n",
       "      <td>45.232089</td>\n",
       "    </tr>\n",
       "    <tr>\n",
       "      <th>3530</th>\n",
       "      <td>Thailand</td>\n",
       "      <td>2022-07-01</td>\n",
       "      <td>fixed</td>\n",
       "      <td>2164643</td>\n",
       "      <td>221901.331102</td>\n",
       "      <td>184363.803760</td>\n",
       "      <td>7.505593</td>\n",
       "      <td>221.901331</td>\n",
       "      <td>184.363804</td>\n",
       "    </tr>\n",
       "    <tr>\n",
       "      <th>3546</th>\n",
       "      <td>United States of America</td>\n",
       "      <td>2022-07-01</td>\n",
       "      <td>fixed</td>\n",
       "      <td>19823785</td>\n",
       "      <td>212575.181543</td>\n",
       "      <td>69265.328692</td>\n",
       "      <td>23.627531</td>\n",
       "      <td>212.575182</td>\n",
       "      <td>69.265329</td>\n",
       "    </tr>\n",
       "    <tr>\n",
       "      <th>6791</th>\n",
       "      <td>Bulgaria</td>\n",
       "      <td>2022-07-01</td>\n",
       "      <td>mobile</td>\n",
       "      <td>66492</td>\n",
       "      <td>211987.343410</td>\n",
       "      <td>26502.153838</td>\n",
       "      <td>29.295073</td>\n",
       "      <td>211.987343</td>\n",
       "      <td>26.502154</td>\n",
       "    </tr>\n",
       "  </tbody>\n",
       "</table>\n",
       "</div>"
      ],
      "text/plain": [
       "                          name     quarter category     tests     avg_d_kbps  \\\n",
       "6981      United Arab Emirates  2022-07-01   mobile     49308  269616.760647   \n",
       "6934         Republic of Korea  2022-07-01   mobile     34154  255878.619254   \n",
       "3512                 Singapore  2022-07-01    fixed    321013  252141.945843   \n",
       "3362                     Chile  2022-07-01    fixed    775648  251953.880625   \n",
       "3363                     China  2022-07-01    fixed   4921189  246629.652853   \n",
       "3417                 Hong Kong  2022-07-01    fixed    404698  243760.429930   \n",
       "6802                     China  2022-07-01   mobile   1065819  222869.462384   \n",
       "3530                  Thailand  2022-07-01    fixed   2164643  221901.331102   \n",
       "3546  United States of America  2022-07-01    fixed  19823785  212575.181543   \n",
       "6791                  Bulgaria  2022-07-01   mobile     66492  211987.343410   \n",
       "\n",
       "         avg_u_kbps  avg_lat_ms  avg_d_mbps  avg_u_mbps  \n",
       "6981   32840.505212   33.363410  269.616761   32.840505  \n",
       "6934   28717.873690   33.884464  255.878619   28.717874  \n",
       "3512  216927.245146    5.272547  252.141946  216.927245  \n",
       "3362  181491.020423   11.059914  251.953881  181.491020  \n",
       "3363   57742.414764   14.051753  246.629653   57.742415  \n",
       "3417  198115.838134    6.456506  243.760430  198.115838  \n",
       "6802   45232.089150   28.148597  222.869462   45.232089  \n",
       "3530  184363.803760    7.505593  221.901331  184.363804  \n",
       "3546   69265.328692   23.627531  212.575182   69.265329  \n",
       "6791   26502.153838   29.295073  211.987343   26.502154  "
      ]
     },
     "execution_count": 64,
     "metadata": {},
     "output_type": "execute_result"
    }
   ],
   "source": [
    "df_top_10_d"
   ]
  }
 ],
 "metadata": {
  "kernelspec": {
   "display_name": "va-test-project",
   "language": "python",
   "name": "python3"
  },
  "language_info": {
   "codemirror_mode": {
    "name": "ipython",
    "version": 3
   },
   "file_extension": ".py",
   "mimetype": "text/x-python",
   "name": "python",
   "nbconvert_exporter": "python",
   "pygments_lexer": "ipython3",
   "version": "3.10.8"
  },
  "orig_nbformat": 4,
  "vscode": {
   "interpreter": {
    "hash": "1d56db114e6d61ed74044f8f34a7b34e4469a1bd6857ee218f9f79ce82d94d65"
   }
  }
 },
 "nbformat": 4,
 "nbformat_minor": 2
}
