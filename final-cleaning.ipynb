{
 "cells": [
  {
   "cell_type": "code",
   "execution_count": null,
   "metadata": {
    "pycharm": {
     "is_executing": true
    }
   },
   "outputs": [],
   "source": [
    "# Imports\n",
    "import pandas as pd\n",
    "import numpy as np"
   ]
  },
  {
   "attachments": {},
   "cell_type": "markdown",
   "metadata": {},
   "source": [
    "### Aggregate World Data by Country"
   ]
  },
  {
   "cell_type": "code",
   "execution_count": 1,
   "metadata": {},
   "outputs": [
    {
     "ename": "SyntaxError",
     "evalue": "invalid syntax (3018605568.py, line 17)",
     "output_type": "error",
     "traceback": [
      "\u001B[1;36m  Cell \u001B[1;32mIn[1], line 17\u001B[1;36m\u001B[0m\n\u001B[1;33m    df['avg_d_kbps'] = df['product1'] / df[]\u001B[0m\n\u001B[1;37m                                           ^\u001B[0m\n\u001B[1;31mSyntaxError\u001B[0m\u001B[1;31m:\u001B[0m invalid syntax\n"
     ]
    }
   ],
   "source": [
    "# Read and aggregate data\n",
    "req_cols = ['avg_d_kbps', 'avg_u_kbps', 'avg_lat_ms', 'tests', 'devices', 'quarter', 'category', 'iso3', 'name']\n",
    "\n",
    "for i in range(0,30):\n",
    "    df = pd.read_csv(f'./data/performance/preprocessed_files/whole_world/whole_world_{i}.csv', sep=';', usecols=req_cols)\n",
    "\n",
    "    # aggregate as weighted average\n",
    "\n",
    "    # create helper columns for weighted averages\n",
    "    df['product1'] = df['avg_d_kbps'] * ['tests']\n",
    "    df['product2'] = df['avg_u_kbps'] * ['tests']\n",
    "    df['product3'] = df['avg_lat_ms'] * ['tests']\n",
    "\n",
    "    # Aggregate\n",
    "    df_agg = df.groupby('name').agg({'product1': np.average,\n",
    "                                     'product2': np.average,\n",
    "                                     'product3': np.average,\n",
    "                                     'tests': sum})\n",
    "\n",
    "    # retrieve actual values from product columns\n",
    "    df_agg['avg_d_kbps'] = df_agg['product1'] / df_agg['tests']\n",
    "    df_agg['avg_u_kbps'] = df_agg['product2'] / df_agg['tests']\n",
    "    df_agg['avg_lat_ms'] = df_agg['product3'] / df_agg['tests']\n",
    "\n",
    "    # drop helper columns\n",
    "    df = df.drop(columns=['product1', 'product2', 'product3'])\n",
    "\n",
    "    # Concat together\n",
    "    df_world = pd.concat([df_world, df])"
   ]
  },
  {
   "cell_type": "code",
   "execution_count": 22,
   "metadata": {},
   "outputs": [
    {
     "data": {
      "text/html": [
       "<div>\n",
       "<style scoped>\n",
       "    .dataframe tbody tr th:only-of-type {\n",
       "        vertical-align: middle;\n",
       "    }\n",
       "\n",
       "    .dataframe tbody tr th {\n",
       "        vertical-align: top;\n",
       "    }\n",
       "\n",
       "    .dataframe thead th {\n",
       "        text-align: right;\n",
       "    }\n",
       "</style>\n",
       "<table border=\"1\" class=\"dataframe\">\n",
       "  <thead>\n",
       "    <tr style=\"text-align: right;\">\n",
       "      <th></th>\n",
       "      <th>avg_d_kbps</th>\n",
       "      <th>avg_u_kbps</th>\n",
       "      <th>avg_lat_ms</th>\n",
       "      <th>tests</th>\n",
       "      <th>devices</th>\n",
       "      <th>quarter</th>\n",
       "      <th>category</th>\n",
       "      <th>iso3</th>\n",
       "      <th>name</th>\n",
       "    </tr>\n",
       "  </thead>\n",
       "  <tbody>\n",
       "    <tr>\n",
       "      <th>0</th>\n",
       "      <td>8763</td>\n",
       "      <td>3646</td>\n",
       "      <td>45</td>\n",
       "      <td>1</td>\n",
       "      <td>1</td>\n",
       "      <td>2019-01-01</td>\n",
       "      <td>fixed</td>\n",
       "      <td>USA</td>\n",
       "      <td>United States of America</td>\n",
       "    </tr>\n",
       "    <tr>\n",
       "      <th>1</th>\n",
       "      <td>9195</td>\n",
       "      <td>3347</td>\n",
       "      <td>43</td>\n",
       "      <td>1</td>\n",
       "      <td>1</td>\n",
       "      <td>2019-01-01</td>\n",
       "      <td>fixed</td>\n",
       "      <td>USA</td>\n",
       "      <td>United States of America</td>\n",
       "    </tr>\n",
       "    <tr>\n",
       "      <th>2</th>\n",
       "      <td>6833</td>\n",
       "      <td>3788</td>\n",
       "      <td>42</td>\n",
       "      <td>1</td>\n",
       "      <td>1</td>\n",
       "      <td>2019-01-01</td>\n",
       "      <td>fixed</td>\n",
       "      <td>USA</td>\n",
       "      <td>United States of America</td>\n",
       "    </tr>\n",
       "    <tr>\n",
       "      <th>3</th>\n",
       "      <td>8895</td>\n",
       "      <td>3429</td>\n",
       "      <td>43</td>\n",
       "      <td>2</td>\n",
       "      <td>2</td>\n",
       "      <td>2019-01-01</td>\n",
       "      <td>fixed</td>\n",
       "      <td>USA</td>\n",
       "      <td>United States of America</td>\n",
       "    </tr>\n",
       "    <tr>\n",
       "      <th>4</th>\n",
       "      <td>4877</td>\n",
       "      <td>935</td>\n",
       "      <td>45</td>\n",
       "      <td>3</td>\n",
       "      <td>2</td>\n",
       "      <td>2019-01-01</td>\n",
       "      <td>fixed</td>\n",
       "      <td>USA</td>\n",
       "      <td>United States of America</td>\n",
       "    </tr>\n",
       "  </tbody>\n",
       "</table>\n",
       "</div>"
      ],
      "text/plain": [
       "   avg_d_kbps  avg_u_kbps  avg_lat_ms  tests  devices     quarter category  \\\n",
       "0        8763        3646          45      1        1  2019-01-01    fixed   \n",
       "1        9195        3347          43      1        1  2019-01-01    fixed   \n",
       "2        6833        3788          42      1        1  2019-01-01    fixed   \n",
       "3        8895        3429          43      2        2  2019-01-01    fixed   \n",
       "4        4877         935          45      3        2  2019-01-01    fixed   \n",
       "\n",
       "  iso3                      name  \n",
       "0  USA  United States of America  \n",
       "1  USA  United States of America  \n",
       "2  USA  United States of America  \n",
       "3  USA  United States of America  \n",
       "4  USA  United States of America  "
      ]
     },
     "execution_count": 22,
     "metadata": {},
     "output_type": "execute_result"
    }
   ],
   "source": [
    "# Quick inspection\n",
    "df_world.head()"
   ]
  },
  {
   "cell_type": "markdown",
   "metadata": {},
   "source": [
    "### Data Exploration"
   ]
  },
  {
   "cell_type": "code",
   "execution_count": null,
   "metadata": {},
   "outputs": [],
   "source": [
    "# Germany\n",
    "df_germany = pd.read_csv('./data/performance/germany_final_csv', sep=';')"
   ]
  },
  {
   "cell_type": "code",
   "execution_count": 25,
   "metadata": {},
   "outputs": [
    {
     "data": {
      "text/plain": [
       "(5347564, 16)"
      ]
     },
     "execution_count": 25,
     "metadata": {},
     "output_type": "execute_result"
    }
   ],
   "source": [
    "# Basic infos\n",
    "df_germany.shape"
   ]
  },
  {
   "cell_type": "code",
   "execution_count": 26,
   "metadata": {},
   "outputs": [
    {
     "name": "stdout",
     "output_type": "stream",
     "text": [
      "<class 'pandas.core.frame.DataFrame'>\n",
      "RangeIndex: 5347564 entries, 0 to 5347563\n",
      "Data columns (total 16 columns):\n",
      " #   Column       Dtype  \n",
      "---  ------       -----  \n",
      " 0   ,            object \n",
      " 1   avg_d_kbps   int64  \n",
      " 2   avg_u_kbps   int64  \n",
      " 3   avg_lat_ms   int64  \n",
      " 4   tests        int64  \n",
      " 5   devices      int64  \n",
      " 6   quarter      object \n",
      " 7   category     object \n",
      " 8   long         float64\n",
      " 9   lat          float64\n",
      " 10  geometry     object \n",
      " 11  iso3         object \n",
      " 12  name         object \n",
      " 13  continent    object \n",
      " 14  region       object \n",
      " 15  iso_3166_1_  object \n",
      "dtypes: float64(2), int64(5), object(9)\n",
      "memory usage: 652.8+ MB\n"
     ]
    }
   ],
   "source": [
    "df_germany.info()"
   ]
  },
  {
   "cell_type": "code",
   "execution_count": 27,
   "metadata": {},
   "outputs": [
    {
     "data": {
      "text/html": [
       "<div>\n",
       "<style scoped>\n",
       "    .dataframe tbody tr th:only-of-type {\n",
       "        vertical-align: middle;\n",
       "    }\n",
       "\n",
       "    .dataframe tbody tr th {\n",
       "        vertical-align: top;\n",
       "    }\n",
       "\n",
       "    .dataframe thead th {\n",
       "        text-align: right;\n",
       "    }\n",
       "</style>\n",
       "<table border=\"1\" class=\"dataframe\">\n",
       "  <thead>\n",
       "    <tr style=\"text-align: right;\">\n",
       "      <th></th>\n",
       "      <th>avg_d_kbps</th>\n",
       "      <th>avg_u_kbps</th>\n",
       "      <th>avg_lat_ms</th>\n",
       "      <th>tests</th>\n",
       "      <th>devices</th>\n",
       "      <th>long</th>\n",
       "      <th>lat</th>\n",
       "    </tr>\n",
       "  </thead>\n",
       "  <tbody>\n",
       "    <tr>\n",
       "      <th>count</th>\n",
       "      <td>5.347564e+06</td>\n",
       "      <td>5.347564e+06</td>\n",
       "      <td>5.347564e+06</td>\n",
       "      <td>5.347564e+06</td>\n",
       "      <td>5.347564e+06</td>\n",
       "      <td>5.347564e+06</td>\n",
       "      <td>5.347564e+06</td>\n",
       "    </tr>\n",
       "    <tr>\n",
       "      <th>mean</th>\n",
       "      <td>6.339947e+04</td>\n",
       "      <td>1.869248e+04</td>\n",
       "      <td>2.614932e+01</td>\n",
       "      <td>9.455708e+00</td>\n",
       "      <td>2.921295e+00</td>\n",
       "      <td>9.693960e+00</td>\n",
       "      <td>5.091353e+01</td>\n",
       "    </tr>\n",
       "    <tr>\n",
       "      <th>std</th>\n",
       "      <td>6.810522e+04</td>\n",
       "      <td>2.372912e+04</td>\n",
       "      <td>4.398488e+01</td>\n",
       "      <td>2.178635e+01</td>\n",
       "      <td>4.111197e+00</td>\n",
       "      <td>2.105081e+00</td>\n",
       "      <td>1.753226e+00</td>\n",
       "    </tr>\n",
       "    <tr>\n",
       "      <th>min</th>\n",
       "      <td>1.000000e+00</td>\n",
       "      <td>1.000000e+00</td>\n",
       "      <td>0.000000e+00</td>\n",
       "      <td>1.000000e+00</td>\n",
       "      <td>1.000000e+00</td>\n",
       "      <td>5.866699e+00</td>\n",
       "      <td>4.729041e+01</td>\n",
       "    </tr>\n",
       "    <tr>\n",
       "      <th>25%</th>\n",
       "      <td>1.982500e+04</td>\n",
       "      <td>5.951000e+03</td>\n",
       "      <td>1.400000e+01</td>\n",
       "      <td>1.000000e+00</td>\n",
       "      <td>1.000000e+00</td>\n",
       "      <td>8.003540e+00</td>\n",
       "      <td>4.946098e+01</td>\n",
       "    </tr>\n",
       "    <tr>\n",
       "      <th>50%</th>\n",
       "      <td>4.446900e+04</td>\n",
       "      <td>1.239000e+04</td>\n",
       "      <td>2.100000e+01</td>\n",
       "      <td>3.000000e+00</td>\n",
       "      <td>2.000000e+00</td>\n",
       "      <td>9.420776e+00</td>\n",
       "      <td>5.103794e+01</td>\n",
       "    </tr>\n",
       "    <tr>\n",
       "      <th>75%</th>\n",
       "      <td>8.309300e+04</td>\n",
       "      <td>2.429400e+04</td>\n",
       "      <td>3.000000e+01</td>\n",
       "      <td>9.000000e+00</td>\n",
       "      <td>3.000000e+00</td>\n",
       "      <td>1.129395e+01</td>\n",
       "      <td>5.224126e+01</td>\n",
       "    </tr>\n",
       "    <tr>\n",
       "      <th>max</th>\n",
       "      <td>1.616027e+06</td>\n",
       "      <td>9.116170e+05</td>\n",
       "      <td>3.187100e+04</td>\n",
       "      <td>3.987000e+03</td>\n",
       "      <td>5.170000e+02</td>\n",
       "      <td>1.502930e+01</td>\n",
       "      <td>5.505006e+01</td>\n",
       "    </tr>\n",
       "  </tbody>\n",
       "</table>\n",
       "</div>"
      ],
      "text/plain": [
       "         avg_d_kbps    avg_u_kbps    avg_lat_ms         tests       devices  \\\n",
       "count  5.347564e+06  5.347564e+06  5.347564e+06  5.347564e+06  5.347564e+06   \n",
       "mean   6.339947e+04  1.869248e+04  2.614932e+01  9.455708e+00  2.921295e+00   \n",
       "std    6.810522e+04  2.372912e+04  4.398488e+01  2.178635e+01  4.111197e+00   \n",
       "min    1.000000e+00  1.000000e+00  0.000000e+00  1.000000e+00  1.000000e+00   \n",
       "25%    1.982500e+04  5.951000e+03  1.400000e+01  1.000000e+00  1.000000e+00   \n",
       "50%    4.446900e+04  1.239000e+04  2.100000e+01  3.000000e+00  2.000000e+00   \n",
       "75%    8.309300e+04  2.429400e+04  3.000000e+01  9.000000e+00  3.000000e+00   \n",
       "max    1.616027e+06  9.116170e+05  3.187100e+04  3.987000e+03  5.170000e+02   \n",
       "\n",
       "               long           lat  \n",
       "count  5.347564e+06  5.347564e+06  \n",
       "mean   9.693960e+00  5.091353e+01  \n",
       "std    2.105081e+00  1.753226e+00  \n",
       "min    5.866699e+00  4.729041e+01  \n",
       "25%    8.003540e+00  4.946098e+01  \n",
       "50%    9.420776e+00  5.103794e+01  \n",
       "75%    1.129395e+01  5.224126e+01  \n",
       "max    1.502930e+01  5.505006e+01  "
      ]
     },
     "execution_count": 27,
     "metadata": {},
     "output_type": "execute_result"
    }
   ],
   "source": [
    "df_germany.describe()"
   ]
  }
 ],
 "metadata": {
  "kernelspec": {
   "display_name": "va-test-project",
   "language": "python",
   "name": "python3"
  },
  "language_info": {
   "codemirror_mode": {
    "name": "ipython",
    "version": 3
   },
   "file_extension": ".py",
   "mimetype": "text/x-python",
   "name": "python",
   "nbconvert_exporter": "python",
   "pygments_lexer": "ipython3",
   "version": "3.10.8"
  },
  "orig_nbformat": 4,
  "vscode": {
   "interpreter": {
    "hash": "1d56db114e6d61ed74044f8f34a7b34e4469a1bd6857ee218f9f79ce82d94d65"
   }
  }
 },
 "nbformat": 4,
 "nbformat_minor": 2
}
