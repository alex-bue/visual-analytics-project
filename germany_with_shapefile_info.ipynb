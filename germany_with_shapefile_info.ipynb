{
 "cells": [
  {
   "cell_type": "code",
   "execution_count": 1,
   "metadata": {},
   "outputs": [],
   "source": [
    "import pandas as pd\n",
    "import geopandas as gpd"
   ]
  },
  {
   "cell_type": "code",
   "execution_count": 33,
   "metadata": {},
   "outputs": [],
   "source": [
    "def conduct_reverse_geocoding(df: pd.DataFrame, gdf_shape):\n",
    "    \"\"\"\n",
    "    enriches the dataframe with the federal states, counties and municipalities the long-lat data points are located in\n",
    "    :param df: the germany dataframe with the long-lat data\n",
    "    :param gdf_shape: shapefile with the federal state, county and municipality borders for Germany\n",
    "    :return: df: original dataframe with additional country column\n",
    "    \"\"\"\n",
    "    # convert df to GeoDataFrame\n",
    "    gdf = gpd.GeoDataFrame(df, geometry=gpd.points_from_xy(df.long, df.lat))\n",
    "\n",
    "    # Merge DataFrames\n",
    "    pointInPolys = gpd.sjoin(gdf, gdf_shape, how='left')\n",
    "\n",
    "    # Drop columns we don't need\n",
    "    # pointInPolys = pointInPolys.drop(\n",
    "    #     columns=['french_shor', 'status', 'index_right', 'color_code', 'status'])\n",
    "    return pointInPolys"
   ]
  },
  {
   "cell_type": "code",
   "execution_count": 41,
   "metadata": {},
   "outputs": [],
   "source": [
    "# Read shapefiles as geodataframe\n",
    "sf_federal_states = gpd.GeoDataFrame.from_file(\"./data/shapefiles/germany/federal_states/B-2020-AI001-2-5--AI0106--2023-01-03.shp\")\n",
    "\n",
    "sf_counties = gpd.GeoDataFrame.from_file(\"./data/shapefiles/germany/counties/G-2020-AI001-2-5--AI0109--2023-01-03.shp\")\n",
    "\n",
    "sf_municipalities = gpd.GeoDataFrame.from_file(\"./data/shapefiles/germany/municipalities/G-2020-AI001-2-5--AI0106--2023-01-03.shp\")\n",
    "\n",
    "# load germany data as df\n",
    "df_germany = pd.read_csv(\"./data/final_data/germany_final.csv\", sep=\";\")\n"
   ]
  },
  {
   "cell_type": "code",
   "execution_count": 42,
   "metadata": {},
   "outputs": [],
   "source": [
    "# convert CRS of shapefiles to fit CRS of CRS in Germany file (EPSG)\n",
    "sf_federal_states = sf_federal_states.to_crs(4326)\n",
    "sf_counties = sf_counties.to_crs(4326)\n",
    "sf_municipalities = sf_municipalities.to_crs(4326)"
   ]
  },
  {
   "cell_type": "code",
   "execution_count": 43,
   "metadata": {},
   "outputs": [
    {
     "name": "stderr",
     "output_type": "stream",
     "text": [
      "/var/folders/fx/lflfvn0n10963h3v1rgc6nvc0000gn/T/ipykernel_43481/1567522274.py:12: UserWarning: CRS mismatch between the CRS of left geometries and the CRS of right geometries.\n",
      "Use `to_crs()` to reproject one of the input geometries to match the CRS of the other.\n",
      "\n",
      "Left CRS: None\n",
      "Right CRS: EPSG:4326\n",
      "\n",
      "  pointInPolys = gpd.sjoin(gdf, gdf_shape, how='left')\n"
     ]
    }
   ],
   "source": [
    "# Perform geocoding\n",
    "# shapefiles = [sf_federal_states, sf_counties, sf_municipalities]\n",
    "\n",
    "# for shapefile in shapefiles:\n",
    "#     df_germany = conduct_reverse_geocoding(df_germany, shapefile)\n",
    "#     df_germany.drop(columns=[\"Unnamed\",\"index_right\"], inplace=True)\n",
    "\n",
    "df_germany = conduct_reverse_geocoding(df_germany, sf_federal_states)\n"
   ]
  },
  {
   "cell_type": "code",
   "execution_count": 44,
   "metadata": {},
   "outputs": [],
   "source": [
    "# Skip columns that are not needed\n",
    "df_germany.drop(columns=[\"id\", \"schluessel\", \"jahr\", \"ai0106\", \"Shape_Leng\", \"Shape_Area\", \"long\", \"lat\", \"geometry\", \"index_right\"], inplace=True)\n",
    "\n",
    "df_germany.rename(columns={\"gen\":\"federal_state\"}, inplace=True)"
   ]
  },
  {
   "cell_type": "code",
   "execution_count": 45,
   "metadata": {},
   "outputs": [],
   "source": [
    "df_germany.drop(columns=[\"Unnamed: 0\"], inplace=True)"
   ]
  },
  {
   "cell_type": "code",
   "execution_count": 46,
   "metadata": {},
   "outputs": [
    {
     "data": {
      "text/html": [
       "<div>\n",
       "<style scoped>\n",
       "    .dataframe tbody tr th:only-of-type {\n",
       "        vertical-align: middle;\n",
       "    }\n",
       "\n",
       "    .dataframe tbody tr th {\n",
       "        vertical-align: top;\n",
       "    }\n",
       "\n",
       "    .dataframe thead th {\n",
       "        text-align: right;\n",
       "    }\n",
       "</style>\n",
       "<table border=\"1\" class=\"dataframe\">\n",
       "  <thead>\n",
       "    <tr style=\"text-align: right;\">\n",
       "      <th></th>\n",
       "      <th>avg_lat_ms</th>\n",
       "      <th>tests</th>\n",
       "      <th>devices</th>\n",
       "      <th>quarter</th>\n",
       "      <th>category</th>\n",
       "      <th>country</th>\n",
       "      <th>avg_d_mbps</th>\n",
       "      <th>avg_u_mbps</th>\n",
       "      <th>federal_state</th>\n",
       "    </tr>\n",
       "  </thead>\n",
       "  <tbody>\n",
       "    <tr>\n",
       "      <th>0</th>\n",
       "      <td>43</td>\n",
       "      <td>4</td>\n",
       "      <td>2</td>\n",
       "      <td>2019-01-01</td>\n",
       "      <td>fixed</td>\n",
       "      <td>Germany</td>\n",
       "      <td>8</td>\n",
       "      <td>1</td>\n",
       "      <td>Schleswig-Holstein</td>\n",
       "    </tr>\n",
       "    <tr>\n",
       "      <th>1</th>\n",
       "      <td>34</td>\n",
       "      <td>1</td>\n",
       "      <td>1</td>\n",
       "      <td>2019-01-01</td>\n",
       "      <td>fixed</td>\n",
       "      <td>Germany</td>\n",
       "      <td>33</td>\n",
       "      <td>9</td>\n",
       "      <td>Schleswig-Holstein</td>\n",
       "    </tr>\n",
       "    <tr>\n",
       "      <th>2</th>\n",
       "      <td>29</td>\n",
       "      <td>1</td>\n",
       "      <td>1</td>\n",
       "      <td>2019-01-01</td>\n",
       "      <td>fixed</td>\n",
       "      <td>Germany</td>\n",
       "      <td>24</td>\n",
       "      <td>11</td>\n",
       "      <td>Schleswig-Holstein</td>\n",
       "    </tr>\n",
       "    <tr>\n",
       "      <th>3</th>\n",
       "      <td>40</td>\n",
       "      <td>2</td>\n",
       "      <td>1</td>\n",
       "      <td>2019-01-01</td>\n",
       "      <td>fixed</td>\n",
       "      <td>Germany</td>\n",
       "      <td>35</td>\n",
       "      <td>7</td>\n",
       "      <td>Schleswig-Holstein</td>\n",
       "    </tr>\n",
       "    <tr>\n",
       "      <th>4</th>\n",
       "      <td>33</td>\n",
       "      <td>4</td>\n",
       "      <td>3</td>\n",
       "      <td>2019-01-01</td>\n",
       "      <td>fixed</td>\n",
       "      <td>Germany</td>\n",
       "      <td>7</td>\n",
       "      <td>2</td>\n",
       "      <td>Schleswig-Holstein</td>\n",
       "    </tr>\n",
       "  </tbody>\n",
       "</table>\n",
       "</div>"
      ],
      "text/plain": [
       "   avg_lat_ms  tests  devices     quarter category  country  avg_d_mbps  \\\n",
       "0          43      4        2  2019-01-01    fixed  Germany           8   \n",
       "1          34      1        1  2019-01-01    fixed  Germany          33   \n",
       "2          29      1        1  2019-01-01    fixed  Germany          24   \n",
       "3          40      2        1  2019-01-01    fixed  Germany          35   \n",
       "4          33      4        3  2019-01-01    fixed  Germany           7   \n",
       "\n",
       "   avg_u_mbps       federal_state  \n",
       "0           1  Schleswig-Holstein  \n",
       "1           9  Schleswig-Holstein  \n",
       "2          11  Schleswig-Holstein  \n",
       "3           7  Schleswig-Holstein  \n",
       "4           2  Schleswig-Holstein  "
      ]
     },
     "execution_count": 46,
     "metadata": {},
     "output_type": "execute_result"
    }
   ],
   "source": [
    "df_germany.head()"
   ]
  },
  {
   "cell_type": "code",
   "execution_count": 47,
   "metadata": {},
   "outputs": [
    {
     "data": {
      "text/plain": [
       "(5347564, 9)"
      ]
     },
     "execution_count": 47,
     "metadata": {},
     "output_type": "execute_result"
    }
   ],
   "source": [
    "df_germany.shape"
   ]
  },
  {
   "cell_type": "code",
   "execution_count": 48,
   "metadata": {},
   "outputs": [],
   "source": [
    "# save as csv\n",
    "df_germany.to_csv(\"./data/final_data/germany_federal_states.csv\", sep=\";\")"
   ]
  }
 ],
 "metadata": {
  "kernelspec": {
   "display_name": "va-test-project",
   "language": "python",
   "name": "python3"
  },
  "language_info": {
   "codemirror_mode": {
    "name": "ipython",
    "version": 3
   },
   "file_extension": ".py",
   "mimetype": "text/x-python",
   "name": "python",
   "nbconvert_exporter": "python",
   "pygments_lexer": "ipython3",
   "version": "3.10.8"
  },
  "orig_nbformat": 4,
  "vscode": {
   "interpreter": {
    "hash": "1d56db114e6d61ed74044f8f34a7b34e4469a1bd6857ee218f9f79ce82d94d65"
   }
  }
 },
 "nbformat": 4,
 "nbformat_minor": 2
}
